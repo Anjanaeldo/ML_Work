{
 "cells": [
  {
   "cell_type": "code",
   "execution_count": 304,
   "metadata": {},
   "outputs": [],
   "source": [
    "import numpy as np\n",
    "import pandas as pd\n",
    "import matplotlib.pyplot as plt\n",
    "%matplotlib inline\n",
    "import sklearn\n",
    "import statsmodels.api as sm\n",
    "import sklearn.cross_validation\n",
    "\n",
    "from matplotlib import colors\n",
    "import pylab as pl\n",
    "\n",
    "import scipy.stats as stats\n",
    "\n",
    "import seaborn as sns\n",
    "sns.set_style(\"whitegrid\")\n",
    "sns.set_context(\"poster\")\n"
   ]
  },
  {
   "cell_type": "code",
   "execution_count": 305,
   "metadata": {},
   "outputs": [],
   "source": [
    "df = pd.read_csv(\"nj_teachers_salaries_2016 copy.csv\")"
   ]
  },
  {
   "cell_type": "code",
   "execution_count": 306,
   "metadata": {},
   "outputs": [
    {
     "data": {
      "text/html": [
       "<div>\n",
       "<style scoped>\n",
       "    .dataframe tbody tr th:only-of-type {\n",
       "        vertical-align: middle;\n",
       "    }\n",
       "\n",
       "    .dataframe tbody tr th {\n",
       "        vertical-align: top;\n",
       "    }\n",
       "\n",
       "    .dataframe thead th {\n",
       "        text-align: right;\n",
       "    }\n",
       "</style>\n",
       "<table border=\"1\" class=\"dataframe\">\n",
       "  <thead>\n",
       "    <tr style=\"text-align: right;\">\n",
       "      <th></th>\n",
       "      <th>last_name</th>\n",
       "      <th>first_name</th>\n",
       "      <th>county</th>\n",
       "      <th>district</th>\n",
       "      <th>school</th>\n",
       "      <th>primary_job</th>\n",
       "      <th>fte</th>\n",
       "      <th>salary</th>\n",
       "      <th>certificate</th>\n",
       "      <th>subcategory</th>\n",
       "      <th>teaching_route</th>\n",
       "      <th>highly_qualified</th>\n",
       "      <th>experience_district</th>\n",
       "      <th>experience_nj</th>\n",
       "      <th>experience_total</th>\n",
       "    </tr>\n",
       "  </thead>\n",
       "  <tbody>\n",
       "    <tr>\n",
       "      <th>0</th>\n",
       "      <td>Heckman</td>\n",
       "      <td>William</td>\n",
       "      <td>Atlantic</td>\n",
       "      <td>Atlantic City</td>\n",
       "      <td>Pennsylvania Ave School</td>\n",
       "      <td>Mathematics Grades 5 - 8</td>\n",
       "      <td>1.0</td>\n",
       "      <td>98774</td>\n",
       "      <td>Standard certificate</td>\n",
       "      <td>General ed</td>\n",
       "      <td>Traditional</td>\n",
       "      <td>Not highly qualified</td>\n",
       "      <td>13.0</td>\n",
       "      <td>13.0</td>\n",
       "      <td>13.0</td>\n",
       "    </tr>\n",
       "    <tr>\n",
       "      <th>1</th>\n",
       "      <td>Bird</td>\n",
       "      <td>Kelly</td>\n",
       "      <td>Atlantic</td>\n",
       "      <td>Atlantic City</td>\n",
       "      <td>Atlantic City High School</td>\n",
       "      <td>Coordinator Substance Abuse</td>\n",
       "      <td>1.0</td>\n",
       "      <td>118415</td>\n",
       "      <td>Standard certificate</td>\n",
       "      <td>General ed</td>\n",
       "      <td>Traditional</td>\n",
       "      <td>Doesn't need to be highly qualified</td>\n",
       "      <td>16.0</td>\n",
       "      <td>16.0</td>\n",
       "      <td>16.0</td>\n",
       "    </tr>\n",
       "    <tr>\n",
       "      <th>2</th>\n",
       "      <td>Bean</td>\n",
       "      <td>David B</td>\n",
       "      <td>Atlantic</td>\n",
       "      <td>Atlantic City</td>\n",
       "      <td>Atlantic City High School</td>\n",
       "      <td>Health &amp; Physical Education</td>\n",
       "      <td>0.8</td>\n",
       "      <td>98774</td>\n",
       "      <td>Standard certificate</td>\n",
       "      <td>General ed</td>\n",
       "      <td>Traditional</td>\n",
       "      <td>Doesn't need to be highly qualified</td>\n",
       "      <td>13.0</td>\n",
       "      <td>13.0</td>\n",
       "      <td>15.0</td>\n",
       "    </tr>\n",
       "    <tr>\n",
       "      <th>3</th>\n",
       "      <td>Campo</td>\n",
       "      <td>Paula Mia</td>\n",
       "      <td>Atlantic</td>\n",
       "      <td>Atlantic City</td>\n",
       "      <td>Atlantic City High School</td>\n",
       "      <td>Resource Program In-class</td>\n",
       "      <td>1.0</td>\n",
       "      <td>66184</td>\n",
       "      <td>Standard certificate</td>\n",
       "      <td>Special ed</td>\n",
       "      <td>Alternate</td>\n",
       "      <td>Doesn't need to be highly qualified</td>\n",
       "      <td>16.0</td>\n",
       "      <td>16.0</td>\n",
       "      <td>16.0</td>\n",
       "    </tr>\n",
       "    <tr>\n",
       "      <th>4</th>\n",
       "      <td>Adams-meyer</td>\n",
       "      <td>Della L</td>\n",
       "      <td>Atlantic</td>\n",
       "      <td>Atlantic City</td>\n",
       "      <td>Atlantic City High School</td>\n",
       "      <td>School Psychologist</td>\n",
       "      <td>1.0</td>\n",
       "      <td>101866</td>\n",
       "      <td>Standard certificate</td>\n",
       "      <td>General ed</td>\n",
       "      <td>Traditional</td>\n",
       "      <td>Doesn't need to be highly qualified</td>\n",
       "      <td>12.0</td>\n",
       "      <td>12.0</td>\n",
       "      <td>12.0</td>\n",
       "    </tr>\n",
       "  </tbody>\n",
       "</table>\n",
       "</div>"
      ],
      "text/plain": [
       "     last_name  first_name    county       district  \\\n",
       "0      Heckman    William   Atlantic  Atlantic City   \n",
       "1         Bird      Kelly   Atlantic  Atlantic City   \n",
       "2         Bean     David B  Atlantic  Atlantic City   \n",
       "3        Campo  Paula Mia   Atlantic  Atlantic City   \n",
       "4  Adams-meyer     Della L  Atlantic  Atlantic City   \n",
       "\n",
       "                      school                  primary_job  fte  salary  \\\n",
       "0    Pennsylvania Ave School     Mathematics Grades 5 - 8  1.0   98774   \n",
       "1  Atlantic City High School  Coordinator Substance Abuse  1.0  118415   \n",
       "2  Atlantic City High School  Health & Physical Education  0.8   98774   \n",
       "3  Atlantic City High School    Resource Program In-class  1.0   66184   \n",
       "4  Atlantic City High School          School Psychologist  1.0  101866   \n",
       "\n",
       "            certificate subcategory teaching_route  \\\n",
       "0  Standard certificate  General ed    Traditional   \n",
       "1  Standard certificate  General ed    Traditional   \n",
       "2  Standard certificate  General ed    Traditional   \n",
       "3  Standard certificate  Special ed      Alternate   \n",
       "4  Standard certificate  General ed    Traditional   \n",
       "\n",
       "                      highly_qualified  experience_district  experience_nj  \\\n",
       "0                 Not highly qualified                 13.0           13.0   \n",
       "1  Doesn't need to be highly qualified                 16.0           16.0   \n",
       "2  Doesn't need to be highly qualified                 13.0           13.0   \n",
       "3  Doesn't need to be highly qualified                 16.0           16.0   \n",
       "4  Doesn't need to be highly qualified                 12.0           12.0   \n",
       "\n",
       "   experience_total  \n",
       "0              13.0  \n",
       "1              16.0  \n",
       "2              15.0  \n",
       "3              16.0  \n",
       "4              12.0  "
      ]
     },
     "execution_count": 306,
     "metadata": {},
     "output_type": "execute_result"
    }
   ],
   "source": [
    "df.head()"
   ]
  },
  {
   "cell_type": "code",
   "execution_count": 307,
   "metadata": {},
   "outputs": [
    {
     "data": {
      "text/plain": [
       "(138715, 15)"
      ]
     },
     "execution_count": 307,
     "metadata": {},
     "output_type": "execute_result"
    }
   ],
   "source": [
    "df.shape"
   ]
  },
  {
   "cell_type": "code",
   "execution_count": 308,
   "metadata": {},
   "outputs": [],
   "source": [
    "#pd.unique(df['experience_total'])"
   ]
  },
  {
   "cell_type": "markdown",
   "metadata": {},
   "source": [
    "\n",
    "\n",
    "## Data Cleansing and Filtering\n",
    "\n"
   ]
  },
  {
   "cell_type": "code",
   "execution_count": 309,
   "metadata": {},
   "outputs": [],
   "source": [
    "df = df.loc[df['subcategory'].isin(['Special ed'])]"
   ]
  },
  {
   "cell_type": "code",
   "execution_count": 310,
   "metadata": {},
   "outputs": [],
   "source": [
    "df = df.loc[df['primary_job'].isin(['Elementary School Teacher K-5'])]"
   ]
  },
  {
   "cell_type": "code",
   "execution_count": 311,
   "metadata": {},
   "outputs": [],
   "source": [
    "df = df.loc[df['county'].isin(['Bergen'])]"
   ]
  },
  {
   "cell_type": "code",
   "execution_count": 312,
   "metadata": {},
   "outputs": [
    {
     "data": {
      "text/html": [
       "<div>\n",
       "<style scoped>\n",
       "    .dataframe tbody tr th:only-of-type {\n",
       "        vertical-align: middle;\n",
       "    }\n",
       "\n",
       "    .dataframe tbody tr th {\n",
       "        vertical-align: top;\n",
       "    }\n",
       "\n",
       "    .dataframe thead th {\n",
       "        text-align: right;\n",
       "    }\n",
       "</style>\n",
       "<table border=\"1\" class=\"dataframe\">\n",
       "  <thead>\n",
       "    <tr style=\"text-align: right;\">\n",
       "      <th></th>\n",
       "      <th>last_name</th>\n",
       "      <th>first_name</th>\n",
       "      <th>county</th>\n",
       "      <th>district</th>\n",
       "      <th>school</th>\n",
       "      <th>primary_job</th>\n",
       "      <th>fte</th>\n",
       "      <th>salary</th>\n",
       "      <th>certificate</th>\n",
       "      <th>subcategory</th>\n",
       "      <th>teaching_route</th>\n",
       "      <th>highly_qualified</th>\n",
       "      <th>experience_district</th>\n",
       "      <th>experience_nj</th>\n",
       "      <th>experience_total</th>\n",
       "    </tr>\n",
       "  </thead>\n",
       "  <tbody>\n",
       "    <tr>\n",
       "      <th>4768</th>\n",
       "      <td>Cavotto</td>\n",
       "      <td>Suzanne</td>\n",
       "      <td>Bergen</td>\n",
       "      <td>Bergen Co Special Service</td>\n",
       "      <td>Autistic</td>\n",
       "      <td>Elementary School Teacher K-5</td>\n",
       "      <td>1.0</td>\n",
       "      <td>71469</td>\n",
       "      <td>Standard certificate</td>\n",
       "      <td>Special ed</td>\n",
       "      <td>Traditional</td>\n",
       "      <td>Highly qualified. Passed the Praxis/NTE</td>\n",
       "      <td>13.0</td>\n",
       "      <td>13.0</td>\n",
       "      <td>13.0</td>\n",
       "    </tr>\n",
       "    <tr>\n",
       "      <th>4851</th>\n",
       "      <td>Keren</td>\n",
       "      <td>Deena</td>\n",
       "      <td>Bergen</td>\n",
       "      <td>Bergen Co Special Service</td>\n",
       "      <td>Autistic</td>\n",
       "      <td>Elementary School Teacher K-5</td>\n",
       "      <td>1.0</td>\n",
       "      <td>72981</td>\n",
       "      <td>Standard certificate</td>\n",
       "      <td>Special ed</td>\n",
       "      <td>Traditional</td>\n",
       "      <td>Highly qualified. Passed the Praxis/NTE</td>\n",
       "      <td>9.0</td>\n",
       "      <td>11.0</td>\n",
       "      <td>11.0</td>\n",
       "    </tr>\n",
       "    <tr>\n",
       "      <th>4885</th>\n",
       "      <td>Vonende</td>\n",
       "      <td>Nancy B</td>\n",
       "      <td>Bergen</td>\n",
       "      <td>Bergen Co Special Service</td>\n",
       "      <td>Multiply Handicaped</td>\n",
       "      <td>Elementary School Teacher K-5</td>\n",
       "      <td>1.0</td>\n",
       "      <td>81606</td>\n",
       "      <td>Standard certificate</td>\n",
       "      <td>Special ed</td>\n",
       "      <td>Traditional</td>\n",
       "      <td>Highly qualified. Passed the Praxis/NTE</td>\n",
       "      <td>15.0</td>\n",
       "      <td>15.0</td>\n",
       "      <td>15.0</td>\n",
       "    </tr>\n",
       "    <tr>\n",
       "      <th>5451</th>\n",
       "      <td>Nagurka</td>\n",
       "      <td>Chelsea</td>\n",
       "      <td>Bergen</td>\n",
       "      <td>Bogota Boro</td>\n",
       "      <td>E. Roy Bixby</td>\n",
       "      <td>Elementary School Teacher K-5</td>\n",
       "      <td>1.0</td>\n",
       "      <td>49376</td>\n",
       "      <td>Provisional</td>\n",
       "      <td>Special ed</td>\n",
       "      <td>Traditional</td>\n",
       "      <td>Highly qualified. Passed the Praxis/NTE</td>\n",
       "      <td>2.0</td>\n",
       "      <td>2.0</td>\n",
       "      <td>2.0</td>\n",
       "    </tr>\n",
       "    <tr>\n",
       "      <th>5475</th>\n",
       "      <td>Jones</td>\n",
       "      <td>Kelly</td>\n",
       "      <td>Bergen</td>\n",
       "      <td>Bogota Boro</td>\n",
       "      <td>Lillian M. Steen</td>\n",
       "      <td>Elementary School Teacher K-5</td>\n",
       "      <td>1.0</td>\n",
       "      <td>50386</td>\n",
       "      <td>Standard certificate</td>\n",
       "      <td>Special ed</td>\n",
       "      <td>Traditional</td>\n",
       "      <td>Highly qualified. Passed the Praxis/NTE</td>\n",
       "      <td>3.0</td>\n",
       "      <td>3.0</td>\n",
       "      <td>3.0</td>\n",
       "    </tr>\n",
       "    <tr>\n",
       "      <th>6127</th>\n",
       "      <td>Sculco</td>\n",
       "      <td>Carly E</td>\n",
       "      <td>Bergen</td>\n",
       "      <td>Cliffside Park Boro</td>\n",
       "      <td>School #4</td>\n",
       "      <td>Elementary School Teacher K-5</td>\n",
       "      <td>1.0</td>\n",
       "      <td>51950</td>\n",
       "      <td>Standard certificate</td>\n",
       "      <td>Special ed</td>\n",
       "      <td>Traditional</td>\n",
       "      <td>Highly qualified. Passed the Praxis/NTE</td>\n",
       "      <td>4.0</td>\n",
       "      <td>4.0</td>\n",
       "      <td>4.0</td>\n",
       "    </tr>\n",
       "    <tr>\n",
       "      <th>6159</th>\n",
       "      <td>Luderer</td>\n",
       "      <td>Benjamin R</td>\n",
       "      <td>Bergen</td>\n",
       "      <td>Cliffside Park Boro</td>\n",
       "      <td>School #6</td>\n",
       "      <td>Elementary School Teacher K-5</td>\n",
       "      <td>1.0</td>\n",
       "      <td>50350</td>\n",
       "      <td>CEAS</td>\n",
       "      <td>Special ed</td>\n",
       "      <td>Traditional</td>\n",
       "      <td>Highly qualified. Passed the Praxis/NTE</td>\n",
       "      <td>3.0</td>\n",
       "      <td>3.0</td>\n",
       "      <td>3.0</td>\n",
       "    </tr>\n",
       "    <tr>\n",
       "      <th>6162</th>\n",
       "      <td>Ariemma</td>\n",
       "      <td>Alyssa B</td>\n",
       "      <td>Bergen</td>\n",
       "      <td>Cliffside Park Boro</td>\n",
       "      <td>School #6</td>\n",
       "      <td>Elementary School Teacher K-5</td>\n",
       "      <td>1.0</td>\n",
       "      <td>24400</td>\n",
       "      <td>CE</td>\n",
       "      <td>Special ed</td>\n",
       "      <td>Traditional</td>\n",
       "      <td>Highly qualified. Passed the Praxis/NTE</td>\n",
       "      <td>0.0</td>\n",
       "      <td>0.0</td>\n",
       "      <td>0.0</td>\n",
       "    </tr>\n",
       "  </tbody>\n",
       "</table>\n",
       "</div>"
      ],
      "text/plain": [
       "     last_name  first_name  county                   district  \\\n",
       "4768   Cavotto    Suzanne   Bergen  Bergen Co Special Service   \n",
       "4851     Keren      Deena   Bergen  Bergen Co Special Service   \n",
       "4885   Vonende     Nancy B  Bergen  Bergen Co Special Service   \n",
       "5451   Nagurka    Chelsea   Bergen                Bogota Boro   \n",
       "5475     Jones      Kelly   Bergen                Bogota Boro   \n",
       "6127    Sculco     Carly E  Bergen        Cliffside Park Boro   \n",
       "6159   Luderer  Benjamin R  Bergen        Cliffside Park Boro   \n",
       "6162   Ariemma    Alyssa B  Bergen        Cliffside Park Boro   \n",
       "\n",
       "                   school                    primary_job  fte  salary  \\\n",
       "4768             Autistic  Elementary School Teacher K-5  1.0   71469   \n",
       "4851             Autistic  Elementary School Teacher K-5  1.0   72981   \n",
       "4885  Multiply Handicaped  Elementary School Teacher K-5  1.0   81606   \n",
       "5451         E. Roy Bixby  Elementary School Teacher K-5  1.0   49376   \n",
       "5475     Lillian M. Steen  Elementary School Teacher K-5  1.0   50386   \n",
       "6127            School #4  Elementary School Teacher K-5  1.0   51950   \n",
       "6159            School #6  Elementary School Teacher K-5  1.0   50350   \n",
       "6162            School #6  Elementary School Teacher K-5  1.0   24400   \n",
       "\n",
       "               certificate subcategory teaching_route  \\\n",
       "4768  Standard certificate  Special ed    Traditional   \n",
       "4851  Standard certificate  Special ed    Traditional   \n",
       "4885  Standard certificate  Special ed    Traditional   \n",
       "5451           Provisional  Special ed    Traditional   \n",
       "5475  Standard certificate  Special ed    Traditional   \n",
       "6127  Standard certificate  Special ed    Traditional   \n",
       "6159                  CEAS  Special ed    Traditional   \n",
       "6162                    CE  Special ed    Traditional   \n",
       "\n",
       "                             highly_qualified  experience_district  \\\n",
       "4768  Highly qualified. Passed the Praxis/NTE                 13.0   \n",
       "4851  Highly qualified. Passed the Praxis/NTE                  9.0   \n",
       "4885  Highly qualified. Passed the Praxis/NTE                 15.0   \n",
       "5451  Highly qualified. Passed the Praxis/NTE                  2.0   \n",
       "5475  Highly qualified. Passed the Praxis/NTE                  3.0   \n",
       "6127  Highly qualified. Passed the Praxis/NTE                  4.0   \n",
       "6159  Highly qualified. Passed the Praxis/NTE                  3.0   \n",
       "6162  Highly qualified. Passed the Praxis/NTE                  0.0   \n",
       "\n",
       "      experience_nj  experience_total  \n",
       "4768           13.0              13.0  \n",
       "4851           11.0              11.0  \n",
       "4885           15.0              15.0  \n",
       "5451            2.0               2.0  \n",
       "5475            3.0               3.0  \n",
       "6127            4.0               4.0  \n",
       "6159            3.0               3.0  \n",
       "6162            0.0               0.0  "
      ]
     },
     "execution_count": 312,
     "metadata": {},
     "output_type": "execute_result"
    }
   ],
   "source": [
    "salary_data = df.fillna(0)\n",
    "salary_data.head(8)"
   ]
  },
  {
   "cell_type": "code",
   "execution_count": 313,
   "metadata": {},
   "outputs": [
    {
     "data": {
      "text/plain": [
       "(187, 15)"
      ]
     },
     "execution_count": 313,
     "metadata": {},
     "output_type": "execute_result"
    }
   ],
   "source": [
    "salary_data.shape"
   ]
  },
  {
   "cell_type": "markdown",
   "metadata": {},
   "source": [
    "## Prepare data for Salary Vs Experience"
   ]
  },
  {
   "cell_type": "code",
   "execution_count": 314,
   "metadata": {},
   "outputs": [
    {
     "data": {
      "text/html": [
       "<div>\n",
       "<style scoped>\n",
       "    .dataframe tbody tr th:only-of-type {\n",
       "        vertical-align: middle;\n",
       "    }\n",
       "\n",
       "    .dataframe tbody tr th {\n",
       "        vertical-align: top;\n",
       "    }\n",
       "\n",
       "    .dataframe thead th {\n",
       "        text-align: right;\n",
       "    }\n",
       "</style>\n",
       "<table border=\"1\" class=\"dataframe\">\n",
       "  <thead>\n",
       "    <tr style=\"text-align: right;\">\n",
       "      <th></th>\n",
       "      <th>experience_total</th>\n",
       "      <th>salary</th>\n",
       "    </tr>\n",
       "  </thead>\n",
       "  <tbody>\n",
       "    <tr>\n",
       "      <th>4768</th>\n",
       "      <td>13.0</td>\n",
       "      <td>71469</td>\n",
       "    </tr>\n",
       "    <tr>\n",
       "      <th>4851</th>\n",
       "      <td>11.0</td>\n",
       "      <td>72981</td>\n",
       "    </tr>\n",
       "    <tr>\n",
       "      <th>4885</th>\n",
       "      <td>15.0</td>\n",
       "      <td>81606</td>\n",
       "    </tr>\n",
       "    <tr>\n",
       "      <th>5451</th>\n",
       "      <td>2.0</td>\n",
       "      <td>49376</td>\n",
       "    </tr>\n",
       "    <tr>\n",
       "      <th>5475</th>\n",
       "      <td>3.0</td>\n",
       "      <td>50386</td>\n",
       "    </tr>\n",
       "  </tbody>\n",
       "</table>\n",
       "</div>"
      ],
      "text/plain": [
       "      experience_total  salary\n",
       "4768              13.0   71469\n",
       "4851              11.0   72981\n",
       "4885              15.0   81606\n",
       "5451               2.0   49376\n",
       "5475               3.0   50386"
      ]
     },
     "execution_count": 314,
     "metadata": {},
     "output_type": "execute_result"
    }
   ],
   "source": [
    "columns = ['last_name', 'first_name', 'county', 'district', 'school','primary_job', 'fte', \n",
    "       'certificate', 'subcategory','teaching_route', 'highly_qualified', 'experience_district',\n",
    "       'experience_nj']\n",
    "#remove white spaces in columns names:\n",
    "salary_data.columns = salary_data.columns.str.strip()\n",
    "\n",
    "#drop unwated columns:\n",
    "salary_data.drop(columns, inplace=True, axis=1)\n",
    "salary_data = salary_data[['experience_total','salary']]\n",
    "salary_data.head()\n",
    "\n"
   ]
  },
  {
   "cell_type": "code",
   "execution_count": 315,
   "metadata": {},
   "outputs": [],
   "source": [
    "\n",
    "y = salary_data.iloc[:, -1].values\n",
    "X = salary_data.iloc[:, :-1].values\n",
    "#print(y) --salary\n"
   ]
  },
  {
   "cell_type": "code",
   "execution_count": 316,
   "metadata": {},
   "outputs": [],
   "source": [
    "from sklearn.cross_validation import train_test_split"
   ]
  },
  {
   "cell_type": "markdown",
   "metadata": {},
   "source": [
    "\n",
    "\n",
    "### Splitting into train and test \n"
   ]
  },
  {
   "cell_type": "code",
   "execution_count": 317,
   "metadata": {},
   "outputs": [
    {
     "name": "stdout",
     "output_type": "stream",
     "text": [
      "(149, 1)\n",
      "(38, 1)\n",
      "(149,)\n",
      "(38,)\n"
     ]
    }
   ],
   "source": [
    "X_train, X_test, y_train, y_test = train_test_split(X, y, test_size = 0.2)\n",
    "print(X_train.shape)\n",
    "print(X_test.shape)\n",
    "print(y_train.shape)\n",
    "print(y_test.shape)"
   ]
  },
  {
   "cell_type": "code",
   "execution_count": 318,
   "metadata": {},
   "outputs": [],
   "source": [
    "from sklearn.linear_model import LinearRegression, Ridge"
   ]
  },
  {
   "cell_type": "markdown",
   "metadata": {},
   "source": [
    "### Applying Linear Regression"
   ]
  },
  {
   "cell_type": "code",
   "execution_count": 319,
   "metadata": {},
   "outputs": [
    {
     "data": {
      "text/plain": [
       "LinearRegression(copy_X=True, fit_intercept=True, n_jobs=1, normalize=False)"
      ]
     },
     "execution_count": 319,
     "metadata": {},
     "output_type": "execute_result"
    }
   ],
   "source": [
    "lRegressor = LinearRegression()\n",
    "lRegressor.fit(X_train, y_train)"
   ]
  },
  {
   "cell_type": "code",
   "execution_count": 320,
   "metadata": {},
   "outputs": [],
   "source": [
    "pred_1 = lRegressor.predict(X_test)\n"
   ]
  },
  {
   "cell_type": "code",
   "execution_count": 321,
   "metadata": {},
   "outputs": [],
   "source": [
    "#print(\"R^2 score for Linear Regression: \", lRegressor.score(X_test, y_test))"
   ]
  },
  {
   "cell_type": "markdown",
   "metadata": {},
   "source": [
    "## Scatter Plot - Salary vs Experience"
   ]
  },
  {
   "cell_type": "code",
   "execution_count": 322,
   "metadata": {},
   "outputs": [
    {
     "data": {
      "image/png": "[encoded data removed]",
      "text/plain": [
       "<Figure size 640x480 with 1 Axes>"
      ]
     },
     "metadata": {},
     "output_type": "display_data"
    }
   ],
   "source": [
    "from matplotlib.pyplot import figure\n",
    "\n",
    "figure(num=None, figsize=(8, 6), dpi=80, facecolor='w', edgecolor='k')\n",
    "\n",
    "plt.scatter(X_test, y_test, c='g')\n",
    "#plt.scatter(X_train, y_train)\n",
    "plt.plot(X_test, pred_1, c='r')\n",
    "plt.title(\"Linear Regression - Regressor\")\n",
    "plt.xlabel(\"Years-experience\")\n",
    "plt.ylabel(\"Salary  in $\")\n",
    "plt.show()\n"
   ]
  },
  {
   "cell_type": "markdown",
   "metadata": {},
   "source": [
    "### Calculate Coefficients, Mean Squared error and Variance score - Salary vs Experience"
   ]
  },
  {
   "cell_type": "code",
   "execution_count": 323,
   "metadata": {},
   "outputs": [
    {
     "name": "stdout",
     "output_type": "stream",
     "text": [
      "Coefficients:  [2034.2927237]\n",
      "Mean squared error: 150394682.98\n",
      "Variance score: 0.63\n"
     ]
    }
   ],
   "source": [
    "from sklearn.metrics import mean_squared_error, r2_score\n",
    "# The coefficients\n",
    "print('Coefficients: ', lRegressor.coef_)\n",
    "# The mean squared error\n",
    "print(\"Mean squared error: %.2f\"\n",
    "      % mean_squared_error(y_test, pred_1))\n",
    "# Explained variance score: 1 is perfect prediction\n",
    "print('Variance score: %.2f' % r2_score(y_test, pred_1))\n",
    "  "
   ]
  },
  {
   "cell_type": "markdown",
   "metadata": {},
   "source": [
    "### Dist plotting"
   ]
  },
  {
   "cell_type": "code",
   "execution_count": 324,
   "metadata": {},
   "outputs": [
    {
     "name": "stderr",
     "output_type": "stream",
     "text": [
      "/anaconda3/lib/python3.6/site-packages/matplotlib/axes/_axes.py:6462: UserWarning: The 'normed' kwarg is deprecated, and has been replaced by the 'density' kwarg.\n",
      "  warnings.warn(\"The 'normed' kwarg is deprecated, and has been \"\n"
     ]
    },
    {
     "data": {
      "text/plain": [
       "<matplotlib.axes._subplots.AxesSubplot at 0x1c2a4734e0>"
      ]
     },
     "execution_count": 324,
     "metadata": {},
     "output_type": "execute_result"
    },
    {
     "data": {
      "image/png": "[encoded data removed]",
      "text/plain": [
       "<Figure size 432x288 with 1 Axes>"
      ]
     },
     "metadata": {},
     "output_type": "display_data"
    }
   ],
   "source": [
    "sns.distplot((Y_test1-Y_pred_sal))"
   ]
  },
  {
   "cell_type": "markdown",
   "metadata": {},
   "source": [
    "\n",
    "\n",
    "## Data Pre-processing for  Salary vs District"
   ]
  },
  {
   "cell_type": "code",
   "execution_count": 325,
   "metadata": {
    "scrolled": true
   },
   "outputs": [],
   "source": [
    "\n",
    "\n",
    "### For Filtering by District in a County\n",
    "\n",
    "#df = df.loc[df['county'].isin(['Bergen'])]\n",
    "\n",
    "exp_dis_data = df\n",
    "\n",
    "rem_columns = ['last_name', 'first_name', 'county','school','primary_job', 'fte', \n",
    "       'certificate', 'subcategory','teaching_route', 'highly_qualified', 'experience_district',\n",
    "       'experience_nj']\n",
    "#remove white spaces in columns names:\n",
    "exp_dis_data.columns = exp_dis_data.columns.str.strip()\n",
    "\n",
    "#drop unwated columns:\n",
    "exp_dis_data.drop(rem_columns, inplace=True, axis=1)\n",
    "exp_dis_data = exp_dis_data[['salary','district','experience_total']]\n",
    "exp_dis_data.head()\n",
    "\n",
    "exp_dis_data.district = pd.Categorical(exp_dis_data.district)\n",
    "exp_dis_data['district_code'] = exp_dis_data.district.cat.codes\n",
    "exp_dis_data.head()\n",
    "\n",
    "\n",
    "\n",
    "col=['district']\n",
    "dis_exp = exp_dis_data\n",
    "dis_exp.drop(col,inplace=True,axis=1)\n",
    "dis_exp = dis_exp[['district_code','experience_total','salary']]\n",
    "\n",
    "dis_exp.head()\n",
    "\n",
    "col=['experience_total']\n",
    "district_data = exp_dis_data\n",
    "district_data.drop(col,inplace=True,axis=1)\n",
    "district_data.head()\n",
    "\n",
    "\n",
    "from sklearn.linear_model import LinearRegression\n",
    "\n",
    "dis_x = district_data.drop('salary', axis = 1)\n",
    "dis_y = district_data['salary']\n",
    "#print(dis_y)\n",
    "\n",
    "from sklearn.cross_validation import train_test_split\n",
    "\n",
    "X_dis_train, X_dis_test, y_dis_train, y_dis_test = train_test_split(dis_x, dis_y, test_size = 0.2)\n",
    "# print(X_dis_train.shape)\n",
    "# print(X_dis_test.shape)\n",
    "# print(y_dis_train.shape)\n",
    "# print(y_dis_test.shape)\n",
    "\n",
    "lRegressor_dis = LinearRegression()\n",
    "lRegressor_dis.fit(X_dis_train, y_dis_train)\n",
    "\n",
    "pred_dis = lRegressor_dis.predict(X_dis_test)\n",
    "\n",
    "\n",
    "\n"
   ]
  },
  {
   "cell_type": "markdown",
   "metadata": {},
   "source": [
    "## Scatter Plot - Predict Salary using District"
   ]
  },
  {
   "cell_type": "code",
   "execution_count": 326,
   "metadata": {},
   "outputs": [
    {
     "data": {
      "image/png": "[encoded data removed]",
      "text/plain": [
       "<Figure size 640x480 with 1 Axes>"
      ]
     },
     "metadata": {},
     "output_type": "display_data"
    }
   ],
   "source": [
    "from matplotlib.pyplot import figure\n",
    "\n",
    "figure(num=None, figsize=(8, 6), dpi=80, facecolor='w', edgecolor='k')\n",
    "\n",
    "plt.scatter(X_dis_test, y_dis_test, c='g')\n",
    "#plt.scatter(X_train, y_train)\n",
    "plt.plot(X_dis_test, pred_dis, c='r')\n",
    "plt.title(\"Linear Regression - Salary vs District\")\n",
    "plt.xlabel(\"District\")\n",
    "plt.ylabel(\"Salary in $\")\n",
    "plt.show()"
   ]
  },
  {
   "cell_type": "markdown",
   "metadata": {},
   "source": [
    "### Calculate Coefficients, Mean Squared error and Variance score - Salary Vs District"
   ]
  },
  {
   "cell_type": "code",
   "execution_count": 327,
   "metadata": {},
   "outputs": [
    {
     "name": "stdout",
     "output_type": "stream",
     "text": [
      "Coefficients:  [410.08670548]\n",
      "Mean squared error: 481250461.50\n",
      "Variance score: -0.11\n"
     ]
    }
   ],
   "source": [
    "from sklearn.metrics import mean_squared_error, r2_score\n",
    "# The coefficients\n",
    "print('Coefficients: ', lRegressor_dis.coef_)\n",
    "# The mean squared error\n",
    "print(\"Mean squared error: %.2f\"\n",
    "      % mean_squared_error(y_dis_test, pred_dis))\n",
    "# Explained variance score: 1 is perfect prediction\n",
    "print('Variance score: %.2f' % r2_score(y_dis_test, pred_dis))\n",
    "#print(\"R^2 score for Linear Regression: \", lRegressor_dis.score(y_dis_test, pred_dis))"
   ]
  },
  {
   "cell_type": "markdown",
   "metadata": {},
   "source": [
    "## Prepare data for Predicting Salary using Experience & District"
   ]
  },
  {
   "cell_type": "code",
   "execution_count": 328,
   "metadata": {},
   "outputs": [],
   "source": [
    "from sklearn.linear_model import LinearRegression\n",
    "\n",
    "dis_exp_x = dis_exp.drop('salary', axis = 1)\n",
    "mul_y = dis_exp['salary']\n",
    "#print(dis_y)\n",
    "\n",
    "from sklearn.cross_validation import train_test_split\n",
    "\n",
    "X_mul_train, X_mul_test, y_mul_train, y_mul_test = train_test_split(dis_exp_x, mul_y, test_size = 0.2)\n",
    "# print(X_mul_train.shape)\n",
    "# print(X_mul_test.shape)\n",
    "# print(y_mul_train.shape)\n",
    "# print(y_mul_test.shape)\n",
    "\n",
    "\n",
    "lRegressor_mul = LinearRegression()\n",
    "lRegressor_mul.fit(X_mul_train, y_mul_train)\n",
    "\n",
    "pred_mul = lRegressor_mul.predict(X_mul_test)\n",
    "\n"
   ]
  },
  {
   "cell_type": "code",
   "execution_count": 329,
   "metadata": {},
   "outputs": [
    {
     "data": {
      "image/png": "[encoded data removed]",
      "text/plain": [
       "<Figure size 800x640 with 1 Axes>"
      ]
     },
     "metadata": {},
     "output_type": "display_data"
    }
   ],
   "source": [
    "from matplotlib.pyplot import figure\n",
    "\n",
    "figure(num=None, figsize=(10, 8), dpi=80, facecolor='w', edgecolor='k')\n",
    "\n",
    "plt.scatter(y_mul_test, pred_mul, c='g')\n",
    "#plt.scatter(X_train, y_train)\n",
    "#plt.plot(X_dis_test, pred_mul, c='r')\n",
    "plt.title(\"Linear Regression - Salary vs Experience, District\")\n",
    "plt.xlabel(\"Salary\")\n",
    "plt.ylabel(\"Predicted Salary in $\")\n",
    "plt.show()\n",
    "\n",
    "# mse = sklearn.metrics.mean_squared_error(y_mul_test, pred_mul)\n",
    "# print(mse)\n",
    "\n",
    "# print('R-Square:',metrics.explained_variance_score(y_mul_test,pred_mul))"
   ]
  },
  {
   "cell_type": "markdown",
   "metadata": {},
   "source": [
    "### Calculate Coefficients, Mean Squared error and Variance score - Salary Vs District, Experience"
   ]
  },
  {
   "cell_type": "code",
   "execution_count": 330,
   "metadata": {},
   "outputs": [
    {
     "name": "stdout",
     "output_type": "stream",
     "text": [
      "Coefficients:  [  44.88393654 1889.47501351]\n",
      "Mean squared error: 243111794.33\n",
      "Variance score: 0.55\n"
     ]
    }
   ],
   "source": [
    "from sklearn.metrics import mean_squared_error, r2_score\n",
    "# The coefficients\n",
    "print('Coefficients: ', lRegressor_mul.coef_)\n",
    "# The mean squared error\n",
    "print(\"Mean squared error: %.2f\"\n",
    "      % mean_squared_error(y_mul_test, pred_mul))\n",
    "# Explained variance score: 1 is perfect prediction\n",
    "print('Variance score: %.2f' % r2_score(y_mul_test, pred_mul))"
   ]
  },
  {
   "cell_type": "code",
   "execution_count": null,
   "metadata": {},
   "outputs": [],
   "source": []
  }
 ],
 "metadata": {
  "kernelspec": {
   "display_name": "Python 3",
   "language": "python",
   "name": "python3"
  },
  "language_info": {
   "codemirror_mode": {
    "name": "ipython",
    "version": 3
   },
   "file_extension": ".py",
   "mimetype": "text/x-python",
   "name": "python",
   "nbconvert_exporter": "python",
   "pygments_lexer": "ipython3",
   "version": "3.6.5"
  }
 },
 "nbformat": 4,
 "nbformat_minor": 2
}
