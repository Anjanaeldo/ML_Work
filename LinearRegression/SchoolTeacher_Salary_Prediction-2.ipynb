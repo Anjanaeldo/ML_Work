{
 "cells": [
  {
   "cell_type": "code",
   "execution_count": 2,
   "metadata": {},
   "outputs": [
    {
     "name": "stderr",
     "output_type": "stream",
     "text": [
      "/anaconda3/lib/python3.6/site-packages/sklearn/cross_validation.py:41: DeprecationWarning: This module was deprecated in version 0.18 in favor of the model_selection module into which all the refactored classes and functions are moved. Also note that the interface of the new CV iterators are different from that of this module. This module will be removed in 0.20.\n",
      "  \"This module will be removed in 0.20.\", DeprecationWarning)\n"
     ]
    }
   ],
   "source": [
    "import numpy as np\n",
    "import pandas as pd\n",
    "import matplotlib.pyplot as plt\n",
    "%matplotlib inline\n",
    "import sklearn\n",
    "import statsmodels.api as sm\n",
    "import sklearn.cross_validation\n",
    "\n",
    "from matplotlib import colors\n",
    "import pylab as pl\n",
    "\n",
    "import scipy.stats as stats\n",
    "\n",
    "import seaborn as sns\n",
    "sns.set_style(\"whitegrid\")\n",
    "sns.set_context(\"poster\")\n",
    "\n",
    "#special matplotlib argument for improved plots\n",
    "from matplotlib import rcParams\n"
   ]
  },
  {
   "cell_type": "code",
   "execution_count": 3,
   "metadata": {},
   "outputs": [],
   "source": [
    "df = pd.read_csv(\"nj_teachers_salaries_2016 copy.csv\")"
   ]
  },
  {
   "cell_type": "code",
   "execution_count": 4,
   "metadata": {},
   "outputs": [
    {
     "data": {
      "text/html": [
       "<div>\n",
       "<style scoped>\n",
       "    .dataframe tbody tr th:only-of-type {\n",
       "        vertical-align: middle;\n",
       "    }\n",
       "\n",
       "    .dataframe tbody tr th {\n",
       "        vertical-align: top;\n",
       "    }\n",
       "\n",
       "    .dataframe thead th {\n",
       "        text-align: right;\n",
       "    }\n",
       "</style>\n",
       "<table border=\"1\" class=\"dataframe\">\n",
       "  <thead>\n",
       "    <tr style=\"text-align: right;\">\n",
       "      <th></th>\n",
       "      <th>last_name</th>\n",
       "      <th>first_name</th>\n",
       "      <th>county</th>\n",
       "      <th>district</th>\n",
       "      <th>school</th>\n",
       "      <th>primary_job</th>\n",
       "      <th>fte</th>\n",
       "      <th>salary</th>\n",
       "      <th>certificate</th>\n",
       "      <th>subcategory</th>\n",
       "      <th>teaching_route</th>\n",
       "      <th>highly_qualified</th>\n",
       "      <th>experience_district</th>\n",
       "      <th>experience_nj</th>\n",
       "      <th>experience_total</th>\n",
       "    </tr>\n",
       "  </thead>\n",
       "  <tbody>\n",
       "    <tr>\n",
       "      <th>0</th>\n",
       "      <td>Heckman</td>\n",
       "      <td>William</td>\n",
       "      <td>Atlantic</td>\n",
       "      <td>Atlantic City</td>\n",
       "      <td>Pennsylvania Ave School</td>\n",
       "      <td>Mathematics Grades 5 - 8</td>\n",
       "      <td>1.0</td>\n",
       "      <td>98774</td>\n",
       "      <td>Standard certificate</td>\n",
       "      <td>General ed</td>\n",
       "      <td>Traditional</td>\n",
       "      <td>Not highly qualified</td>\n",
       "      <td>13.0</td>\n",
       "      <td>13.0</td>\n",
       "      <td>13.0</td>\n",
       "    </tr>\n",
       "    <tr>\n",
       "      <th>1</th>\n",
       "      <td>Bird</td>\n",
       "      <td>Kelly</td>\n",
       "      <td>Atlantic</td>\n",
       "      <td>Atlantic City</td>\n",
       "      <td>Atlantic City High School</td>\n",
       "      <td>Coordinator Substance Abuse</td>\n",
       "      <td>1.0</td>\n",
       "      <td>118415</td>\n",
       "      <td>Standard certificate</td>\n",
       "      <td>General ed</td>\n",
       "      <td>Traditional</td>\n",
       "      <td>Doesn't need to be highly qualified</td>\n",
       "      <td>16.0</td>\n",
       "      <td>16.0</td>\n",
       "      <td>16.0</td>\n",
       "    </tr>\n",
       "    <tr>\n",
       "      <th>2</th>\n",
       "      <td>Bean</td>\n",
       "      <td>David B</td>\n",
       "      <td>Atlantic</td>\n",
       "      <td>Atlantic City</td>\n",
       "      <td>Atlantic City High School</td>\n",
       "      <td>Health &amp; Physical Education</td>\n",
       "      <td>0.8</td>\n",
       "      <td>98774</td>\n",
       "      <td>Standard certificate</td>\n",
       "      <td>General ed</td>\n",
       "      <td>Traditional</td>\n",
       "      <td>Doesn't need to be highly qualified</td>\n",
       "      <td>13.0</td>\n",
       "      <td>13.0</td>\n",
       "      <td>15.0</td>\n",
       "    </tr>\n",
       "    <tr>\n",
       "      <th>3</th>\n",
       "      <td>Campo</td>\n",
       "      <td>Paula Mia</td>\n",
       "      <td>Atlantic</td>\n",
       "      <td>Atlantic City</td>\n",
       "      <td>Atlantic City High School</td>\n",
       "      <td>Resource Program In-class</td>\n",
       "      <td>1.0</td>\n",
       "      <td>66184</td>\n",
       "      <td>Standard certificate</td>\n",
       "      <td>Special ed</td>\n",
       "      <td>Alternate</td>\n",
       "      <td>Doesn't need to be highly qualified</td>\n",
       "      <td>16.0</td>\n",
       "      <td>16.0</td>\n",
       "      <td>16.0</td>\n",
       "    </tr>\n",
       "    <tr>\n",
       "      <th>4</th>\n",
       "      <td>Adams-meyer</td>\n",
       "      <td>Della L</td>\n",
       "      <td>Atlantic</td>\n",
       "      <td>Atlantic City</td>\n",
       "      <td>Atlantic City High School</td>\n",
       "      <td>School Psychologist</td>\n",
       "      <td>1.0</td>\n",
       "      <td>101866</td>\n",
       "      <td>Standard certificate</td>\n",
       "      <td>General ed</td>\n",
       "      <td>Traditional</td>\n",
       "      <td>Doesn't need to be highly qualified</td>\n",
       "      <td>12.0</td>\n",
       "      <td>12.0</td>\n",
       "      <td>12.0</td>\n",
       "    </tr>\n",
       "  </tbody>\n",
       "</table>\n",
       "</div>"
      ],
      "text/plain": [
       "     last_name  first_name    county       district  \\\n",
       "0      Heckman    William   Atlantic  Atlantic City   \n",
       "1         Bird      Kelly   Atlantic  Atlantic City   \n",
       "2         Bean     David B  Atlantic  Atlantic City   \n",
       "3        Campo  Paula Mia   Atlantic  Atlantic City   \n",
       "4  Adams-meyer     Della L  Atlantic  Atlantic City   \n",
       "\n",
       "                      school                  primary_job  fte  salary  \\\n",
       "0    Pennsylvania Ave School     Mathematics Grades 5 - 8  1.0   98774   \n",
       "1  Atlantic City High School  Coordinator Substance Abuse  1.0  118415   \n",
       "2  Atlantic City High School  Health & Physical Education  0.8   98774   \n",
       "3  Atlantic City High School    Resource Program In-class  1.0   66184   \n",
       "4  Atlantic City High School          School Psychologist  1.0  101866   \n",
       "\n",
       "            certificate subcategory teaching_route  \\\n",
       "0  Standard certificate  General ed    Traditional   \n",
       "1  Standard certificate  General ed    Traditional   \n",
       "2  Standard certificate  General ed    Traditional   \n",
       "3  Standard certificate  Special ed      Alternate   \n",
       "4  Standard certificate  General ed    Traditional   \n",
       "\n",
       "                      highly_qualified  experience_district  experience_nj  \\\n",
       "0                 Not highly qualified                 13.0           13.0   \n",
       "1  Doesn't need to be highly qualified                 16.0           16.0   \n",
       "2  Doesn't need to be highly qualified                 13.0           13.0   \n",
       "3  Doesn't need to be highly qualified                 16.0           16.0   \n",
       "4  Doesn't need to be highly qualified                 12.0           12.0   \n",
       "\n",
       "   experience_total  \n",
       "0              13.0  \n",
       "1              16.0  \n",
       "2              15.0  \n",
       "3              16.0  \n",
       "4              12.0  "
      ]
     },
     "execution_count": 4,
     "metadata": {},
     "output_type": "execute_result"
    }
   ],
   "source": [
    "df.head()"
   ]
  },
  {
   "cell_type": "code",
   "execution_count": 5,
   "metadata": {},
   "outputs": [
    {
     "data": {
      "text/plain": [
       "(138715, 15)"
      ]
     },
     "execution_count": 5,
     "metadata": {},
     "output_type": "execute_result"
    }
   ],
   "source": [
    "df.shape"
   ]
  },
  {
   "cell_type": "code",
   "execution_count": 6,
   "metadata": {},
   "outputs": [
    {
     "data": {
      "text/plain": [
       "array([13., 16., 15., 12., 38.,  4., 11.,  0., 18.,  7., 23., 10.,  3.,\n",
       "        8.,  9.,  1., 32.,  6., 31., 14., 19., 21., 27., 28., 24., 22.,\n",
       "       17.,  5., 30., nan, 40., 35., 39., 25., 34., 36., 20., 26.,  2.,\n",
       "       44., 29., 41., 43., 37., 42., 33., 46., 50., 48., 47., 45., 54.,\n",
       "       56., 53., 49., 60., 52., 58., 62., 51., 55.])"
      ]
     },
     "execution_count": 6,
     "metadata": {},
     "output_type": "execute_result"
    }
   ],
   "source": [
    "\n",
    "pd.unique(df['experience_total'])\n"
   ]
  },
  {
   "cell_type": "markdown",
   "metadata": {},
   "source": [
    "\n",
    "\n",
    "## Data Cleansing and Filtering\n",
    "\n"
   ]
  },
  {
   "cell_type": "code",
   "execution_count": 7,
   "metadata": {},
   "outputs": [],
   "source": [
    "df = df.loc[df['subcategory'].isin(['Special ed'])]"
   ]
  },
  {
   "cell_type": "code",
   "execution_count": 8,
   "metadata": {},
   "outputs": [],
   "source": [
    "df = df.loc[df['primary_job'].isin(['Elementary School Teacher K-5'])]"
   ]
  },
  {
   "cell_type": "code",
   "execution_count": 9,
   "metadata": {},
   "outputs": [],
   "source": [
    "#df = df.loc[df['county'].isin(['Bergen'])]"
   ]
  },
  {
   "cell_type": "code",
   "execution_count": 10,
   "metadata": {},
   "outputs": [],
   "source": [
    "#df = df.loc[df['experience_total'].isin(['1','2','3','4','5','6','7','8','9','10','11','12','13','14','15','16','17','18','19','20'])]"
   ]
  },
  {
   "cell_type": "code",
   "execution_count": 11,
   "metadata": {},
   "outputs": [
    {
     "data": {
      "text/html": [
       "<div>\n",
       "<style scoped>\n",
       "    .dataframe tbody tr th:only-of-type {\n",
       "        vertical-align: middle;\n",
       "    }\n",
       "\n",
       "    .dataframe tbody tr th {\n",
       "        vertical-align: top;\n",
       "    }\n",
       "\n",
       "    .dataframe thead th {\n",
       "        text-align: right;\n",
       "    }\n",
       "</style>\n",
       "<table border=\"1\" class=\"dataframe\">\n",
       "  <thead>\n",
       "    <tr style=\"text-align: right;\">\n",
       "      <th></th>\n",
       "      <th>last_name</th>\n",
       "      <th>first_name</th>\n",
       "      <th>county</th>\n",
       "      <th>district</th>\n",
       "      <th>school</th>\n",
       "      <th>primary_job</th>\n",
       "      <th>fte</th>\n",
       "      <th>salary</th>\n",
       "      <th>certificate</th>\n",
       "      <th>subcategory</th>\n",
       "      <th>teaching_route</th>\n",
       "      <th>highly_qualified</th>\n",
       "      <th>experience_district</th>\n",
       "      <th>experience_nj</th>\n",
       "      <th>experience_total</th>\n",
       "    </tr>\n",
       "  </thead>\n",
       "  <tbody>\n",
       "    <tr>\n",
       "      <th>348</th>\n",
       "      <td>Gatti</td>\n",
       "      <td>Gina M</td>\n",
       "      <td>Atlantic</td>\n",
       "      <td>Atlantic City</td>\n",
       "      <td>New York Avenue School</td>\n",
       "      <td>Elementary School Teacher K-5</td>\n",
       "      <td>1.0</td>\n",
       "      <td>52107</td>\n",
       "      <td>Standard certificate</td>\n",
       "      <td>Special ed</td>\n",
       "      <td>Traditional</td>\n",
       "      <td>Highly qualified. Passed the Praxis/NTE</td>\n",
       "      <td>1.0</td>\n",
       "      <td>1.0</td>\n",
       "      <td>1.0</td>\n",
       "    </tr>\n",
       "    <tr>\n",
       "      <th>355</th>\n",
       "      <td>Gehringer</td>\n",
       "      <td>Sandy</td>\n",
       "      <td>Atlantic</td>\n",
       "      <td>Atlantic City</td>\n",
       "      <td>Pennsylvania Ave School</td>\n",
       "      <td>Elementary School Teacher K-5</td>\n",
       "      <td>1.0</td>\n",
       "      <td>55378</td>\n",
       "      <td>Standard certificate</td>\n",
       "      <td>Special ed</td>\n",
       "      <td>Traditional</td>\n",
       "      <td>Highly qualified. Passed the Praxis/NTE</td>\n",
       "      <td>3.0</td>\n",
       "      <td>3.0</td>\n",
       "      <td>3.0</td>\n",
       "    </tr>\n",
       "    <tr>\n",
       "      <th>416</th>\n",
       "      <td>Kha</td>\n",
       "      <td>Rena</td>\n",
       "      <td>Atlantic</td>\n",
       "      <td>Atlantic City</td>\n",
       "      <td>Uptown School Complex</td>\n",
       "      <td>Elementary School Teacher K-5</td>\n",
       "      <td>1.0</td>\n",
       "      <td>67095</td>\n",
       "      <td>Standard certificate</td>\n",
       "      <td>Special ed</td>\n",
       "      <td>Alternate</td>\n",
       "      <td>Highly qualified. Passed the Praxis/NTE</td>\n",
       "      <td>9.0</td>\n",
       "      <td>9.0</td>\n",
       "      <td>9.0</td>\n",
       "    </tr>\n",
       "    <tr>\n",
       "      <th>423</th>\n",
       "      <td>Robinson</td>\n",
       "      <td>Stacey</td>\n",
       "      <td>Atlantic</td>\n",
       "      <td>Atlantic City</td>\n",
       "      <td>New York Avenue School</td>\n",
       "      <td>Elementary School Teacher K-5</td>\n",
       "      <td>1.0</td>\n",
       "      <td>73792</td>\n",
       "      <td>Standard certificate</td>\n",
       "      <td>Special ed</td>\n",
       "      <td>Alternate</td>\n",
       "      <td>Highly qualified. Passed the Praxis/NTE</td>\n",
       "      <td>9.0</td>\n",
       "      <td>9.0</td>\n",
       "      <td>9.0</td>\n",
       "    </tr>\n",
       "    <tr>\n",
       "      <th>510</th>\n",
       "      <td>Campana</td>\n",
       "      <td>Sandy E</td>\n",
       "      <td>Atlantic</td>\n",
       "      <td>Atlantic City</td>\n",
       "      <td>Richmond Avenue School</td>\n",
       "      <td>Elementary School Teacher K-5</td>\n",
       "      <td>1.0</td>\n",
       "      <td>58811</td>\n",
       "      <td>Standard certificate</td>\n",
       "      <td>Special ed</td>\n",
       "      <td>Traditional</td>\n",
       "      <td>Highly qualified. Passed the Praxis/NTE</td>\n",
       "      <td>7.0</td>\n",
       "      <td>7.0</td>\n",
       "      <td>7.0</td>\n",
       "    </tr>\n",
       "    <tr>\n",
       "      <th>638</th>\n",
       "      <td>Sanderlin</td>\n",
       "      <td>Tomeka</td>\n",
       "      <td>Atlantic</td>\n",
       "      <td>Atlantic City</td>\n",
       "      <td>Dr Martin Luther King Jr School Complex</td>\n",
       "      <td>Elementary School Teacher K-5</td>\n",
       "      <td>1.0</td>\n",
       "      <td>55696</td>\n",
       "      <td>Standard certificate</td>\n",
       "      <td>Special ed</td>\n",
       "      <td>Traditional</td>\n",
       "      <td>Highly qualified. Passed the Praxis/NTE</td>\n",
       "      <td>3.0</td>\n",
       "      <td>3.0</td>\n",
       "      <td>3.0</td>\n",
       "    </tr>\n",
       "    <tr>\n",
       "      <th>755</th>\n",
       "      <td>Llerena Jr</td>\n",
       "      <td>Hugo</td>\n",
       "      <td>Atlantic</td>\n",
       "      <td>Atlantic City</td>\n",
       "      <td>Richmond Avenue School</td>\n",
       "      <td>Elementary School Teacher K-5</td>\n",
       "      <td>1.0</td>\n",
       "      <td>54218</td>\n",
       "      <td>Standard certificate</td>\n",
       "      <td>Special ed</td>\n",
       "      <td>Alternate</td>\n",
       "      <td>Highly qualified. Has gradate or undergraduate...</td>\n",
       "      <td>4.0</td>\n",
       "      <td>4.0</td>\n",
       "      <td>4.0</td>\n",
       "    </tr>\n",
       "    <tr>\n",
       "      <th>1138</th>\n",
       "      <td>Serino</td>\n",
       "      <td>Peter C</td>\n",
       "      <td>Atlantic</td>\n",
       "      <td>Brigantine City</td>\n",
       "      <td>Brigantine Elementary School</td>\n",
       "      <td>Elementary School Teacher K-5</td>\n",
       "      <td>1.0</td>\n",
       "      <td>92409</td>\n",
       "      <td>Standard certificate</td>\n",
       "      <td>Special ed</td>\n",
       "      <td>Traditional</td>\n",
       "      <td>Highly qualified. Passed the Praxis/NTE</td>\n",
       "      <td>31.0</td>\n",
       "      <td>31.0</td>\n",
       "      <td>31.0</td>\n",
       "    </tr>\n",
       "  </tbody>\n",
       "</table>\n",
       "</div>"
      ],
      "text/plain": [
       "       last_name first_name    county         district  \\\n",
       "348        Gatti     Gina M  Atlantic    Atlantic City   \n",
       "355    Gehringer     Sandy   Atlantic    Atlantic City   \n",
       "416          Kha      Rena   Atlantic    Atlantic City   \n",
       "423     Robinson    Stacey   Atlantic    Atlantic City   \n",
       "510      Campana    Sandy E  Atlantic    Atlantic City   \n",
       "638    Sanderlin    Tomeka   Atlantic    Atlantic City   \n",
       "755   Llerena Jr      Hugo   Atlantic    Atlantic City   \n",
       "1138      Serino    Peter C  Atlantic  Brigantine City   \n",
       "\n",
       "                                       school                    primary_job  \\\n",
       "348                    New York Avenue School  Elementary School Teacher K-5   \n",
       "355                   Pennsylvania Ave School  Elementary School Teacher K-5   \n",
       "416                     Uptown School Complex  Elementary School Teacher K-5   \n",
       "423                    New York Avenue School  Elementary School Teacher K-5   \n",
       "510                    Richmond Avenue School  Elementary School Teacher K-5   \n",
       "638   Dr Martin Luther King Jr School Complex  Elementary School Teacher K-5   \n",
       "755                    Richmond Avenue School  Elementary School Teacher K-5   \n",
       "1138             Brigantine Elementary School  Elementary School Teacher K-5   \n",
       "\n",
       "      fte  salary           certificate subcategory teaching_route  \\\n",
       "348   1.0   52107  Standard certificate  Special ed    Traditional   \n",
       "355   1.0   55378  Standard certificate  Special ed    Traditional   \n",
       "416   1.0   67095  Standard certificate  Special ed      Alternate   \n",
       "423   1.0   73792  Standard certificate  Special ed      Alternate   \n",
       "510   1.0   58811  Standard certificate  Special ed    Traditional   \n",
       "638   1.0   55696  Standard certificate  Special ed    Traditional   \n",
       "755   1.0   54218  Standard certificate  Special ed      Alternate   \n",
       "1138  1.0   92409  Standard certificate  Special ed    Traditional   \n",
       "\n",
       "                                       highly_qualified  experience_district  \\\n",
       "348             Highly qualified. Passed the Praxis/NTE                  1.0   \n",
       "355             Highly qualified. Passed the Praxis/NTE                  3.0   \n",
       "416             Highly qualified. Passed the Praxis/NTE                  9.0   \n",
       "423             Highly qualified. Passed the Praxis/NTE                  9.0   \n",
       "510             Highly qualified. Passed the Praxis/NTE                  7.0   \n",
       "638             Highly qualified. Passed the Praxis/NTE                  3.0   \n",
       "755   Highly qualified. Has gradate or undergraduate...                  4.0   \n",
       "1138            Highly qualified. Passed the Praxis/NTE                 31.0   \n",
       "\n",
       "      experience_nj  experience_total  \n",
       "348             1.0               1.0  \n",
       "355             3.0               3.0  \n",
       "416             9.0               9.0  \n",
       "423             9.0               9.0  \n",
       "510             7.0               7.0  \n",
       "638             3.0               3.0  \n",
       "755             4.0               4.0  \n",
       "1138           31.0              31.0  "
      ]
     },
     "execution_count": 11,
     "metadata": {},
     "output_type": "execute_result"
    }
   ],
   "source": [
    "salary_data = df.fillna(0)\n",
    "salary_data.head(8)"
   ]
  },
  {
   "cell_type": "code",
   "execution_count": 12,
   "metadata": {},
   "outputs": [
    {
     "data": {
      "text/plain": [
       "(1500, 15)"
      ]
     },
     "execution_count": 12,
     "metadata": {},
     "output_type": "execute_result"
    }
   ],
   "source": [
    "salary_data.shape"
   ]
  },
  {
   "cell_type": "code",
   "execution_count": 13,
   "metadata": {},
   "outputs": [
    {
     "data": {
      "text/plain": [
       "Index(['last_name', 'first_name', 'county', 'district', 'school',\n",
       "       'primary_job', 'fte', 'salary', 'certificate', 'subcategory',\n",
       "       'teaching_route', 'highly_qualified', 'experience_district',\n",
       "       'experience_nj', 'experience_total'],\n",
       "      dtype='object')"
      ]
     },
     "execution_count": 13,
     "metadata": {},
     "output_type": "execute_result"
    }
   ],
   "source": [
    "salary_data.keys()"
   ]
  },
  {
   "cell_type": "code",
   "execution_count": 14,
   "metadata": {},
   "outputs": [
    {
     "data": {
      "text/html": [
       "<div>\n",
       "<style scoped>\n",
       "    .dataframe tbody tr th:only-of-type {\n",
       "        vertical-align: middle;\n",
       "    }\n",
       "\n",
       "    .dataframe tbody tr th {\n",
       "        vertical-align: top;\n",
       "    }\n",
       "\n",
       "    .dataframe thead th {\n",
       "        text-align: right;\n",
       "    }\n",
       "</style>\n",
       "<table border=\"1\" class=\"dataframe\">\n",
       "  <thead>\n",
       "    <tr style=\"text-align: right;\">\n",
       "      <th></th>\n",
       "      <th>experience_total</th>\n",
       "      <th>salary</th>\n",
       "    </tr>\n",
       "  </thead>\n",
       "  <tbody>\n",
       "    <tr>\n",
       "      <th>348</th>\n",
       "      <td>1.0</td>\n",
       "      <td>52107</td>\n",
       "    </tr>\n",
       "    <tr>\n",
       "      <th>355</th>\n",
       "      <td>3.0</td>\n",
       "      <td>55378</td>\n",
       "    </tr>\n",
       "    <tr>\n",
       "      <th>416</th>\n",
       "      <td>9.0</td>\n",
       "      <td>67095</td>\n",
       "    </tr>\n",
       "    <tr>\n",
       "      <th>423</th>\n",
       "      <td>9.0</td>\n",
       "      <td>73792</td>\n",
       "    </tr>\n",
       "    <tr>\n",
       "      <th>510</th>\n",
       "      <td>7.0</td>\n",
       "      <td>58811</td>\n",
       "    </tr>\n",
       "  </tbody>\n",
       "</table>\n",
       "</div>"
      ],
      "text/plain": [
       "     experience_total  salary\n",
       "348               1.0   52107\n",
       "355               3.0   55378\n",
       "416               9.0   67095\n",
       "423               9.0   73792\n",
       "510               7.0   58811"
      ]
     },
     "execution_count": 14,
     "metadata": {},
     "output_type": "execute_result"
    }
   ],
   "source": [
    "columns = ['last_name', 'first_name', 'county', 'district', 'school','primary_job', 'fte', \n",
    "       'certificate', 'subcategory','teaching_route', 'highly_qualified', 'experience_district',\n",
    "       'experience_nj']\n",
    "#remove white spaces in columns names:\n",
    "salary_data.columns = salary_data.columns.str.strip()\n",
    "\n",
    "#drop unwated columns:\n",
    "salary_data.drop(columns, inplace=True, axis=1)\n",
    "salary_data = salary_data[['experience_total','salary']]\n",
    "salary_data.head()\n"
   ]
  },
  {
   "cell_type": "code",
   "execution_count": 15,
   "metadata": {},
   "outputs": [
    {
     "data": {
      "text/plain": [
       "(1500, 2)"
      ]
     },
     "execution_count": 15,
     "metadata": {},
     "output_type": "execute_result"
    }
   ],
   "source": [
    "salary_data.shape"
   ]
  },
  {
   "cell_type": "markdown",
   "metadata": {},
   "source": [
    "\n",
    "### Data Preprocessing \n",
    "\n"
   ]
  },
  {
   "cell_type": "code",
   "execution_count": 16,
   "metadata": {},
   "outputs": [],
   "source": [
    "\n",
    "y = salary_data.iloc[:, -1].values\n",
    "X = salary_data.iloc[:, :-1].values\n",
    "#print(X)\n"
   ]
  },
  {
   "cell_type": "code",
   "execution_count": 17,
   "metadata": {
    "scrolled": false
   },
   "outputs": [
    {
     "name": "stdout",
     "output_type": "stream",
     "text": [
      "[52107 55378 67095 ... 45000 67126 61500]\n"
     ]
    }
   ],
   "source": [
    "print(y)"
   ]
  },
  {
   "cell_type": "code",
   "execution_count": 18,
   "metadata": {},
   "outputs": [],
   "source": [
    "from sklearn.cross_validation import train_test_split"
   ]
  },
  {
   "cell_type": "markdown",
   "metadata": {},
   "source": [
    "\n",
    "\n",
    "### Splitting into train and test \n"
   ]
  },
  {
   "cell_type": "code",
   "execution_count": 19,
   "metadata": {},
   "outputs": [
    {
     "name": "stdout",
     "output_type": "stream",
     "text": [
      "(1200, 1)\n",
      "(300, 1)\n",
      "(1200,)\n",
      "(300,)\n"
     ]
    }
   ],
   "source": [
    "X_train, X_test, y_train, y_test = train_test_split(X, y, test_size = 0.2)\n",
    "print(X_train.shape)\n",
    "print(X_test.shape)\n",
    "print(y_train.shape)\n",
    "print(y_test.shape)"
   ]
  },
  {
   "cell_type": "code",
   "execution_count": 20,
   "metadata": {},
   "outputs": [],
   "source": [
    "from sklearn.linear_model import LinearRegression, Ridge"
   ]
  },
  {
   "cell_type": "markdown",
   "metadata": {},
   "source": [
    "### Applying Linear Regression"
   ]
  },
  {
   "cell_type": "code",
   "execution_count": 21,
   "metadata": {},
   "outputs": [
    {
     "data": {
      "text/plain": [
       "LinearRegression(copy_X=True, fit_intercept=True, n_jobs=1, normalize=False)"
      ]
     },
     "execution_count": 21,
     "metadata": {},
     "output_type": "execute_result"
    }
   ],
   "source": [
    "lRegressor = LinearRegression()\n",
    "lRegressor.fit(X_train, y_train)"
   ]
  },
  {
   "cell_type": "code",
   "execution_count": 22,
   "metadata": {},
   "outputs": [
    {
     "data": {
      "text/plain": [
       "Ridge(alpha=1.0, copy_X=True, fit_intercept=True, max_iter=None,\n",
       "   normalize=False, random_state=None, solver='auto', tol=0.001)"
      ]
     },
     "execution_count": 22,
     "metadata": {},
     "output_type": "execute_result"
    }
   ],
   "source": [
    "rig = Ridge(alpha=1.0)\n",
    "rig.fit(X_train, y_train)"
   ]
  },
  {
   "cell_type": "code",
   "execution_count": 23,
   "metadata": {},
   "outputs": [],
   "source": [
    "pred_1 = lRegressor.predict(X_test)\n",
    "pred_2 = rig.predict(X_test)"
   ]
  },
  {
   "cell_type": "code",
   "execution_count": 24,
   "metadata": {},
   "outputs": [
    {
     "name": "stdout",
     "output_type": "stream",
     "text": [
      "R^2 score for Linear Regression:  0.6725604259817471\n"
     ]
    }
   ],
   "source": [
    "print(\"R^2 score for Linear Regression: \", lRegressor.score(X_test, y_test))"
   ]
  },
  {
   "cell_type": "code",
   "execution_count": 25,
   "metadata": {},
   "outputs": [
    {
     "name": "stdout",
     "output_type": "stream",
     "text": [
      "R^2 score for Ridge regression:  0.672560021933112\n"
     ]
    }
   ],
   "source": [
    "print(\"R^2 score for Ridge regression: \", rig.score(X_test, y_test))"
   ]
  },
  {
   "cell_type": "code",
   "execution_count": 26,
   "metadata": {},
   "outputs": [
    {
     "data": {
      "image/png": "[encoded data removed]",
      "text/plain": [
       "<Figure size 640x480 with 1 Axes>"
      ]
     },
     "metadata": {},
     "output_type": "display_data"
    },
    {
     "data": {
      "image/png": "[encoded data removed]",
      "text/plain": [
       "<Figure size 640x480 with 1 Axes>"
      ]
     },
     "metadata": {},
     "output_type": "display_data"
    }
   ],
   "source": [
    "from matplotlib.pyplot import figure\n",
    "\n",
    "figure(num=None, figsize=(8, 6), dpi=80, facecolor='w', edgecolor='k')\n",
    "\n",
    "plt.scatter(X_test, y_test, c='g')\n",
    "#plt.scatter(X_train, y_train)\n",
    "plt.plot(X_test, pred_1, c='r')\n",
    "plt.title(\"Linear Regression - Regressor\")\n",
    "plt.xlabel(\"Years-experience\")\n",
    "plt.ylabel(\"Salary  in $\")\n",
    "plt.show()\n",
    "\n",
    "figure(num=None, figsize=(8, 6), dpi=80, facecolor='w', edgecolor='k')\n",
    "plt.scatter(X_test, y_test, c='g')\n",
    "#plt.scatter(X_train, y_train)\n",
    "plt.plot(X_test, pred_2, c='r')\n",
    "plt.title(\"Ridge - Regressor\")\n",
    "plt.xlabel(\"Years-experience\")\n",
    "plt.ylabel(\"Salary  in $\")\n",
    "plt.show()"
   ]
  },
  {
   "cell_type": "markdown",
   "metadata": {},
   "source": [
    "### Calculate Coefficients, Mean Squared error and Variance score"
   ]
  },
  {
   "cell_type": "code",
   "execution_count": 27,
   "metadata": {},
   "outputs": [
    {
     "name": "stdout",
     "output_type": "stream",
     "text": [
      "Coefficients: \n",
      " [1542.66027339]\n",
      "Mean squared error: 84277132.55\n",
      "Variance score: 0.67\n"
     ]
    }
   ],
   "source": [
    "from sklearn.metrics import mean_squared_error, r2_score\n",
    "# The coefficients\n",
    "print('Coefficients: \\n', lRegressor.coef_)\n",
    "# The mean squared error\n",
    "print(\"Mean squared error: %.2f\"\n",
    "      % mean_squared_error(y_test, pred_1))\n",
    "# Explained variance score: 1 is perfect prediction\n",
    "print('Variance score: %.2f' % r2_score(y_test, pred_1))"
   ]
  },
  {
   "cell_type": "markdown",
   "metadata": {},
   "source": [
    "### Try a different ratio for train_test_split"
   ]
  },
  {
   "cell_type": "code",
   "execution_count": 28,
   "metadata": {},
   "outputs": [
    {
     "name": "stdout",
     "output_type": "stream",
     "text": [
      "(1050, 1)\n",
      "(450, 1)\n",
      "(1050,)\n",
      "(450,)\n"
     ]
    }
   ],
   "source": [
    "#Split training and testing data:\n",
    "#Y = Earnings\n",
    "#X = Position\n",
    "\n",
    "\n",
    "import sklearn.cross_validation\n",
    "\n",
    "sklearn.model_selection.train_test_split\n",
    "X1 = salary_data.drop('salary', axis = 1)\n",
    "Y1 = salary_data['salary']\n",
    "\n",
    "\n",
    "X_train1, X_test1, Y_train1, Y_test1 = sklearn.cross_validation.train_test_split(X1, Y1, test_size = 0.3, random_state = 5)\n",
    "print(X_train1.shape)\n",
    "print(X_test1.shape)\n",
    "print(Y_train1.shape)\n",
    "print(Y_test1.shape)"
   ]
  },
  {
   "cell_type": "code",
   "execution_count": 29,
   "metadata": {},
   "outputs": [
    {
     "data": {
      "text/plain": [
       "<Figure size 800x640 with 0 Axes>"
      ]
     },
     "metadata": {},
     "output_type": "display_data"
    }
   ],
   "source": [
    "#Linear Regression:\n",
    "\n",
    "from matplotlib.pyplot import figure\n",
    "\n",
    "figure(num=None, figsize=(10, 8), dpi=80, facecolor='w', edgecolor='k')\n",
    "from sklearn.linear_model import LinearRegression\n",
    "\n",
    "lm = LinearRegression()\n",
    "lm.fit(X_train1, Y_train1)\n",
    "\n",
    "Y_pred_sal = lm.predict(X_test1)\n"
   ]
  },
  {
   "cell_type": "code",
   "execution_count": 31,
   "metadata": {},
   "outputs": [
    {
     "data": {
      "image/png": "[encoded data removed]",
      "text/plain": [
       "<Figure size 640x480 with 1 Axes>"
      ]
     },
     "metadata": {},
     "output_type": "display_data"
    }
   ],
   "source": [
    "from matplotlib.pyplot import figure\n",
    "\n",
    "figure(num=None, figsize=(8, 6), dpi=80, facecolor='w', edgecolor='k')\n",
    "\n",
    "\n",
    "plt.scatter(X_test1, Y_test1)\n",
    "plt.plot(X_test1, Y_pred_sal, c='r')\n",
    "\n",
    "\n",
    "plt.xlabel(\"Years of Experience\")\n",
    "plt.ylabel(\"Predicted Salary\")\n",
    "plt.title(\"Salary vs Predicted Salary\");\n"
   ]
  },
  {
   "cell_type": "code",
   "execution_count": 1245,
   "metadata": {},
   "outputs": [
    {
     "name": "stderr",
     "output_type": "stream",
     "text": [
      "/anaconda3/lib/python3.6/site-packages/matplotlib/axes/_axes.py:6462: UserWarning: The 'normed' kwarg is deprecated, and has been replaced by the 'density' kwarg.\n",
      "  warnings.warn(\"The 'normed' kwarg is deprecated, and has been \"\n"
     ]
    },
    {
     "data": {
      "text/plain": [
       "<matplotlib.axes._subplots.AxesSubplot at 0x1c3e9ef438>"
      ]
     },
     "execution_count": 1245,
     "metadata": {},
     "output_type": "execute_result"
    },
    {
     "data": {
      "image/png": "[encoded data removed]",
      "text/plain": [
       "<Figure size 432x288 with 1 Axes>"
      ]
     },
     "metadata": {},
     "output_type": "display_data"
    }
   ],
   "source": [
    "sns.distplot((Y_test1-Y_pred_sal))"
   ]
  },
  {
   "cell_type": "code",
   "execution_count": 1246,
   "metadata": {},
   "outputs": [
    {
     "name": "stdout",
     "output_type": "stream",
     "text": [
      "6693.0475310092925\n"
     ]
    }
   ],
   "source": [
    "from sklearn import metrics\n",
    "print(metrics.mean_absolute_error(Y_test1,Y_pred_sal))"
   ]
  },
  {
   "cell_type": "code",
   "execution_count": 1247,
   "metadata": {},
   "outputs": [
    {
     "name": "stdout",
     "output_type": "stream",
     "text": [
      "MSE: 88595348.48849086\n"
     ]
    }
   ],
   "source": [
    "print('MSE:', metrics.mean_squared_error(Y_test1, Y_pred_sal))"
   ]
  },
  {
   "cell_type": "code",
   "execution_count": 1248,
   "metadata": {},
   "outputs": [
    {
     "name": "stdout",
     "output_type": "stream",
     "text": [
      "RMSE: 9412.510211866485\n"
     ]
    }
   ],
   "source": [
    "import numpy as np\n",
    "print('RMSE:', np.sqrt(metrics.mean_squared_error(Y_test1, Y_pred_sal)))"
   ]
  },
  {
   "cell_type": "code",
   "execution_count": null,
   "metadata": {},
   "outputs": [],
   "source": []
  }
 ],
 "metadata": {
  "kernelspec": {
   "display_name": "Python 3",
   "language": "python",
   "name": "python3"
  },
  "language_info": {
   "codemirror_mode": {
    "name": "ipython",
    "version": 3
   },
   "file_extension": ".py",
   "mimetype": "text/x-python",
   "name": "python",
   "nbconvert_exporter": "python",
   "pygments_lexer": "ipython3",
   "version": "3.6.5"
  }
 },
 "nbformat": 4,
 "nbformat_minor": 2
}
