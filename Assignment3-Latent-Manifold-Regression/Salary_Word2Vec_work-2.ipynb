{
 "cells": [
  {
   "cell_type": "code",
   "execution_count": 93,
   "metadata": {},
   "outputs": [],
   "source": [
    "import pandas as pd\n",
    "import numpy as np\n",
    "import requests\n",
    "import bs4\n",
    "from bs4 import BeautifulSoup\n",
    "from tflearn.data_utils import to_categorical\n",
    "from collections import Counter, defaultdict\n",
    "from sklearn.feature_extraction import stop_words"
   ]
  },
  {
   "cell_type": "code",
   "execution_count": 94,
   "metadata": {},
   "outputs": [
    {
     "data": {
      "text/html": [
       "<div>\n",
       "<style scoped>\n",
       "    .dataframe tbody tr th:only-of-type {\n",
       "        vertical-align: middle;\n",
       "    }\n",
       "\n",
       "    .dataframe tbody tr th {\n",
       "        vertical-align: top;\n",
       "    }\n",
       "\n",
       "    .dataframe thead th {\n",
       "        text-align: right;\n",
       "    }\n",
       "</style>\n",
       "<table border=\"1\" class=\"dataframe\">\n",
       "  <thead>\n",
       "    <tr style=\"text-align: right;\">\n",
       "      <th></th>\n",
       "      <th>location</th>\n",
       "      <th>title</th>\n",
       "      <th>company</th>\n",
       "      <th>salary</th>\n",
       "      <th>summary</th>\n",
       "    </tr>\n",
       "  </thead>\n",
       "  <tbody>\n",
       "    <tr>\n",
       "      <th>0</th>\n",
       "      <td>New York, NY 10261 (Murray Hill area)</td>\n",
       "      <td>Data Scientist</td>\n",
       "      <td>MassMutual Financial Group</td>\n",
       "      <td>NaN</td>\n",
       "      <td>MassMutual’s Advanced Analytics group is seeki...</td>\n",
       "    </tr>\n",
       "    <tr>\n",
       "      <th>1</th>\n",
       "      <td>New York, NY</td>\n",
       "      <td>Data Scientist</td>\n",
       "      <td>HarperCollins Publishers Inc.</td>\n",
       "      <td>NaN</td>\n",
       "      <td>Uses mid to large-scale machine learning, data...</td>\n",
       "    </tr>\n",
       "    <tr>\n",
       "      <th>2</th>\n",
       "      <td>New York, NY 10016 (Gramercy area)</td>\n",
       "      <td>Data Scientist</td>\n",
       "      <td>Simulmedia</td>\n",
       "      <td>NaN</td>\n",
       "      <td>You will find yourself working with other data...</td>\n",
       "    </tr>\n",
       "    <tr>\n",
       "      <th>3</th>\n",
       "      <td>New York, NY</td>\n",
       "      <td>Data Science Analyst</td>\n",
       "      <td>AIG</td>\n",
       "      <td>NaN</td>\n",
       "      <td>§ Stay current on the latest machine learning ...</td>\n",
       "    </tr>\n",
       "    <tr>\n",
       "      <th>4</th>\n",
       "      <td>New York, NY</td>\n",
       "      <td>Data Scientist</td>\n",
       "      <td>PulsePoint</td>\n",
       "      <td>NaN</td>\n",
       "      <td>MS/PhD in Astronomy, Physics, Applied Mathemat...</td>\n",
       "    </tr>\n",
       "  </tbody>\n",
       "</table>\n",
       "</div>"
      ],
      "text/plain": [
       "                                location                 title  \\\n",
       "0  New York, NY 10261 (Murray Hill area)        Data Scientist   \n",
       "1                           New York, NY        Data Scientist   \n",
       "2     New York, NY 10016 (Gramercy area)        Data Scientist   \n",
       "3                           New York, NY  Data Science Analyst   \n",
       "4                           New York, NY        Data Scientist   \n",
       "\n",
       "                              company salary  \\\n",
       "0          MassMutual Financial Group    NaN   \n",
       "1       HarperCollins Publishers Inc.    NaN   \n",
       "2                          Simulmedia    NaN   \n",
       "3                                 AIG    NaN   \n",
       "4                          PulsePoint    NaN   \n",
       "\n",
       "                                             summary  \n",
       "0  MassMutual’s Advanced Analytics group is seeki...  \n",
       "1  Uses mid to large-scale machine learning, data...  \n",
       "2  You will find yourself working with other data...  \n",
       "3  § Stay current on the latest machine learning ...  \n",
       "4  MS/PhD in Astronomy, Physics, Applied Mathemat...  "
      ]
     },
     "execution_count": 94,
     "metadata": {},
     "output_type": "execute_result"
    }
   ],
   "source": [
    "results = pd.read_csv('indeed-results.csv')\n",
    "results.head()"
   ]
  },
  {
   "cell_type": "code",
   "execution_count": 95,
   "metadata": {},
   "outputs": [
    {
     "data": {
      "text/plain": [
       "(12745, 5)"
      ]
     },
     "execution_count": 95,
     "metadata": {},
     "output_type": "execute_result"
    }
   ],
   "source": [
    "results.shape"
   ]
  },
  {
   "cell_type": "code",
   "execution_count": 96,
   "metadata": {},
   "outputs": [],
   "source": [
    "# count = salaries['summary'].str.split().str.len()\n",
    "# count.index = count.index.astype(str) + ' words:'\n",
    "# count.sort_index(inplace=True)\n",
    "#count"
   ]
  },
  {
   "cell_type": "markdown",
   "metadata": {},
   "source": [
    "## Data Wrangling & Preprocessing\n"
   ]
  },
  {
   "cell_type": "code",
   "execution_count": 97,
   "metadata": {},
   "outputs": [],
   "source": [
    "salaries_sal = results[results.salary.notnull()]\n",
    "salaries_summ = salaries_sal[salaries_sal.summary.notnull()]\n",
    "salaries = salaries_summ[salaries_summ.company.notnull()]"
   ]
  },
  {
   "cell_type": "code",
   "execution_count": 98,
   "metadata": {},
   "outputs": [
    {
     "data": {
      "text/plain": [
       "location    object\n",
       "title       object\n",
       "company     object\n",
       "salary      object\n",
       "summary     object\n",
       "dtype: object"
      ]
     },
     "execution_count": 98,
     "metadata": {},
     "output_type": "execute_result"
    }
   ],
   "source": [
    "salaries.dtypes"
   ]
  },
  {
   "cell_type": "code",
   "execution_count": 99,
   "metadata": {},
   "outputs": [
    {
     "data": {
      "text/html": [
       "<div>\n",
       "<style scoped>\n",
       "    .dataframe tbody tr th:only-of-type {\n",
       "        vertical-align: middle;\n",
       "    }\n",
       "\n",
       "    .dataframe tbody tr th {\n",
       "        vertical-align: top;\n",
       "    }\n",
       "\n",
       "    .dataframe thead th {\n",
       "        text-align: right;\n",
       "    }\n",
       "</style>\n",
       "<table border=\"1\" class=\"dataframe\">\n",
       "  <thead>\n",
       "    <tr style=\"text-align: right;\">\n",
       "      <th></th>\n",
       "      <th>location</th>\n",
       "      <th>title</th>\n",
       "      <th>company</th>\n",
       "      <th>salary</th>\n",
       "      <th>summary</th>\n",
       "    </tr>\n",
       "  </thead>\n",
       "  <tbody>\n",
       "    <tr>\n",
       "      <th>24</th>\n",
       "      <td>New York, NY</td>\n",
       "      <td>Data Scientist</td>\n",
       "      <td>indify</td>\n",
       "      <td>$90,000 - $170,000 a year</td>\n",
       "      <td>Indify data scientists contribute to all aspec...</td>\n",
       "    </tr>\n",
       "    <tr>\n",
       "      <th>50</th>\n",
       "      <td>New York, NY 10031 (Hamilton Heights area)</td>\n",
       "      <td>Computer Science (Data Analysis) Instructor</td>\n",
       "      <td>Urban Scholars Program, City College of Ne...</td>\n",
       "      <td>$40 an hour</td>\n",
       "      <td>Data, data filtering, basic spreadsheet operat...</td>\n",
       "    </tr>\n",
       "    <tr>\n",
       "      <th>63</th>\n",
       "      <td>New York, NY</td>\n",
       "      <td>Data Scientist</td>\n",
       "      <td>WorldCover</td>\n",
       "      <td>$70,000 - $110,000 a year</td>\n",
       "      <td>Your primary focus will be in applying data mi...</td>\n",
       "    </tr>\n",
       "    <tr>\n",
       "      <th>79</th>\n",
       "      <td>New York, NY</td>\n",
       "      <td>Data Scientist</td>\n",
       "      <td>Scienaptic Systems Inc</td>\n",
       "      <td>$100,000 a year</td>\n",
       "      <td>As our representative in front of client, you ...</td>\n",
       "    </tr>\n",
       "    <tr>\n",
       "      <th>98</th>\n",
       "      <td>New York, NY 10038 (Financial District area)</td>\n",
       "      <td>Data Scientist</td>\n",
       "      <td>Enterprise Select</td>\n",
       "      <td>$130,000 a year</td>\n",
       "      <td>Deep knowledge of applied statistics and machi...</td>\n",
       "    </tr>\n",
       "  </tbody>\n",
       "</table>\n",
       "</div>"
      ],
      "text/plain": [
       "                                        location  \\\n",
       "24                                  New York, NY   \n",
       "50    New York, NY 10031 (Hamilton Heights area)   \n",
       "63                                  New York, NY   \n",
       "79                                  New York, NY   \n",
       "98  New York, NY 10038 (Financial District area)   \n",
       "\n",
       "                                          title  \\\n",
       "24                               Data Scientist   \n",
       "50  Computer Science (Data Analysis) Instructor   \n",
       "63                               Data Scientist   \n",
       "79                               Data Scientist   \n",
       "98                               Data Scientist   \n",
       "\n",
       "                                              company  \\\n",
       "24                                             indify   \n",
       "50      Urban Scholars Program, City College of Ne...   \n",
       "63                                         WorldCover   \n",
       "79                             Scienaptic Systems Inc   \n",
       "98                                  Enterprise Select   \n",
       "\n",
       "                       salary  \\\n",
       "24  $90,000 - $170,000 a year   \n",
       "50                $40 an hour   \n",
       "63  $70,000 - $110,000 a year   \n",
       "79            $100,000 a year   \n",
       "98            $130,000 a year   \n",
       "\n",
       "                                              summary  \n",
       "24  Indify data scientists contribute to all aspec...  \n",
       "50  Data, data filtering, basic spreadsheet operat...  \n",
       "63  Your primary focus will be in applying data mi...  \n",
       "79  As our representative in front of client, you ...  \n",
       "98  Deep knowledge of applied statistics and machi...  "
      ]
     },
     "execution_count": 99,
     "metadata": {},
     "output_type": "execute_result"
    }
   ],
   "source": [
    "salaries.head()"
   ]
  },
  {
   "cell_type": "code",
   "execution_count": 100,
   "metadata": {},
   "outputs": [],
   "source": [
    "#salaries.title.value_counts().index"
   ]
  },
  {
   "cell_type": "code",
   "execution_count": 101,
   "metadata": {},
   "outputs": [
    {
     "data": {
      "text/plain": [
       "(686, 5)"
      ]
     },
     "execution_count": 101,
     "metadata": {},
     "output_type": "execute_result"
    }
   ],
   "source": [
    "salaries.shape"
   ]
  },
  {
   "cell_type": "code",
   "execution_count": 102,
   "metadata": {},
   "outputs": [],
   "source": [
    "salaries = salaries[(~salaries.salary.str.contains('an hour')) & (~salaries.salary.str.contains('a month'))\n",
    "                   & (~salaries.salary.str.contains('a week')) & (~salaries.salary.str.contains('a day'))]"
   ]
  },
  {
   "cell_type": "code",
   "execution_count": 103,
   "metadata": {},
   "outputs": [],
   "source": [
    "salaries.salary = salaries.salary.str.replace('a year', '').str.replace(',', '').str.replace('$', '')"
   ]
  },
  {
   "cell_type": "code",
   "execution_count": 104,
   "metadata": {},
   "outputs": [
    {
     "data": {
      "text/plain": [
       "(494, 5)"
      ]
     },
     "execution_count": 104,
     "metadata": {},
     "output_type": "execute_result"
    }
   ],
   "source": [
    "salaries.shape"
   ]
  },
  {
   "cell_type": "code",
   "execution_count": 105,
   "metadata": {},
   "outputs": [],
   "source": [
    "for i in salaries.salary:\n",
    "    if len(i.split('-')) != 1 and len(i.split('-')) != 2:\n",
    "        print(i)"
   ]
  },
  {
   "cell_type": "code",
   "execution_count": 106,
   "metadata": {},
   "outputs": [],
   "source": [
    "new_salaries = []\n",
    "for i in salaries.salary:\n",
    "    a = i.split('-')\n",
    "    if len(a) == 2:\n",
    "        new_salaries.append(np.mean([float(b) for b in a]))\n",
    "    else:\n",
    "        new_salaries.append(float(a[0]))"
   ]
  },
  {
   "cell_type": "code",
   "execution_count": 107,
   "metadata": {},
   "outputs": [
    {
     "data": {
      "text/plain": [
       "[130000.0, 90000.0, 100000.0, 130000.0, 75000.0]"
      ]
     },
     "execution_count": 107,
     "metadata": {},
     "output_type": "execute_result"
    }
   ],
   "source": [
    "new_salaries[0:5]"
   ]
  },
  {
   "cell_type": "code",
   "execution_count": 108,
   "metadata": {},
   "outputs": [],
   "source": [
    "salaries.salary = new_salaries"
   ]
  },
  {
   "cell_type": "code",
   "execution_count": 109,
   "metadata": {},
   "outputs": [
    {
     "data": {
      "text/html": [
       "<div>\n",
       "<style scoped>\n",
       "    .dataframe tbody tr th:only-of-type {\n",
       "        vertical-align: middle;\n",
       "    }\n",
       "\n",
       "    .dataframe tbody tr th {\n",
       "        vertical-align: top;\n",
       "    }\n",
       "\n",
       "    .dataframe thead th {\n",
       "        text-align: right;\n",
       "    }\n",
       "</style>\n",
       "<table border=\"1\" class=\"dataframe\">\n",
       "  <thead>\n",
       "    <tr style=\"text-align: right;\">\n",
       "      <th></th>\n",
       "      <th>location</th>\n",
       "      <th>title</th>\n",
       "      <th>company</th>\n",
       "      <th>salary</th>\n",
       "      <th>summary</th>\n",
       "    </tr>\n",
       "  </thead>\n",
       "  <tbody>\n",
       "    <tr>\n",
       "      <th>24</th>\n",
       "      <td>New York, NY</td>\n",
       "      <td>Data Scientist</td>\n",
       "      <td>indify</td>\n",
       "      <td>130000.0</td>\n",
       "      <td>Indify data scientists contribute to all aspec...</td>\n",
       "    </tr>\n",
       "    <tr>\n",
       "      <th>63</th>\n",
       "      <td>New York, NY</td>\n",
       "      <td>Data Scientist</td>\n",
       "      <td>WorldCover</td>\n",
       "      <td>90000.0</td>\n",
       "      <td>Your primary focus will be in applying data mi...</td>\n",
       "    </tr>\n",
       "    <tr>\n",
       "      <th>79</th>\n",
       "      <td>New York, NY</td>\n",
       "      <td>Data Scientist</td>\n",
       "      <td>Scienaptic Systems Inc</td>\n",
       "      <td>100000.0</td>\n",
       "      <td>As our representative in front of client, you ...</td>\n",
       "    </tr>\n",
       "    <tr>\n",
       "      <th>98</th>\n",
       "      <td>New York, NY 10038 (Financial District area)</td>\n",
       "      <td>Data Scientist</td>\n",
       "      <td>Enterprise Select</td>\n",
       "      <td>130000.0</td>\n",
       "      <td>Deep knowledge of applied statistics and machi...</td>\n",
       "    </tr>\n",
       "    <tr>\n",
       "      <th>105</th>\n",
       "      <td>New York, NY</td>\n",
       "      <td>Senior Research Analyst</td>\n",
       "      <td>Research Foundation of The City Univer...</td>\n",
       "      <td>75000.0</td>\n",
       "      <td>Overseeing all project activities related to d...</td>\n",
       "    </tr>\n",
       "  </tbody>\n",
       "</table>\n",
       "</div>"
      ],
      "text/plain": [
       "                                         location                    title  \\\n",
       "24                                   New York, NY           Data Scientist   \n",
       "63                                   New York, NY           Data Scientist   \n",
       "79                                   New York, NY           Data Scientist   \n",
       "98   New York, NY 10038 (Financial District area)           Data Scientist   \n",
       "105                                  New York, NY  Senior Research Analyst   \n",
       "\n",
       "                                               company    salary  \\\n",
       "24                                              indify  130000.0   \n",
       "63                                          WorldCover   90000.0   \n",
       "79                              Scienaptic Systems Inc  100000.0   \n",
       "98                                   Enterprise Select  130000.0   \n",
       "105          Research Foundation of The City Univer...   75000.0   \n",
       "\n",
       "                                               summary  \n",
       "24   Indify data scientists contribute to all aspec...  \n",
       "63   Your primary focus will be in applying data mi...  \n",
       "79   As our representative in front of client, you ...  \n",
       "98   Deep knowledge of applied statistics and machi...  \n",
       "105  Overseeing all project activities related to d...  "
      ]
     },
     "execution_count": 109,
     "metadata": {},
     "output_type": "execute_result"
    }
   ],
   "source": [
    "salaries.head()"
   ]
  },
  {
   "cell_type": "code",
   "execution_count": 110,
   "metadata": {},
   "outputs": [
    {
     "data": {
      "text/plain": [
       "(494, 5)"
      ]
     },
     "execution_count": 110,
     "metadata": {},
     "output_type": "execute_result"
    }
   ],
   "source": [
    "salaries.shape"
   ]
  },
  {
   "cell_type": "code",
   "execution_count": 111,
   "metadata": {},
   "outputs": [
    {
     "data": {
      "text/plain": [
       "0"
      ]
     },
     "execution_count": 111,
     "metadata": {},
     "output_type": "execute_result"
    }
   ],
   "source": [
    "salaries.duplicated().sum()"
   ]
  },
  {
   "cell_type": "code",
   "execution_count": 112,
   "metadata": {},
   "outputs": [
    {
     "data": {
      "text/plain": [
       "location    0\n",
       "title       0\n",
       "company     0\n",
       "salary      0\n",
       "summary     0\n",
       "dtype: int64"
      ]
     },
     "execution_count": 112,
     "metadata": {},
     "output_type": "execute_result"
    }
   ],
   "source": [
    "salaries.isnull().sum()"
   ]
  },
  {
   "cell_type": "code",
   "execution_count": 113,
   "metadata": {},
   "outputs": [
    {
     "name": "stdout",
     "output_type": "stream",
     "text": [
      "Empty DataFrame\n",
      "Columns: []\n",
      "Index: []\n"
     ]
    }
   ],
   "source": [
    "#display null columns\n",
    "\n",
    "null_columns=salaries.columns[salaries.isnull().any()]\n",
    "print(salaries[salaries.isnull().any(axis=1)][null_columns].head())"
   ]
  },
  {
   "cell_type": "code",
   "execution_count": 114,
   "metadata": {},
   "outputs": [
    {
     "data": {
      "text/html": [
       "<div>\n",
       "<style scoped>\n",
       "    .dataframe tbody tr th:only-of-type {\n",
       "        vertical-align: middle;\n",
       "    }\n",
       "\n",
       "    .dataframe tbody tr th {\n",
       "        vertical-align: top;\n",
       "    }\n",
       "\n",
       "    .dataframe thead th {\n",
       "        text-align: right;\n",
       "    }\n",
       "</style>\n",
       "<table border=\"1\" class=\"dataframe\">\n",
       "  <thead>\n",
       "    <tr style=\"text-align: right;\">\n",
       "      <th></th>\n",
       "      <th>location</th>\n",
       "      <th>title</th>\n",
       "      <th>company</th>\n",
       "      <th>salary</th>\n",
       "      <th>summary</th>\n",
       "    </tr>\n",
       "  </thead>\n",
       "  <tbody>\n",
       "    <tr>\n",
       "      <th>24</th>\n",
       "      <td>New York, NY</td>\n",
       "      <td>Data Scientist</td>\n",
       "      <td>indify</td>\n",
       "      <td>130000.0</td>\n",
       "      <td>Indify data scientists contribute to all aspec...</td>\n",
       "    </tr>\n",
       "    <tr>\n",
       "      <th>63</th>\n",
       "      <td>New York, NY</td>\n",
       "      <td>Data Scientist</td>\n",
       "      <td>WorldCover</td>\n",
       "      <td>90000.0</td>\n",
       "      <td>Your primary focus will be in applying data mi...</td>\n",
       "    </tr>\n",
       "    <tr>\n",
       "      <th>79</th>\n",
       "      <td>New York, NY</td>\n",
       "      <td>Data Scientist</td>\n",
       "      <td>Scienaptic Systems Inc</td>\n",
       "      <td>100000.0</td>\n",
       "      <td>As our representative in front of client, you ...</td>\n",
       "    </tr>\n",
       "    <tr>\n",
       "      <th>98</th>\n",
       "      <td>New York, NY 10038 (Financial District area)</td>\n",
       "      <td>Data Scientist</td>\n",
       "      <td>Enterprise Select</td>\n",
       "      <td>130000.0</td>\n",
       "      <td>Deep knowledge of applied statistics and machi...</td>\n",
       "    </tr>\n",
       "    <tr>\n",
       "      <th>105</th>\n",
       "      <td>New York, NY</td>\n",
       "      <td>Senior Research Analyst</td>\n",
       "      <td>Research Foundation of The City Univer...</td>\n",
       "      <td>75000.0</td>\n",
       "      <td>Overseeing all project activities related to d...</td>\n",
       "    </tr>\n",
       "  </tbody>\n",
       "</table>\n",
       "</div>"
      ],
      "text/plain": [
       "                                         location                    title  \\\n",
       "24                                   New York, NY           Data Scientist   \n",
       "63                                   New York, NY           Data Scientist   \n",
       "79                                   New York, NY           Data Scientist   \n",
       "98   New York, NY 10038 (Financial District area)           Data Scientist   \n",
       "105                                  New York, NY  Senior Research Analyst   \n",
       "\n",
       "                                               company    salary  \\\n",
       "24                                              indify  130000.0   \n",
       "63                                          WorldCover   90000.0   \n",
       "79                              Scienaptic Systems Inc  100000.0   \n",
       "98                                   Enterprise Select  130000.0   \n",
       "105          Research Foundation of The City Univer...   75000.0   \n",
       "\n",
       "                                               summary  \n",
       "24   Indify data scientists contribute to all aspec...  \n",
       "63   Your primary focus will be in applying data mi...  \n",
       "79   As our representative in front of client, you ...  \n",
       "98   Deep knowledge of applied statistics and machi...  \n",
       "105  Overseeing all project activities related to d...  "
      ]
     },
     "execution_count": 114,
     "metadata": {},
     "output_type": "execute_result"
    }
   ],
   "source": [
    "salaries.head()"
   ]
  },
  {
   "cell_type": "code",
   "execution_count": 115,
   "metadata": {},
   "outputs": [],
   "source": [
    "##### dist plotting"
   ]
  },
  {
   "cell_type": "code",
   "execution_count": 116,
   "metadata": {},
   "outputs": [],
   "source": [
    "import seaborn as sns\n",
    "import matplotlib.pyplot as plt\n",
    "\n",
    "%matplotlib inline"
   ]
  },
  {
   "cell_type": "code",
   "execution_count": 117,
   "metadata": {},
   "outputs": [
    {
     "name": "stderr",
     "output_type": "stream",
     "text": [
      "/anaconda3/lib/python3.6/site-packages/matplotlib/axes/_axes.py:6462: UserWarning: The 'normed' kwarg is deprecated, and has been replaced by the 'density' kwarg.\n",
      "  warnings.warn(\"The 'normed' kwarg is deprecated, and has been \"\n"
     ]
    },
    {
     "data": {
      "text/plain": [
       "<matplotlib.lines.Line2D at 0x1c27668b00>"
      ]
     },
     "execution_count": 117,
     "metadata": {},
     "output_type": "execute_result"
    },
    {
     "data": {
      "image/png": "[encoded data removed]",
      "text/plain": [
       "<Figure size 432x288 with 1 Axes>"
      ]
     },
     "metadata": {},
     "output_type": "display_data"
    }
   ],
   "source": [
    "ax = sns.distplot(salaries['salary'], bins=10)\n",
    "ax.axvline(salaries['salary'].mean(), c='r')\n",
    "ax.axvline(salaries['salary'].median(), c='g')"
   ]
  },
  {
   "cell_type": "code",
   "execution_count": 118,
   "metadata": {},
   "outputs": [],
   "source": [
    "twentieth = salaries['salary'].quantile(0.20)\n",
    "eightieth = salaries['salary'].quantile(0.80)"
   ]
  },
  {
   "cell_type": "code",
   "execution_count": 119,
   "metadata": {},
   "outputs": [
    {
     "data": {
      "text/plain": [
       "110000.0"
      ]
     },
     "execution_count": 119,
     "metadata": {},
     "output_type": "execute_result"
    }
   ],
   "source": [
    "median_salary = np.median(salaries.salary)\n",
    "median_salary"
   ]
  },
  {
   "cell_type": "code",
   "execution_count": 120,
   "metadata": {},
   "outputs": [],
   "source": [
    "salaries['high_salary'] = [1 if i > median_salary else 0 for i in salaries.salary]"
   ]
  },
  {
   "cell_type": "markdown",
   "metadata": {},
   "source": [
    "## Pre processing for vectorization"
   ]
  },
  {
   "cell_type": "code",
   "execution_count": 121,
   "metadata": {},
   "outputs": [],
   "source": [
    "from sklearn.feature_extraction.text import CountVectorizer, HashingVectorizer, TfidfVectorizer\n",
    "from sklearn.cross_validation import train_test_split"
   ]
  },
  {
   "cell_type": "code",
   "execution_count": 122,
   "metadata": {},
   "outputs": [
    {
     "data": {
      "text/html": [
       "<div>\n",
       "<style scoped>\n",
       "    .dataframe tbody tr th:only-of-type {\n",
       "        vertical-align: middle;\n",
       "    }\n",
       "\n",
       "    .dataframe tbody tr th {\n",
       "        vertical-align: top;\n",
       "    }\n",
       "\n",
       "    .dataframe thead th {\n",
       "        text-align: right;\n",
       "    }\n",
       "</style>\n",
       "<table border=\"1\" class=\"dataframe\">\n",
       "  <thead>\n",
       "    <tr style=\"text-align: right;\">\n",
       "      <th></th>\n",
       "      <th>summary</th>\n",
       "      <th>word_count</th>\n",
       "    </tr>\n",
       "  </thead>\n",
       "  <tbody>\n",
       "    <tr>\n",
       "      <th>24</th>\n",
       "      <td>Indify data scientists contribute to all aspec...</td>\n",
       "      <td>24</td>\n",
       "    </tr>\n",
       "    <tr>\n",
       "      <th>63</th>\n",
       "      <td>Your primary focus will be in applying data mi...</td>\n",
       "      <td>22</td>\n",
       "    </tr>\n",
       "    <tr>\n",
       "      <th>79</th>\n",
       "      <td>As our representative in front of client, you ...</td>\n",
       "      <td>26</td>\n",
       "    </tr>\n",
       "    <tr>\n",
       "      <th>98</th>\n",
       "      <td>Deep knowledge of applied statistics and machi...</td>\n",
       "      <td>21</td>\n",
       "    </tr>\n",
       "    <tr>\n",
       "      <th>105</th>\n",
       "      <td>Overseeing all project activities related to d...</td>\n",
       "      <td>20</td>\n",
       "    </tr>\n",
       "  </tbody>\n",
       "</table>\n",
       "</div>"
      ],
      "text/plain": [
       "                                               summary  word_count\n",
       "24   Indify data scientists contribute to all aspec...          24\n",
       "63   Your primary focus will be in applying data mi...          22\n",
       "79   As our representative in front of client, you ...          26\n",
       "98   Deep knowledge of applied statistics and machi...          21\n",
       "105  Overseeing all project activities related to d...          20"
      ]
     },
     "execution_count": 122,
     "metadata": {},
     "output_type": "execute_result"
    }
   ],
   "source": [
    "## Count Number of words in each summary of job\n",
    "\n",
    "salaries['word_count'] = salaries['summary'].apply(lambda x: len(str(x).split(\" \")))\n",
    "salaries[['summary','word_count']].head()"
   ]
  },
  {
   "cell_type": "code",
   "execution_count": 123,
   "metadata": {},
   "outputs": [
    {
     "data": {
      "text/html": [
       "<div>\n",
       "<style scoped>\n",
       "    .dataframe tbody tr th:only-of-type {\n",
       "        vertical-align: middle;\n",
       "    }\n",
       "\n",
       "    .dataframe tbody tr th {\n",
       "        vertical-align: top;\n",
       "    }\n",
       "\n",
       "    .dataframe thead th {\n",
       "        text-align: right;\n",
       "    }\n",
       "</style>\n",
       "<table border=\"1\" class=\"dataframe\">\n",
       "  <thead>\n",
       "    <tr style=\"text-align: right;\">\n",
       "      <th></th>\n",
       "      <th>summary</th>\n",
       "      <th>char_count</th>\n",
       "    </tr>\n",
       "  </thead>\n",
       "  <tbody>\n",
       "    <tr>\n",
       "      <th>24</th>\n",
       "      <td>Indify data scientists contribute to all aspec...</td>\n",
       "      <td>143</td>\n",
       "    </tr>\n",
       "    <tr>\n",
       "      <th>63</th>\n",
       "      <td>Your primary focus will be in applying data mi...</td>\n",
       "      <td>158</td>\n",
       "    </tr>\n",
       "    <tr>\n",
       "      <th>79</th>\n",
       "      <td>As our representative in front of client, you ...</td>\n",
       "      <td>162</td>\n",
       "    </tr>\n",
       "    <tr>\n",
       "      <th>98</th>\n",
       "      <td>Deep knowledge of applied statistics and machi...</td>\n",
       "      <td>161</td>\n",
       "    </tr>\n",
       "    <tr>\n",
       "      <th>105</th>\n",
       "      <td>Overseeing all project activities related to d...</td>\n",
       "      <td>153</td>\n",
       "    </tr>\n",
       "  </tbody>\n",
       "</table>\n",
       "</div>"
      ],
      "text/plain": [
       "                                               summary  char_count\n",
       "24   Indify data scientists contribute to all aspec...         143\n",
       "63   Your primary focus will be in applying data mi...         158\n",
       "79   As our representative in front of client, you ...         162\n",
       "98   Deep knowledge of applied statistics and machi...         161\n",
       "105  Overseeing all project activities related to d...         153"
      ]
     },
     "execution_count": 123,
     "metadata": {},
     "output_type": "execute_result"
    }
   ],
   "source": [
    "## Count Number of characters in each summary of job\n",
    "\n",
    "salaries['char_count'] = salaries['summary'].str.len() ## this also includes spaces\n",
    "salaries[['summary','char_count']].head()"
   ]
  },
  {
   "cell_type": "code",
   "execution_count": 124,
   "metadata": {},
   "outputs": [
    {
     "data": {
      "text/html": [
       "<div>\n",
       "<style scoped>\n",
       "    .dataframe tbody tr th:only-of-type {\n",
       "        vertical-align: middle;\n",
       "    }\n",
       "\n",
       "    .dataframe tbody tr th {\n",
       "        vertical-align: top;\n",
       "    }\n",
       "\n",
       "    .dataframe thead th {\n",
       "        text-align: right;\n",
       "    }\n",
       "</style>\n",
       "<table border=\"1\" class=\"dataframe\">\n",
       "  <thead>\n",
       "    <tr style=\"text-align: right;\">\n",
       "      <th></th>\n",
       "      <th>summary</th>\n",
       "      <th>stopwords</th>\n",
       "    </tr>\n",
       "  </thead>\n",
       "  <tbody>\n",
       "    <tr>\n",
       "      <th>24</th>\n",
       "      <td>Indify data scientists contribute to all aspec...</td>\n",
       "      <td>12</td>\n",
       "    </tr>\n",
       "    <tr>\n",
       "      <th>63</th>\n",
       "      <td>Your primary focus will be in applying data mi...</td>\n",
       "      <td>6</td>\n",
       "    </tr>\n",
       "    <tr>\n",
       "      <th>79</th>\n",
       "      <td>As our representative in front of client, you ...</td>\n",
       "      <td>11</td>\n",
       "    </tr>\n",
       "    <tr>\n",
       "      <th>98</th>\n",
       "      <td>Deep knowledge of applied statistics and machi...</td>\n",
       "      <td>6</td>\n",
       "    </tr>\n",
       "    <tr>\n",
       "      <th>105</th>\n",
       "      <td>Overseeing all project activities related to d...</td>\n",
       "      <td>5</td>\n",
       "    </tr>\n",
       "  </tbody>\n",
       "</table>\n",
       "</div>"
      ],
      "text/plain": [
       "                                               summary  stopwords\n",
       "24   Indify data scientists contribute to all aspec...         12\n",
       "63   Your primary focus will be in applying data mi...          6\n",
       "79   As our representative in front of client, you ...         11\n",
       "98   Deep knowledge of applied statistics and machi...          6\n",
       "105  Overseeing all project activities related to d...          5"
      ]
     },
     "execution_count": 124,
     "metadata": {},
     "output_type": "execute_result"
    }
   ],
   "source": [
    "#check for stop words\n",
    "\n",
    "import nltk\n",
    "#nltk.download()\n",
    "from nltk.corpus import stopwords\n",
    "stop = stopwords.words('english')\n",
    "\n",
    "salaries['stopwords'] = salaries['summary'].apply(lambda x: len([x for x in x.split() if x in stop]))\n",
    "salaries[['summary','stopwords']].head()"
   ]
  },
  {
   "cell_type": "code",
   "execution_count": 125,
   "metadata": {},
   "outputs": [
    {
     "data": {
      "text/plain": [
       "24     indify data scientists contribute to all aspec...\n",
       "63     your primary focus will be in applying data mi...\n",
       "79     as our representative in front of client, you ...\n",
       "98     deep knowledge of applied statistics and machi...\n",
       "105    overseeing all project activities related to d...\n",
       "Name: summary, dtype: object"
      ]
     },
     "execution_count": 125,
     "metadata": {},
     "output_type": "execute_result"
    }
   ],
   "source": [
    "## make everything lowercase\n",
    "\n",
    "salaries['summary'] = salaries['summary'].apply(lambda x: x.lower())\n",
    "salaries['summary'].head()"
   ]
  },
  {
   "cell_type": "code",
   "execution_count": 126,
   "metadata": {},
   "outputs": [
    {
     "data": {
      "text/plain": [
       "24     indify data scientists contribute to all aspec...\n",
       "63     your primary focus will be in applying data mi...\n",
       "79     as our representative in front of client you w...\n",
       "98     deep knowledge of applied statistics and machi...\n",
       "105    overseeing all project activities related to d...\n",
       "Name: summary, dtype: object"
      ]
     },
     "execution_count": 126,
     "metadata": {},
     "output_type": "execute_result"
    }
   ],
   "source": [
    "# Remove punctuations\n",
    "\n",
    "salaries['summary'] = salaries['summary'].str.replace('[^\\w\\s]','')\n",
    "salaries['summary'].head()\n"
   ]
  },
  {
   "cell_type": "code",
   "execution_count": 127,
   "metadata": {},
   "outputs": [
    {
     "data": {
      "text/plain": [
       "catalist             1\n",
       "realize              1\n",
       "fancy                1\n",
       "internationalized    1\n",
       "conditions           1\n",
       "leverages            1\n",
       "engage               1\n",
       "near                 1\n",
       "graphical            1\n",
       "keep                 1\n",
       "dtype: int64"
      ]
     },
     "execution_count": 127,
     "metadata": {},
     "output_type": "execute_result"
    }
   ],
   "source": [
    "# Check for rare words\n",
    "\n",
    "freq = pd.Series(' '.join(salaries['summary']).split()).value_counts()[-10:]\n",
    "freq"
   ]
  },
  {
   "cell_type": "code",
   "execution_count": 128,
   "metadata": {},
   "outputs": [],
   "source": [
    "# Correct Spellings\n",
    "\n",
    "# import textblob\n",
    "# from textblob import TextBlob\n",
    "# salaries['summary'][:5].apply(lambda x: str(TextBlob(x).correct()))"
   ]
  },
  {
   "cell_type": "code",
   "execution_count": 129,
   "metadata": {},
   "outputs": [
    {
     "data": {
      "text/plain": [
       "24     indify data scientists contribute aspects plat...\n",
       "63     primary focus applying data mining techniques ...\n",
       "79     representative front client opportunity constr...\n",
       "98     deep knowledge applied statistics machine lear...\n",
       "105    overseeing project activities related data col...\n",
       "Name: summary, dtype: object"
      ]
     },
     "execution_count": 129,
     "metadata": {},
     "output_type": "execute_result"
    }
   ],
   "source": [
    "#Remove Stop words\n",
    "\n",
    "stop = stopwords.words('english')\n",
    "salaries['summary']  = salaries['summary'] .apply(lambda x: \" \".join(x for x in x.split() if x not in stop))\n",
    "salaries['summary'].head()"
   ]
  },
  {
   "cell_type": "code",
   "execution_count": 130,
   "metadata": {},
   "outputs": [
    {
     "data": {
      "text/plain": [
       "24     indify data scientists contribute aspects plat...\n",
       "63     primary focus applying data mining techniques ...\n",
       "79     representative front client opportunity constr...\n",
       "98     deep knowledge applied statistics machine lear...\n",
       "105    overseeing project activities related data col...\n",
       "Name: summary, dtype: object"
      ]
     },
     "execution_count": 130,
     "metadata": {},
     "output_type": "execute_result"
    }
   ],
   "source": [
    "## Stemming\n",
    "\n",
    "from nltk.stem import PorterStemmer\n",
    "st = PorterStemmer()\n",
    "salaries['summary'][:5].apply(lambda x: \" \".join([st.stem(word) for word in x.split()]))\n",
    "salaries['summary'].head()"
   ]
  },
  {
   "cell_type": "code",
   "execution_count": 131,
   "metadata": {},
   "outputs": [
    {
     "data": {
      "text/plain": [
       "24     indify data scientist contribute aspect platfo...\n",
       "63     primary focus applying data mining technique s...\n",
       "79     representative front client opportunity constr...\n",
       "98     deep knowledge applied statistic machine learn...\n",
       "105    overseeing project activity related data colle...\n",
       "Name: summary, dtype: object"
      ]
     },
     "execution_count": 131,
     "metadata": {},
     "output_type": "execute_result"
    }
   ],
   "source": [
    "## Lemmatization\n",
    "\n",
    "from textblob import Word\n",
    "salaries['summary'] = salaries['summary'].apply(lambda x: \" \".join([Word(word).lemmatize() for word in x.split()]))\n",
    "salaries['summary'].head()"
   ]
  },
  {
   "cell_type": "code",
   "execution_count": 132,
   "metadata": {},
   "outputs": [
    {
     "data": {
      "text/plain": [
       "24     indify data scientist contribute aspect platfo...\n",
       "63     primary focus applying data mining technique s...\n",
       "79     representative front client opportunity constr...\n",
       "98     deep knowledge applied statistic machine learn...\n",
       "105    overseeing project activity related data colle...\n",
       "Name: summary, dtype: object"
      ]
     },
     "execution_count": 132,
     "metadata": {},
     "output_type": "execute_result"
    }
   ],
   "source": [
    "###replace everything except the letters and numbers in the spaces.\n",
    "\n",
    "\n",
    "salaries['summary'] = salaries['summary'].replace('[^a-zA-Z0-9]', ' ', regex = True)\n",
    "salaries['summary'].head(5)\n"
   ]
  },
  {
   "cell_type": "code",
   "execution_count": 133,
   "metadata": {},
   "outputs": [
    {
     "data": {
      "text/plain": [
       "(494, 9)"
      ]
     },
     "execution_count": 133,
     "metadata": {},
     "output_type": "execute_result"
    }
   ],
   "source": [
    "salaries.shape"
   ]
  },
  {
   "cell_type": "code",
   "execution_count": 134,
   "metadata": {},
   "outputs": [
    {
     "data": {
      "text/plain": [
       "494"
      ]
     },
     "execution_count": 134,
     "metadata": {},
     "output_type": "execute_result"
    }
   ],
   "source": [
    "salaries.summary.count()"
   ]
  },
  {
   "cell_type": "code",
   "execution_count": 135,
   "metadata": {},
   "outputs": [
    {
     "data": {
      "text/html": [
       "<div>\n",
       "<style scoped>\n",
       "    .dataframe tbody tr th:only-of-type {\n",
       "        vertical-align: middle;\n",
       "    }\n",
       "\n",
       "    .dataframe tbody tr th {\n",
       "        vertical-align: top;\n",
       "    }\n",
       "\n",
       "    .dataframe thead th {\n",
       "        text-align: right;\n",
       "    }\n",
       "</style>\n",
       "<table border=\"1\" class=\"dataframe\">\n",
       "  <thead>\n",
       "    <tr style=\"text-align: right;\">\n",
       "      <th></th>\n",
       "      <th>location</th>\n",
       "      <th>title</th>\n",
       "      <th>company</th>\n",
       "      <th>salary</th>\n",
       "      <th>summary</th>\n",
       "      <th>high_salary</th>\n",
       "      <th>word_count</th>\n",
       "      <th>char_count</th>\n",
       "      <th>stopwords</th>\n",
       "    </tr>\n",
       "  </thead>\n",
       "  <tbody>\n",
       "    <tr>\n",
       "      <th>0</th>\n",
       "      <td>New York, NY</td>\n",
       "      <td>Data Scientist</td>\n",
       "      <td>indify</td>\n",
       "      <td>130000.0</td>\n",
       "      <td>indify data scientist contribute aspect platfo...</td>\n",
       "      <td>1</td>\n",
       "      <td>24</td>\n",
       "      <td>143</td>\n",
       "      <td>12</td>\n",
       "    </tr>\n",
       "    <tr>\n",
       "      <th>1</th>\n",
       "      <td>New York, NY</td>\n",
       "      <td>Data Scientist</td>\n",
       "      <td>WorldCover</td>\n",
       "      <td>90000.0</td>\n",
       "      <td>primary focus applying data mining technique s...</td>\n",
       "      <td>0</td>\n",
       "      <td>22</td>\n",
       "      <td>158</td>\n",
       "      <td>6</td>\n",
       "    </tr>\n",
       "    <tr>\n",
       "      <th>2</th>\n",
       "      <td>New York, NY</td>\n",
       "      <td>Data Scientist</td>\n",
       "      <td>Scienaptic Systems Inc</td>\n",
       "      <td>100000.0</td>\n",
       "      <td>representative front client opportunity constr...</td>\n",
       "      <td>0</td>\n",
       "      <td>26</td>\n",
       "      <td>162</td>\n",
       "      <td>11</td>\n",
       "    </tr>\n",
       "    <tr>\n",
       "      <th>3</th>\n",
       "      <td>New York, NY 10038 (Financial District area)</td>\n",
       "      <td>Data Scientist</td>\n",
       "      <td>Enterprise Select</td>\n",
       "      <td>130000.0</td>\n",
       "      <td>deep knowledge applied statistic machine learn...</td>\n",
       "      <td>1</td>\n",
       "      <td>21</td>\n",
       "      <td>161</td>\n",
       "      <td>6</td>\n",
       "    </tr>\n",
       "    <tr>\n",
       "      <th>4</th>\n",
       "      <td>New York, NY</td>\n",
       "      <td>Senior Research Analyst</td>\n",
       "      <td>Research Foundation of The City Univer...</td>\n",
       "      <td>75000.0</td>\n",
       "      <td>overseeing project activity related data colle...</td>\n",
       "      <td>0</td>\n",
       "      <td>20</td>\n",
       "      <td>153</td>\n",
       "      <td>5</td>\n",
       "    </tr>\n",
       "  </tbody>\n",
       "</table>\n",
       "</div>"
      ],
      "text/plain": [
       "                                       location                    title  \\\n",
       "0                                  New York, NY           Data Scientist   \n",
       "1                                  New York, NY           Data Scientist   \n",
       "2                                  New York, NY           Data Scientist   \n",
       "3  New York, NY 10038 (Financial District area)           Data Scientist   \n",
       "4                                  New York, NY  Senior Research Analyst   \n",
       "\n",
       "                                             company    salary  \\\n",
       "0                                             indify  130000.0   \n",
       "1                                         WorldCover   90000.0   \n",
       "2                             Scienaptic Systems Inc  100000.0   \n",
       "3                                  Enterprise Select  130000.0   \n",
       "4          Research Foundation of The City Univer...   75000.0   \n",
       "\n",
       "                                             summary  high_salary  word_count  \\\n",
       "0  indify data scientist contribute aspect platfo...            1          24   \n",
       "1  primary focus applying data mining technique s...            0          22   \n",
       "2  representative front client opportunity constr...            0          26   \n",
       "3  deep knowledge applied statistic machine learn...            1          21   \n",
       "4  overseeing project activity related data colle...            0          20   \n",
       "\n",
       "   char_count  stopwords  \n",
       "0         143         12  \n",
       "1         158          6  \n",
       "2         162         11  \n",
       "3         161          6  \n",
       "4         153          5  "
      ]
     },
     "execution_count": 135,
     "metadata": {},
     "output_type": "execute_result"
    }
   ],
   "source": [
    "#reset Index\n",
    "\n",
    "salaries.reset_index(drop= True, inplace=True)\n",
    "salaries.head()\n"
   ]
  },
  {
   "cell_type": "code",
   "execution_count": 136,
   "metadata": {},
   "outputs": [],
   "source": [
    "salaries.location = pd.Categorical(salaries.location)\n",
    "salaries['loc_code'] = salaries.location.cat.codes\n",
    "columns = ['word_count','char_count','stopwords']\n",
    "salaries.drop(columns, inplace=True, axis=1)\n",
    "salaries.to_csv('indeed-results_clean.csv', index=False, encoding='utf-8')"
   ]
  },
  {
   "cell_type": "markdown",
   "metadata": {},
   "source": [
    "## Vectorize Summary column using Tfidf Vectorizer & apply PCA"
   ]
  },
  {
   "cell_type": "code",
   "execution_count": 137,
   "metadata": {},
   "outputs": [],
   "source": [
    "# from sklearn.feature_extraction.text import CountVectorizer,TfidfVectorizer\n",
    "# vectorizer = TfidfVectorizer()\n",
    "# X_tfidf = vectorizer.fit_transform(X_train) \n",
    "# print(X_tfidf)\n",
    "# vect = CountVectorizer().fit(X_train)\n",
    "# vect"
   ]
  },
  {
   "cell_type": "code",
   "execution_count": 138,
   "metadata": {},
   "outputs": [],
   "source": [
    "\n",
    "# used words (axis in our multi-dimensional space)\n",
    "# vectorizer.get_feature_names()[::2]\n"
   ]
  },
  {
   "cell_type": "code",
   "execution_count": 139,
   "metadata": {},
   "outputs": [],
   "source": [
    "# from sklearn.decomposition import PCA\n",
    "# from sklearn.feature_extraction.text import CountVectorizer, TfidfTransformer\n",
    "# from sklearn.pipeline import Pipeline\n",
    "# pipeline = Pipeline([\n",
    "#     ('vect', CountVectorizer()),\n",
    "#     ('tfidf', TfidfTransformer()),\n",
    "# ])        \n",
    "# Xtrain = pipeline.fit_transform(X_train).todense()\n",
    "# Xtest = pipeline.fit_transform(X_test).todense()\n",
    "\n",
    "# pca_xtrain = PCA(n_components=1).fit(Xtrain)\n",
    "# pca_xtest = PCA(n_components=1).fit(Xtest)\n",
    "\n",
    "# X_train_data = pca_xtrain.transform(Xtrain)\n",
    "# X_test_data = pca_xtest.transform(Xtest)\n",
    "\n",
    "# X_train_data\n",
    "#plt.scatter(data2D[:,0], data2D[:,1], c='r')\n",
    "#plt.show() "
   ]
  },
  {
   "cell_type": "markdown",
   "metadata": {},
   "source": [
    "### Split Train and Test Data"
   ]
  },
  {
   "cell_type": "code",
   "execution_count": 142,
   "metadata": {},
   "outputs": [
    {
     "name": "stdout",
     "output_type": "stream",
     "text": [
      "(330,)\n",
      "(164,)\n",
      "(330,)\n",
      "(164,)\n"
     ]
    },
    {
     "data": {
      "text/plain": [
       "81     associate data scientist exciting opportunity ...\n",
       "353    pattern recognition machine learning data mini...\n",
       "301    fast growing data analytics consulting shop lo...\n",
       "171    data scientist director retail statistical met...\n",
       "465    background python r machine learning hadoop sp...\n",
       "Name: summary, dtype: object"
      ]
     },
     "execution_count": 142,
     "metadata": {},
     "output_type": "execute_result"
    }
   ],
   "source": [
    "from sklearn.model_selection import train_test_split\n",
    "\n",
    "X_train, X_test, y_train, y_test = train_test_split(salaries['summary'], salaries['salary'],test_size = 0.33,random_state = 0)\n",
    "\n",
    "print(X_train.shape)\n",
    "print(X_test.shape)\n",
    "print(y_train.shape)\n",
    "print(y_test.shape)\n",
    "X_train.head()"
   ]
  },
  {
   "cell_type": "code",
   "execution_count": 143,
   "metadata": {},
   "outputs": [
    {
     "name": "stdout",
     "output_type": "stream",
     "text": [
      "X_train first entry: \n",
      "\n",
      " indify data scientist contribute aspect platform vital part envisioning creating future product\n",
      "\n",
      "\n",
      "X_train shape:  (330,)\n"
     ]
    }
   ],
   "source": [
    "print('X_train first entry: \\n\\n', X_train[0])\n",
    "print('\\n\\nX_train shape: ', X_train.shape)"
   ]
  },
  {
   "cell_type": "markdown",
   "metadata": {},
   "source": [
    "### Apply CountVectorizer & TfidfVectorizer"
   ]
  },
  {
   "cell_type": "code",
   "execution_count": 144,
   "metadata": {},
   "outputs": [],
   "source": [
    "# CountVectorizer\n",
    "from sklearn.feature_extraction.text import CountVectorizer\n",
    "\n",
    "vect = CountVectorizer().fit(X_train)"
   ]
  },
  {
   "cell_type": "code",
   "execution_count": 145,
   "metadata": {},
   "outputs": [
    {
     "data": {
      "text/plain": [
       "['02', 'compliance', 'ground', 'opened', 'smith']"
      ]
     },
     "execution_count": 145,
     "metadata": {},
     "output_type": "execute_result"
    }
   ],
   "source": [
    "vect.get_feature_names()[::300]"
   ]
  },
  {
   "cell_type": "code",
   "execution_count": 146,
   "metadata": {},
   "outputs": [
    {
     "data": {
      "text/plain": [
       "1405"
      ]
     },
     "execution_count": 146,
     "metadata": {},
     "output_type": "execute_result"
    }
   ],
   "source": [
    "len(vect.get_feature_names())"
   ]
  },
  {
   "cell_type": "code",
   "execution_count": 147,
   "metadata": {},
   "outputs": [
    {
     "data": {
      "text/plain": [
       "<330x1405 sparse matrix of type '<class 'numpy.int64'>'\n",
       "\twith 4483 stored elements in Compressed Sparse Row format>"
      ]
     },
     "execution_count": 147,
     "metadata": {},
     "output_type": "execute_result"
    }
   ],
   "source": [
    "# transform the documents in the training data to a document-term matrix\n",
    "X_train_vectorized = vect.transform(X_train)\n",
    "X_train_vectorized"
   ]
  },
  {
   "cell_type": "code",
   "execution_count": 148,
   "metadata": {},
   "outputs": [
    {
     "data": {
      "text/plain": [
       "LinearRegression(copy_X=True, fit_intercept=True, n_jobs=1, normalize=False)"
      ]
     },
     "execution_count": 148,
     "metadata": {},
     "output_type": "execute_result"
    }
   ],
   "source": [
    "from sklearn.linear_model import LinearRegression\n",
    "\n",
    "model = LinearRegression()\n",
    "model.fit(X_train_vectorized, y_train)\n"
   ]
  },
  {
   "cell_type": "code",
   "execution_count": 149,
   "metadata": {},
   "outputs": [
    {
     "name": "stdout",
     "output_type": "stream",
     "text": [
      "R^2 score for Linear Regression:  0.16134814965729705\n"
     ]
    }
   ],
   "source": [
    "from sklearn.metrics import r2_score\n",
    "predictions = model.predict(vect.transform(X_test))\n",
    "print(\"R^2 score for Linear Regression: \",model.score(vect.transform(X_test), y_test))"
   ]
  },
  {
   "cell_type": "code",
   "execution_count": 150,
   "metadata": {},
   "outputs": [
    {
     "name": "stdout",
     "output_type": "stream",
     "text": [
      "Smallest Coefs: \n",
      "['02']\n",
      "\n"
     ]
    }
   ],
   "source": [
    "# get the feature names as numpy array\n",
    "feature_names = np.array(vect.get_feature_names())\n",
    "\n",
    "# Sort the coefficients from the model\n",
    "sorted_coef_index = model.coef_[0].argsort()\n",
    "\n",
    "# Find the 10 smallest and 10 largest coefficients\n",
    "# The 10 largest coefficients are being indexed using [:-11:-1] \n",
    "# so the list returned is in order of largest to smallest\n",
    "print('Smallest Coefs: \\n{}\\n'.format(feature_names[sorted_coef_index[:10]]))\n",
    "#print('Largest Coefs: \\n{}\\n'.format(feature_names[sorted_coef_index[:-11:-1]]))"
   ]
  },
  {
   "cell_type": "code",
   "execution_count": 151,
   "metadata": {},
   "outputs": [
    {
     "data": {
      "text/plain": [
       "208"
      ]
     },
     "execution_count": 151,
     "metadata": {},
     "output_type": "execute_result"
    }
   ],
   "source": [
    "#Tfidf\n",
    "from sklearn.feature_extraction.text import TfidfVectorizer\n",
    "\n",
    "# Fit the TfidfVectorizer to the training data specifiying a minimum document frequency of 5\n",
    "vect = TfidfVectorizer(min_df = 5).fit(X_train)\n",
    "len(vect.get_feature_names())"
   ]
  },
  {
   "cell_type": "code",
   "execution_count": 152,
   "metadata": {},
   "outputs": [
    {
     "name": "stdout",
     "output_type": "stream",
     "text": [
      "R^2 score for Linear Regression:  -0.6382541693048629\n"
     ]
    }
   ],
   "source": [
    "X_train_vectorized = vect.transform(X_train)\n",
    "\n",
    "model = LinearRegression()\n",
    "model.fit(X_train_vectorized, y_train)\n",
    "predictions = model.predict(vect.transform(X_test))\n",
    "print(\"R^2 score for Linear Regression: \",model.score(vect.transform(X_test), y_test))"
   ]
  },
  {
   "cell_type": "code",
   "execution_count": 153,
   "metadata": {},
   "outputs": [
    {
     "name": "stdout",
     "output_type": "stream",
     "text": [
      "[0]\n",
      "Smallest coef: \n",
      "['ability']\n",
      "\n"
     ]
    }
   ],
   "source": [
    "feature_names = np.array(vect.get_feature_names())\n",
    "\n",
    "sorted_coef_index = model.coef_[0].argsort()\n",
    "print(sorted_coef_index);\n",
    "print('Smallest coef: \\n{}\\n'.format(feature_names[sorted_coef_index[:10]]))\n",
    "#print('Largest coef: \\n{}\\n'.format(feature_names[sorted_coef_index[:-11:-1]]))"
   ]
  },
  {
   "cell_type": "markdown",
   "metadata": {},
   "source": [
    "### Plot the Linear Regression Graph for Summary vs Salary\n",
    "\n",
    "\n",
    "### Plot the Linear Regression Graph for Title vs Salary"
   ]
  },
  {
   "cell_type": "code",
   "execution_count": null,
   "metadata": {},
   "outputs": [],
   "source": [
    "#####  Multidimensional sparse array cannot be plotted as a 2D graph ###\n",
    "\n",
    "from matplotlib.pyplot import figure\n",
    "\n",
    "figure(num=None, figsize=(8, 6), dpi=80, facecolor='w', edgecolor='k')\n",
    "\n",
    "plt.scatter(vect.transform(X_test), y_test, c='g')\n",
    "#plt.scatter(X_train, y_train)\n",
    "plt.plot(vect.transform(X_test), predictions, c='r')\n",
    "plt.title(\"Linear Regression - Regressor\")\n",
    "plt.xlabel(\"Summary\")\n",
    "plt.ylabel(\"Salary  in $\")\n",
    "plt.show()"
   ]
  },
  {
   "cell_type": "code",
   "execution_count": 76,
   "metadata": {},
   "outputs": [
    {
     "data": {
      "text/html": [
       "<div>\n",
       "<style scoped>\n",
       "    .dataframe tbody tr th:only-of-type {\n",
       "        vertical-align: middle;\n",
       "    }\n",
       "\n",
       "    .dataframe tbody tr th {\n",
       "        vertical-align: top;\n",
       "    }\n",
       "\n",
       "    .dataframe thead th {\n",
       "        text-align: right;\n",
       "    }\n",
       "</style>\n",
       "<table border=\"1\" class=\"dataframe\">\n",
       "  <thead>\n",
       "    <tr style=\"text-align: right;\">\n",
       "      <th></th>\n",
       "      <th>location</th>\n",
       "      <th>title</th>\n",
       "      <th>company</th>\n",
       "      <th>salary</th>\n",
       "      <th>summary</th>\n",
       "      <th>high_salary</th>\n",
       "      <th>loc_code</th>\n",
       "    </tr>\n",
       "  </thead>\n",
       "  <tbody>\n",
       "    <tr>\n",
       "      <th>0</th>\n",
       "      <td>New York, NY</td>\n",
       "      <td>Data Scientist</td>\n",
       "      <td>indify</td>\n",
       "      <td>130000.0</td>\n",
       "      <td>indify data scientist contribute aspect platfo...</td>\n",
       "      <td>1</td>\n",
       "      <td>88</td>\n",
       "    </tr>\n",
       "    <tr>\n",
       "      <th>1</th>\n",
       "      <td>New York, NY</td>\n",
       "      <td>Data Scientist</td>\n",
       "      <td>WorldCover</td>\n",
       "      <td>90000.0</td>\n",
       "      <td>primary focus applying data mining technique s...</td>\n",
       "      <td>0</td>\n",
       "      <td>88</td>\n",
       "    </tr>\n",
       "    <tr>\n",
       "      <th>2</th>\n",
       "      <td>New York, NY</td>\n",
       "      <td>Data Scientist</td>\n",
       "      <td>Scienaptic Systems Inc</td>\n",
       "      <td>100000.0</td>\n",
       "      <td>representative front client opportunity constr...</td>\n",
       "      <td>0</td>\n",
       "      <td>88</td>\n",
       "    </tr>\n",
       "    <tr>\n",
       "      <th>3</th>\n",
       "      <td>New York, NY 10038 (Financial District area)</td>\n",
       "      <td>Data Scientist</td>\n",
       "      <td>Enterprise Select</td>\n",
       "      <td>130000.0</td>\n",
       "      <td>deep knowledge applied statistic machine learn...</td>\n",
       "      <td>1</td>\n",
       "      <td>96</td>\n",
       "    </tr>\n",
       "    <tr>\n",
       "      <th>4</th>\n",
       "      <td>New York, NY</td>\n",
       "      <td>Senior Research Analyst</td>\n",
       "      <td>Research Foundation of The City Univer...</td>\n",
       "      <td>75000.0</td>\n",
       "      <td>overseeing project activity related data colle...</td>\n",
       "      <td>0</td>\n",
       "      <td>88</td>\n",
       "    </tr>\n",
       "  </tbody>\n",
       "</table>\n",
       "</div>"
      ],
      "text/plain": [
       "                                       location                    title  \\\n",
       "0                                  New York, NY           Data Scientist   \n",
       "1                                  New York, NY           Data Scientist   \n",
       "2                                  New York, NY           Data Scientist   \n",
       "3  New York, NY 10038 (Financial District area)           Data Scientist   \n",
       "4                                  New York, NY  Senior Research Analyst   \n",
       "\n",
       "                                             company    salary  \\\n",
       "0                                             indify  130000.0   \n",
       "1                                         WorldCover   90000.0   \n",
       "2                             Scienaptic Systems Inc  100000.0   \n",
       "3                                  Enterprise Select  130000.0   \n",
       "4          Research Foundation of The City Univer...   75000.0   \n",
       "\n",
       "                                             summary  high_salary  loc_code  \n",
       "0  indify data scientist contribute aspect platfo...            1        88  \n",
       "1  primary focus applying data mining technique s...            0        88  \n",
       "2  representative front client opportunity constr...            0        88  \n",
       "3  deep knowledge applied statistic machine learn...            1        96  \n",
       "4  overseeing project activity related data colle...            0        88  "
      ]
     },
     "execution_count": 76,
     "metadata": {},
     "output_type": "execute_result"
    }
   ],
   "source": [
    "salaries.head()"
   ]
  },
  {
   "cell_type": "code",
   "execution_count": 77,
   "metadata": {},
   "outputs": [
    {
     "data": {
      "text/html": [
       "<div>\n",
       "<style scoped>\n",
       "    .dataframe tbody tr th:only-of-type {\n",
       "        vertical-align: middle;\n",
       "    }\n",
       "\n",
       "    .dataframe tbody tr th {\n",
       "        vertical-align: top;\n",
       "    }\n",
       "\n",
       "    .dataframe thead th {\n",
       "        text-align: right;\n",
       "    }\n",
       "</style>\n",
       "<table border=\"1\" class=\"dataframe\">\n",
       "  <thead>\n",
       "    <tr style=\"text-align: right;\">\n",
       "      <th></th>\n",
       "      <th>location</th>\n",
       "      <th>title</th>\n",
       "      <th>company</th>\n",
       "      <th>salary</th>\n",
       "      <th>summary</th>\n",
       "      <th>high_salary</th>\n",
       "      <th>loc_code</th>\n",
       "    </tr>\n",
       "  </thead>\n",
       "  <tbody>\n",
       "    <tr>\n",
       "      <th>0</th>\n",
       "      <td>New York, NY</td>\n",
       "      <td>Data Scientist</td>\n",
       "      <td>indify</td>\n",
       "      <td>130000.0</td>\n",
       "      <td>indify data scientist contribute aspect platfo...</td>\n",
       "      <td>1</td>\n",
       "      <td>88</td>\n",
       "    </tr>\n",
       "    <tr>\n",
       "      <th>1</th>\n",
       "      <td>New York, NY</td>\n",
       "      <td>Data Scientist</td>\n",
       "      <td>WorldCover</td>\n",
       "      <td>90000.0</td>\n",
       "      <td>primary focus applying data mining technique s...</td>\n",
       "      <td>0</td>\n",
       "      <td>88</td>\n",
       "    </tr>\n",
       "    <tr>\n",
       "      <th>2</th>\n",
       "      <td>New York, NY</td>\n",
       "      <td>Data Scientist</td>\n",
       "      <td>Scienaptic Systems Inc</td>\n",
       "      <td>100000.0</td>\n",
       "      <td>representative front client opportunity constr...</td>\n",
       "      <td>0</td>\n",
       "      <td>88</td>\n",
       "    </tr>\n",
       "    <tr>\n",
       "      <th>3</th>\n",
       "      <td>New York, NY 10038 (Financial District area)</td>\n",
       "      <td>Data Scientist</td>\n",
       "      <td>Enterprise Select</td>\n",
       "      <td>130000.0</td>\n",
       "      <td>deep knowledge applied statistic machine learn...</td>\n",
       "      <td>1</td>\n",
       "      <td>96</td>\n",
       "    </tr>\n",
       "    <tr>\n",
       "      <th>4</th>\n",
       "      <td>New York, NY</td>\n",
       "      <td>Senior Research Analyst</td>\n",
       "      <td>Research Foundation of The City Univer...</td>\n",
       "      <td>75000.0</td>\n",
       "      <td>overseeing project activity related data colle...</td>\n",
       "      <td>0</td>\n",
       "      <td>88</td>\n",
       "    </tr>\n",
       "  </tbody>\n",
       "</table>\n",
       "</div>"
      ],
      "text/plain": [
       "                                       location                    title  \\\n",
       "0                                  New York, NY           Data Scientist   \n",
       "1                                  New York, NY           Data Scientist   \n",
       "2                                  New York, NY           Data Scientist   \n",
       "3  New York, NY 10038 (Financial District area)           Data Scientist   \n",
       "4                                  New York, NY  Senior Research Analyst   \n",
       "\n",
       "                                             company    salary  \\\n",
       "0                                             indify  130000.0   \n",
       "1                                         WorldCover   90000.0   \n",
       "2                             Scienaptic Systems Inc  100000.0   \n",
       "3                                  Enterprise Select  130000.0   \n",
       "4          Research Foundation of The City Univer...   75000.0   \n",
       "\n",
       "                                             summary  high_salary  loc_code  \n",
       "0  indify data scientist contribute aspect platfo...            1        88  \n",
       "1  primary focus applying data mining technique s...            0        88  \n",
       "2  representative front client opportunity constr...            0        88  \n",
       "3  deep knowledge applied statistic machine learn...            1        96  \n",
       "4  overseeing project activity related data colle...            0        88  "
      ]
     },
     "execution_count": 77,
     "metadata": {},
     "output_type": "execute_result"
    }
   ],
   "source": [
    "final = pd.read_csv('indeed-results_clean.csv')\n",
    "final.head()\n",
    "salaries_reg = final\n",
    "salaries_reg.head()"
   ]
  },
  {
   "cell_type": "code",
   "execution_count": 78,
   "metadata": {},
   "outputs": [
    {
     "data": {
      "text/html": [
       "<div>\n",
       "<style scoped>\n",
       "    .dataframe tbody tr th:only-of-type {\n",
       "        vertical-align: middle;\n",
       "    }\n",
       "\n",
       "    .dataframe tbody tr th {\n",
       "        vertical-align: top;\n",
       "    }\n",
       "\n",
       "    .dataframe thead th {\n",
       "        text-align: right;\n",
       "    }\n",
       "</style>\n",
       "<table border=\"1\" class=\"dataframe\">\n",
       "  <thead>\n",
       "    <tr style=\"text-align: right;\">\n",
       "      <th></th>\n",
       "      <th>loc_code</th>\n",
       "      <th>salary</th>\n",
       "    </tr>\n",
       "  </thead>\n",
       "  <tbody>\n",
       "    <tr>\n",
       "      <th>0</th>\n",
       "      <td>88</td>\n",
       "      <td>130000.0</td>\n",
       "    </tr>\n",
       "    <tr>\n",
       "      <th>1</th>\n",
       "      <td>88</td>\n",
       "      <td>90000.0</td>\n",
       "    </tr>\n",
       "    <tr>\n",
       "      <th>2</th>\n",
       "      <td>88</td>\n",
       "      <td>100000.0</td>\n",
       "    </tr>\n",
       "    <tr>\n",
       "      <th>3</th>\n",
       "      <td>96</td>\n",
       "      <td>130000.0</td>\n",
       "    </tr>\n",
       "    <tr>\n",
       "      <th>4</th>\n",
       "      <td>88</td>\n",
       "      <td>75000.0</td>\n",
       "    </tr>\n",
       "  </tbody>\n",
       "</table>\n",
       "</div>"
      ],
      "text/plain": [
       "   loc_code    salary\n",
       "0        88  130000.0\n",
       "1        88   90000.0\n",
       "2        88  100000.0\n",
       "3        96  130000.0\n",
       "4        88   75000.0"
      ]
     },
     "execution_count": 78,
     "metadata": {},
     "output_type": "execute_result"
    }
   ],
   "source": [
    "# #drop unwated columns:\n",
    "columns = ['location','title', 'company', 'summary', 'high_salary']\n",
    "salaries_reg.drop(columns, inplace=True, axis=1)\n",
    "salaries_reg = salaries_reg[['loc_code','salary']]\n",
    "salaries_reg.head()"
   ]
  },
  {
   "cell_type": "code",
   "execution_count": 79,
   "metadata": {},
   "outputs": [],
   "source": [
    "dis_x = salaries_reg.drop('salary', axis = 1)\n",
    "dis_y = salaries_reg['salary']\n",
    "#dis_x"
   ]
  },
  {
   "cell_type": "code",
   "execution_count": 80,
   "metadata": {},
   "outputs": [],
   "source": [
    "X_train, X_test, y_train, y_test = train_test_split(dis_x, dis_y, test_size=0.2)"
   ]
  },
  {
   "cell_type": "code",
   "execution_count": 81,
   "metadata": {},
   "outputs": [
    {
     "name": "stdout",
     "output_type": "stream",
     "text": [
      "(395, 1)\n",
      "(395,)\n",
      "(99, 1)\n",
      "(99,)\n"
     ]
    }
   ],
   "source": [
    "print(X_train.shape)\n",
    "print(y_train.shape)\n",
    "print(X_test.shape)\n",
    "print(y_test.shape)"
   ]
  },
  {
   "cell_type": "code",
   "execution_count": 83,
   "metadata": {},
   "outputs": [],
   "source": [
    "from sklearn.linear_model import LinearRegression\n",
    "model = LinearRegression()\n",
    "model.fit(X_train, y_train)\n",
    "predictions = model.predict(X_test)"
   ]
  },
  {
   "cell_type": "code",
   "execution_count": 85,
   "metadata": {},
   "outputs": [
    {
     "data": {
      "image/png": "[encoded data removed]",
      "text/plain": [
       "<Figure size 640x480 with 1 Axes>"
      ]
     },
     "metadata": {},
     "output_type": "display_data"
    }
   ],
   "source": [
    "from matplotlib.pyplot import figure\n",
    "\n",
    "figure(num=None, figsize=(8, 6), dpi=80, facecolor='w', edgecolor='k')\n",
    "\n",
    "plt.scatter(X_test, y_test, c='g')\n",
    "#plt.scatter(X_train, y_train)\n",
    "plt.plot(X_test, predictions, c='r')\n",
    "plt.title(\"Linear Regression - Regressor\")\n",
    "plt.xlabel(\"Location\")\n",
    "plt.ylabel(\"Salary  in $\")\n",
    "plt.show()"
   ]
  },
  {
   "cell_type": "markdown",
   "metadata": {},
   "source": [
    "### Calculate MSE, RMSE, Mean Absolute Error"
   ]
  },
  {
   "cell_type": "code",
   "execution_count": 86,
   "metadata": {},
   "outputs": [
    {
     "name": "stdout",
     "output_type": "stream",
     "text": [
      "44248.31700639229\n"
     ]
    }
   ],
   "source": [
    "from sklearn import metrics\n",
    "print(metrics.mean_absolute_error(y_test,predictions))"
   ]
  },
  {
   "cell_type": "code",
   "execution_count": 87,
   "metadata": {},
   "outputs": [
    {
     "name": "stdout",
     "output_type": "stream",
     "text": [
      "MSE: 2821117652.7412357\n"
     ]
    }
   ],
   "source": [
    "print('MSE:', metrics.mean_squared_error(y_test, predictions))"
   ]
  },
  {
   "cell_type": "code",
   "execution_count": 88,
   "metadata": {},
   "outputs": [
    {
     "name": "stdout",
     "output_type": "stream",
     "text": [
      "RMSE: 53114.19445629611\n"
     ]
    }
   ],
   "source": [
    "import numpy as np\n",
    "print('RMSE:', np.sqrt(metrics.mean_squared_error(y_test, predictions)))"
   ]
  },
  {
   "cell_type": "code",
   "execution_count": null,
   "metadata": {},
   "outputs": [],
   "source": []
  }
 ],
 "metadata": {
  "kernelspec": {
   "display_name": "Python 3",
   "language": "python",
   "name": "python3"
  },
  "language_info": {
   "codemirror_mode": {
    "name": "ipython",
    "version": 3
   },
   "file_extension": ".py",
   "mimetype": "text/x-python",
   "name": "python",
   "nbconvert_exporter": "python",
   "pygments_lexer": "ipython3",
   "version": "3.6.5"
  }
 },
 "nbformat": 4,
 "nbformat_minor": 2
}
