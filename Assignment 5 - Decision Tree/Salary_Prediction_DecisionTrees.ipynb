{
 "cells": [
  {
   "cell_type": "code",
   "execution_count": 185,
   "metadata": {},
   "outputs": [],
   "source": [
    "import pandas as pd\n",
    "import numpy as np\n",
    "import requests\n",
    "import bs4\n",
    "from bs4 import BeautifulSoup\n",
    "from tflearn.data_utils import to_categorical\n",
    "from collections import Counter, defaultdict\n",
    "from sklearn.feature_extraction import stop_words"
   ]
  },
  {
   "cell_type": "code",
   "execution_count": 186,
   "metadata": {},
   "outputs": [
    {
     "data": {
      "text/html": [
       "<div>\n",
       "<style scoped>\n",
       "    .dataframe tbody tr th:only-of-type {\n",
       "        vertical-align: middle;\n",
       "    }\n",
       "\n",
       "    .dataframe tbody tr th {\n",
       "        vertical-align: top;\n",
       "    }\n",
       "\n",
       "    .dataframe thead th {\n",
       "        text-align: right;\n",
       "    }\n",
       "</style>\n",
       "<table border=\"1\" class=\"dataframe\">\n",
       "  <thead>\n",
       "    <tr style=\"text-align: right;\">\n",
       "      <th></th>\n",
       "      <th>location</th>\n",
       "      <th>title</th>\n",
       "      <th>company</th>\n",
       "      <th>salary</th>\n",
       "      <th>summary</th>\n",
       "    </tr>\n",
       "  </thead>\n",
       "  <tbody>\n",
       "    <tr>\n",
       "      <th>0</th>\n",
       "      <td>New York, NY 10261 (Murray Hill area)</td>\n",
       "      <td>Data Scientist</td>\n",
       "      <td>MassMutual Financial Group</td>\n",
       "      <td>NaN</td>\n",
       "      <td>MassMutual’s Advanced Analytics group is seeki...</td>\n",
       "    </tr>\n",
       "    <tr>\n",
       "      <th>1</th>\n",
       "      <td>New York, NY</td>\n",
       "      <td>Data Scientist</td>\n",
       "      <td>HarperCollins Publishers Inc.</td>\n",
       "      <td>NaN</td>\n",
       "      <td>Uses mid to large-scale machine learning, data...</td>\n",
       "    </tr>\n",
       "    <tr>\n",
       "      <th>2</th>\n",
       "      <td>New York, NY 10016 (Gramercy area)</td>\n",
       "      <td>Data Scientist</td>\n",
       "      <td>Simulmedia</td>\n",
       "      <td>NaN</td>\n",
       "      <td>You will find yourself working with other data...</td>\n",
       "    </tr>\n",
       "    <tr>\n",
       "      <th>3</th>\n",
       "      <td>New York, NY</td>\n",
       "      <td>Data Science Analyst</td>\n",
       "      <td>AIG</td>\n",
       "      <td>NaN</td>\n",
       "      <td>§ Stay current on the latest machine learning ...</td>\n",
       "    </tr>\n",
       "    <tr>\n",
       "      <th>4</th>\n",
       "      <td>New York, NY</td>\n",
       "      <td>Data Scientist</td>\n",
       "      <td>PulsePoint</td>\n",
       "      <td>NaN</td>\n",
       "      <td>MS/PhD in Astronomy, Physics, Applied Mathemat...</td>\n",
       "    </tr>\n",
       "  </tbody>\n",
       "</table>\n",
       "</div>"
      ],
      "text/plain": [
       "                                location                 title  \\\n",
       "0  New York, NY 10261 (Murray Hill area)        Data Scientist   \n",
       "1                           New York, NY        Data Scientist   \n",
       "2     New York, NY 10016 (Gramercy area)        Data Scientist   \n",
       "3                           New York, NY  Data Science Analyst   \n",
       "4                           New York, NY        Data Scientist   \n",
       "\n",
       "                              company salary  \\\n",
       "0          MassMutual Financial Group    NaN   \n",
       "1       HarperCollins Publishers Inc.    NaN   \n",
       "2                          Simulmedia    NaN   \n",
       "3                                 AIG    NaN   \n",
       "4                          PulsePoint    NaN   \n",
       "\n",
       "                                             summary  \n",
       "0  MassMutual’s Advanced Analytics group is seeki...  \n",
       "1  Uses mid to large-scale machine learning, data...  \n",
       "2  You will find yourself working with other data...  \n",
       "3  § Stay current on the latest machine learning ...  \n",
       "4  MS/PhD in Astronomy, Physics, Applied Mathemat...  "
      ]
     },
     "execution_count": 186,
     "metadata": {},
     "output_type": "execute_result"
    }
   ],
   "source": [
    "results = pd.read_csv('indeed-results.csv')\n",
    "results.head()"
   ]
  },
  {
   "cell_type": "code",
   "execution_count": 187,
   "metadata": {},
   "outputs": [
    {
     "data": {
      "text/plain": [
       "(12745, 5)"
      ]
     },
     "execution_count": 187,
     "metadata": {},
     "output_type": "execute_result"
    }
   ],
   "source": [
    "\n",
    "results.shape"
   ]
  },
  {
   "cell_type": "markdown",
   "metadata": {},
   "source": [
    "# Data Wrangling and Preprocessing"
   ]
  },
  {
   "cell_type": "code",
   "execution_count": 188,
   "metadata": {},
   "outputs": [],
   "source": [
    "salaries_sal = results[results.salary.notnull()]\n",
    "salaries_summ = salaries_sal[salaries_sal.summary.notnull()]\n",
    "salaries = salaries_summ[salaries_summ.company.notnull()]"
   ]
  },
  {
   "cell_type": "code",
   "execution_count": 189,
   "metadata": {},
   "outputs": [
    {
     "data": {
      "text/plain": [
       "location    object\n",
       "title       object\n",
       "company     object\n",
       "salary      object\n",
       "summary     object\n",
       "dtype: object"
      ]
     },
     "execution_count": 189,
     "metadata": {},
     "output_type": "execute_result"
    }
   ],
   "source": [
    "salaries.dtypes"
   ]
  },
  {
   "cell_type": "code",
   "execution_count": 190,
   "metadata": {},
   "outputs": [
    {
     "data": {
      "text/html": [
       "<div>\n",
       "<style scoped>\n",
       "    .dataframe tbody tr th:only-of-type {\n",
       "        vertical-align: middle;\n",
       "    }\n",
       "\n",
       "    .dataframe tbody tr th {\n",
       "        vertical-align: top;\n",
       "    }\n",
       "\n",
       "    .dataframe thead th {\n",
       "        text-align: right;\n",
       "    }\n",
       "</style>\n",
       "<table border=\"1\" class=\"dataframe\">\n",
       "  <thead>\n",
       "    <tr style=\"text-align: right;\">\n",
       "      <th></th>\n",
       "      <th>location</th>\n",
       "      <th>title</th>\n",
       "      <th>company</th>\n",
       "      <th>salary</th>\n",
       "      <th>summary</th>\n",
       "    </tr>\n",
       "  </thead>\n",
       "  <tbody>\n",
       "    <tr>\n",
       "      <th>24</th>\n",
       "      <td>New York, NY</td>\n",
       "      <td>Data Scientist</td>\n",
       "      <td>indify</td>\n",
       "      <td>$90,000 - $170,000 a year</td>\n",
       "      <td>Indify data scientists contribute to all aspec...</td>\n",
       "    </tr>\n",
       "    <tr>\n",
       "      <th>50</th>\n",
       "      <td>New York, NY 10031 (Hamilton Heights area)</td>\n",
       "      <td>Computer Science (Data Analysis) Instructor</td>\n",
       "      <td>Urban Scholars Program, City College of Ne...</td>\n",
       "      <td>$40 an hour</td>\n",
       "      <td>Data, data filtering, basic spreadsheet operat...</td>\n",
       "    </tr>\n",
       "    <tr>\n",
       "      <th>63</th>\n",
       "      <td>New York, NY</td>\n",
       "      <td>Data Scientist</td>\n",
       "      <td>WorldCover</td>\n",
       "      <td>$70,000 - $110,000 a year</td>\n",
       "      <td>Your primary focus will be in applying data mi...</td>\n",
       "    </tr>\n",
       "    <tr>\n",
       "      <th>79</th>\n",
       "      <td>New York, NY</td>\n",
       "      <td>Data Scientist</td>\n",
       "      <td>Scienaptic Systems Inc</td>\n",
       "      <td>$100,000 a year</td>\n",
       "      <td>As our representative in front of client, you ...</td>\n",
       "    </tr>\n",
       "    <tr>\n",
       "      <th>98</th>\n",
       "      <td>New York, NY 10038 (Financial District area)</td>\n",
       "      <td>Data Scientist</td>\n",
       "      <td>Enterprise Select</td>\n",
       "      <td>$130,000 a year</td>\n",
       "      <td>Deep knowledge of applied statistics and machi...</td>\n",
       "    </tr>\n",
       "  </tbody>\n",
       "</table>\n",
       "</div>"
      ],
      "text/plain": [
       "                                        location  \\\n",
       "24                                  New York, NY   \n",
       "50    New York, NY 10031 (Hamilton Heights area)   \n",
       "63                                  New York, NY   \n",
       "79                                  New York, NY   \n",
       "98  New York, NY 10038 (Financial District area)   \n",
       "\n",
       "                                          title  \\\n",
       "24                               Data Scientist   \n",
       "50  Computer Science (Data Analysis) Instructor   \n",
       "63                               Data Scientist   \n",
       "79                               Data Scientist   \n",
       "98                               Data Scientist   \n",
       "\n",
       "                                              company  \\\n",
       "24                                             indify   \n",
       "50      Urban Scholars Program, City College of Ne...   \n",
       "63                                         WorldCover   \n",
       "79                             Scienaptic Systems Inc   \n",
       "98                                  Enterprise Select   \n",
       "\n",
       "                       salary  \\\n",
       "24  $90,000 - $170,000 a year   \n",
       "50                $40 an hour   \n",
       "63  $70,000 - $110,000 a year   \n",
       "79            $100,000 a year   \n",
       "98            $130,000 a year   \n",
       "\n",
       "                                              summary  \n",
       "24  Indify data scientists contribute to all aspec...  \n",
       "50  Data, data filtering, basic spreadsheet operat...  \n",
       "63  Your primary focus will be in applying data mi...  \n",
       "79  As our representative in front of client, you ...  \n",
       "98  Deep knowledge of applied statistics and machi...  "
      ]
     },
     "execution_count": 190,
     "metadata": {},
     "output_type": "execute_result"
    }
   ],
   "source": [
    "salaries.head()"
   ]
  },
  {
   "cell_type": "code",
   "execution_count": 191,
   "metadata": {},
   "outputs": [
    {
     "data": {
      "text/plain": [
       "(686, 5)"
      ]
     },
     "execution_count": 191,
     "metadata": {},
     "output_type": "execute_result"
    }
   ],
   "source": [
    "salaries.shape"
   ]
  },
  {
   "cell_type": "code",
   "execution_count": 192,
   "metadata": {},
   "outputs": [],
   "source": [
    "salaries = salaries[(~salaries.salary.str.contains('an hour')) & (~salaries.salary.str.contains('a month'))\n",
    "                   & (~salaries.salary.str.contains('a week')) & (~salaries.salary.str.contains('a day'))]"
   ]
  },
  {
   "cell_type": "code",
   "execution_count": 193,
   "metadata": {},
   "outputs": [],
   "source": [
    "salaries.salary = salaries.salary.str.replace('a year', '').str.replace(',', '').str.replace('$', '')"
   ]
  },
  {
   "cell_type": "code",
   "execution_count": 194,
   "metadata": {},
   "outputs": [
    {
     "data": {
      "text/plain": [
       "(494, 5)"
      ]
     },
     "execution_count": 194,
     "metadata": {},
     "output_type": "execute_result"
    }
   ],
   "source": [
    "salaries.shape"
   ]
  },
  {
   "cell_type": "code",
   "execution_count": 195,
   "metadata": {},
   "outputs": [],
   "source": [
    "\n",
    "for i  in  salaries.salary:\n",
    "    if len(i.split('-')) != 1 and len(i.split('-')) != 2:\n",
    "        print(i)"
   ]
  },
  {
   "cell_type": "code",
   "execution_count": 196,
   "metadata": {},
   "outputs": [],
   "source": [
    "new_salaries = []\n",
    "for i in salaries.salary:\n",
    "    a = i.split('-')\n",
    "    if len(a) == 2:\n",
    "        new_salaries.append(np.mean([float(b) for b in a]))\n",
    "    else:\n",
    "        new_salaries.append(float(a[0]))"
   ]
  },
  {
   "cell_type": "code",
   "execution_count": 197,
   "metadata": {},
   "outputs": [
    {
     "data": {
      "text/plain": [
       "[130000.0, 90000.0, 100000.0, 130000.0, 75000.0]"
      ]
     },
     "execution_count": 197,
     "metadata": {},
     "output_type": "execute_result"
    }
   ],
   "source": [
    "new_salaries[0:5]"
   ]
  },
  {
   "cell_type": "code",
   "execution_count": 198,
   "metadata": {},
   "outputs": [],
   "source": [
    "salaries.salary = new_salaries"
   ]
  },
  {
   "cell_type": "code",
   "execution_count": 199,
   "metadata": {},
   "outputs": [
    {
     "data": {
      "text/html": [
       "<div>\n",
       "<style scoped>\n",
       "    .dataframe tbody tr th:only-of-type {\n",
       "        vertical-align: middle;\n",
       "    }\n",
       "\n",
       "    .dataframe tbody tr th {\n",
       "        vertical-align: top;\n",
       "    }\n",
       "\n",
       "    .dataframe thead th {\n",
       "        text-align: right;\n",
       "    }\n",
       "</style>\n",
       "<table border=\"1\" class=\"dataframe\">\n",
       "  <thead>\n",
       "    <tr style=\"text-align: right;\">\n",
       "      <th></th>\n",
       "      <th>location</th>\n",
       "      <th>title</th>\n",
       "      <th>company</th>\n",
       "      <th>salary</th>\n",
       "      <th>summary</th>\n",
       "    </tr>\n",
       "  </thead>\n",
       "  <tbody>\n",
       "    <tr>\n",
       "      <th>24</th>\n",
       "      <td>New York, NY</td>\n",
       "      <td>Data Scientist</td>\n",
       "      <td>indify</td>\n",
       "      <td>130000.0</td>\n",
       "      <td>Indify data scientists contribute to all aspec...</td>\n",
       "    </tr>\n",
       "    <tr>\n",
       "      <th>63</th>\n",
       "      <td>New York, NY</td>\n",
       "      <td>Data Scientist</td>\n",
       "      <td>WorldCover</td>\n",
       "      <td>90000.0</td>\n",
       "      <td>Your primary focus will be in applying data mi...</td>\n",
       "    </tr>\n",
       "    <tr>\n",
       "      <th>79</th>\n",
       "      <td>New York, NY</td>\n",
       "      <td>Data Scientist</td>\n",
       "      <td>Scienaptic Systems Inc</td>\n",
       "      <td>100000.0</td>\n",
       "      <td>As our representative in front of client, you ...</td>\n",
       "    </tr>\n",
       "    <tr>\n",
       "      <th>98</th>\n",
       "      <td>New York, NY 10038 (Financial District area)</td>\n",
       "      <td>Data Scientist</td>\n",
       "      <td>Enterprise Select</td>\n",
       "      <td>130000.0</td>\n",
       "      <td>Deep knowledge of applied statistics and machi...</td>\n",
       "    </tr>\n",
       "    <tr>\n",
       "      <th>105</th>\n",
       "      <td>New York, NY</td>\n",
       "      <td>Senior Research Analyst</td>\n",
       "      <td>Research Foundation of The City Univer...</td>\n",
       "      <td>75000.0</td>\n",
       "      <td>Overseeing all project activities related to d...</td>\n",
       "    </tr>\n",
       "  </tbody>\n",
       "</table>\n",
       "</div>"
      ],
      "text/plain": [
       "                                         location                    title  \\\n",
       "24                                   New York, NY           Data Scientist   \n",
       "63                                   New York, NY           Data Scientist   \n",
       "79                                   New York, NY           Data Scientist   \n",
       "98   New York, NY 10038 (Financial District area)           Data Scientist   \n",
       "105                                  New York, NY  Senior Research Analyst   \n",
       "\n",
       "                                               company    salary  \\\n",
       "24                                              indify  130000.0   \n",
       "63                                          WorldCover   90000.0   \n",
       "79                              Scienaptic Systems Inc  100000.0   \n",
       "98                                   Enterprise Select  130000.0   \n",
       "105          Research Foundation of The City Univer...   75000.0   \n",
       "\n",
       "                                               summary  \n",
       "24   Indify data scientists contribute to all aspec...  \n",
       "63   Your primary focus will be in applying data mi...  \n",
       "79   As our representative in front of client, you ...  \n",
       "98   Deep knowledge of applied statistics and machi...  \n",
       "105  Overseeing all project activities related to d...  "
      ]
     },
     "execution_count": 199,
     "metadata": {},
     "output_type": "execute_result"
    }
   ],
   "source": [
    "salaries.head()"
   ]
  },
  {
   "cell_type": "code",
   "execution_count": 200,
   "metadata": {},
   "outputs": [
    {
     "data": {
      "text/plain": [
       "(494, 5)"
      ]
     },
     "execution_count": 200,
     "metadata": {},
     "output_type": "execute_result"
    }
   ],
   "source": [
    "salaries.shape"
   ]
  },
  {
   "cell_type": "code",
   "execution_count": 201,
   "metadata": {},
   "outputs": [
    {
     "data": {
      "text/plain": [
       "0"
      ]
     },
     "execution_count": 201,
     "metadata": {},
     "output_type": "execute_result"
    }
   ],
   "source": [
    "salaries.duplicated().sum()"
   ]
  },
  {
   "cell_type": "code",
   "execution_count": 202,
   "metadata": {},
   "outputs": [
    {
     "data": {
      "text/plain": [
       "location    0\n",
       "title       0\n",
       "company     0\n",
       "salary      0\n",
       "summary     0\n",
       "dtype: int64"
      ]
     },
     "execution_count": 202,
     "metadata": {},
     "output_type": "execute_result"
    }
   ],
   "source": [
    "salaries.isnull().sum()"
   ]
  },
  {
   "cell_type": "code",
   "execution_count": 203,
   "metadata": {},
   "outputs": [
    {
     "name": "stdout",
     "output_type": "stream",
     "text": [
      "Empty DataFrame\n",
      "Columns: []\n",
      "Index: []\n"
     ]
    }
   ],
   "source": [
    "#display null columns\n",
    "\n",
    "null_columns=salaries.columns[salaries.isnull().any()]\n",
    "print(salaries[salaries.isnull().any(axis=1)][null_columns].head())"
   ]
  },
  {
   "cell_type": "code",
   "execution_count": 204,
   "metadata": {},
   "outputs": [
    {
     "data": {
      "text/html": [
       "<div>\n",
       "<style scoped>\n",
       "    .dataframe tbody tr th:only-of-type {\n",
       "        vertical-align: middle;\n",
       "    }\n",
       "\n",
       "    .dataframe tbody tr th {\n",
       "        vertical-align: top;\n",
       "    }\n",
       "\n",
       "    .dataframe thead th {\n",
       "        text-align: right;\n",
       "    }\n",
       "</style>\n",
       "<table border=\"1\" class=\"dataframe\">\n",
       "  <thead>\n",
       "    <tr style=\"text-align: right;\">\n",
       "      <th></th>\n",
       "      <th>location</th>\n",
       "      <th>title</th>\n",
       "      <th>company</th>\n",
       "      <th>salary</th>\n",
       "      <th>summary</th>\n",
       "    </tr>\n",
       "  </thead>\n",
       "  <tbody>\n",
       "    <tr>\n",
       "      <th>24</th>\n",
       "      <td>New York, NY</td>\n",
       "      <td>Data Scientist</td>\n",
       "      <td>indify</td>\n",
       "      <td>130000.0</td>\n",
       "      <td>Indify data scientists contribute to all aspec...</td>\n",
       "    </tr>\n",
       "    <tr>\n",
       "      <th>63</th>\n",
       "      <td>New York, NY</td>\n",
       "      <td>Data Scientist</td>\n",
       "      <td>WorldCover</td>\n",
       "      <td>90000.0</td>\n",
       "      <td>Your primary focus will be in applying data mi...</td>\n",
       "    </tr>\n",
       "    <tr>\n",
       "      <th>79</th>\n",
       "      <td>New York, NY</td>\n",
       "      <td>Data Scientist</td>\n",
       "      <td>Scienaptic Systems Inc</td>\n",
       "      <td>100000.0</td>\n",
       "      <td>As our representative in front of client, you ...</td>\n",
       "    </tr>\n",
       "    <tr>\n",
       "      <th>98</th>\n",
       "      <td>New York, NY 10038 (Financial District area)</td>\n",
       "      <td>Data Scientist</td>\n",
       "      <td>Enterprise Select</td>\n",
       "      <td>130000.0</td>\n",
       "      <td>Deep knowledge of applied statistics and machi...</td>\n",
       "    </tr>\n",
       "    <tr>\n",
       "      <th>105</th>\n",
       "      <td>New York, NY</td>\n",
       "      <td>Senior Research Analyst</td>\n",
       "      <td>Research Foundation of The City Univer...</td>\n",
       "      <td>75000.0</td>\n",
       "      <td>Overseeing all project activities related to d...</td>\n",
       "    </tr>\n",
       "  </tbody>\n",
       "</table>\n",
       "</div>"
      ],
      "text/plain": [
       "                                         location                    title  \\\n",
       "24                                   New York, NY           Data Scientist   \n",
       "63                                   New York, NY           Data Scientist   \n",
       "79                                   New York, NY           Data Scientist   \n",
       "98   New York, NY 10038 (Financial District area)           Data Scientist   \n",
       "105                                  New York, NY  Senior Research Analyst   \n",
       "\n",
       "                                               company    salary  \\\n",
       "24                                              indify  130000.0   \n",
       "63                                          WorldCover   90000.0   \n",
       "79                              Scienaptic Systems Inc  100000.0   \n",
       "98                                   Enterprise Select  130000.0   \n",
       "105          Research Foundation of The City Univer...   75000.0   \n",
       "\n",
       "                                               summary  \n",
       "24   Indify data scientists contribute to all aspec...  \n",
       "63   Your primary focus will be in applying data mi...  \n",
       "79   As our representative in front of client, you ...  \n",
       "98   Deep knowledge of applied statistics and machi...  \n",
       "105  Overseeing all project activities related to d...  "
      ]
     },
     "execution_count": 204,
     "metadata": {},
     "output_type": "execute_result"
    }
   ],
   "source": [
    "salaries.head()"
   ]
  },
  {
   "cell_type": "code",
   "execution_count": 205,
   "metadata": {},
   "outputs": [],
   "source": [
    "\n",
    "import seaborn as sns\n",
    "import  matplotlib.pyplot as plt\n",
    "\n",
    "%matplotlib inline"
   ]
  },
  {
   "cell_type": "code",
   "execution_count": 206,
   "metadata": {},
   "outputs": [
    {
     "name": "stderr",
     "output_type": "stream",
     "text": [
      "/anaconda3/lib/python3.6/site-packages/matplotlib/axes/_axes.py:6462: UserWarning: The 'normed' kwarg is deprecated, and has been replaced by the 'density' kwarg.\n",
      "  warnings.warn(\"The 'normed' kwarg is deprecated, and has been \"\n"
     ]
    },
    {
     "data": {
      "text/plain": [
       "<matplotlib.lines.Line2D at 0x1c26c7e0f0>"
      ]
     },
     "execution_count": 206,
     "metadata": {},
     "output_type": "execute_result"
    },
    {
     "data": {
      "image/png": "[encoded data removed]",
      "text/plain": [
       "<Figure size 432x288 with 1 Axes>"
      ]
     },
     "metadata": {},
     "output_type": "display_data"
    }
   ],
   "source": [
    "ax = sns.distplot(salaries['salary'], bins=10)\n",
    "ax.axvline(salaries['salary'].mean(), c='r')\n",
    "ax.axvline(salaries['salary'].median(), c='g')"
   ]
  },
  {
   "cell_type": "code",
   "execution_count": 207,
   "metadata": {},
   "outputs": [],
   "source": [
    "twentieth = salaries['salary'].quantile(0.20)\n",
    "eightieth = salaries['salary'].quantile(0.80)"
   ]
  },
  {
   "cell_type": "code",
   "execution_count": 208,
   "metadata": {},
   "outputs": [
    {
     "data": {
      "text/plain": [
       "110000.0"
      ]
     },
     "execution_count": 208,
     "metadata": {},
     "output_type": "execute_result"
    }
   ],
   "source": [
    "median_salary = np.median(salaries.salary)\n",
    "median_salary"
   ]
  },
  {
   "cell_type": "code",
   "execution_count": 209,
   "metadata": {},
   "outputs": [],
   "source": [
    "salaries['high_salary'] = [1 if i > median_salary else 0 for i in salaries.salary]"
   ]
  },
  {
   "cell_type": "markdown",
   "metadata": {},
   "source": [
    "# Preprocessing for vectorization\n"
   ]
  },
  {
   "cell_type": "code",
   "execution_count": 210,
   "metadata": {},
   "outputs": [],
   "source": [
    "from sklearn.feature_extraction.text import CountVectorizer, HashingVectorizer, TfidfVectorizer\n",
    "from sklearn.cross_validation import train_test_split"
   ]
  },
  {
   "cell_type": "code",
   "execution_count": 211,
   "metadata": {},
   "outputs": [
    {
     "data": {
      "text/html": [
       "<div>\n",
       "<style scoped>\n",
       "    .dataframe tbody tr th:only-of-type {\n",
       "        vertical-align: middle;\n",
       "    }\n",
       "\n",
       "    .dataframe tbody tr th {\n",
       "        vertical-align: top;\n",
       "    }\n",
       "\n",
       "    .dataframe thead th {\n",
       "        text-align: right;\n",
       "    }\n",
       "</style>\n",
       "<table border=\"1\" class=\"dataframe\">\n",
       "  <thead>\n",
       "    <tr style=\"text-align: right;\">\n",
       "      <th></th>\n",
       "      <th>summary</th>\n",
       "      <th>word_count</th>\n",
       "    </tr>\n",
       "  </thead>\n",
       "  <tbody>\n",
       "    <tr>\n",
       "      <th>24</th>\n",
       "      <td>Indify data scientists contribute to all aspec...</td>\n",
       "      <td>24</td>\n",
       "    </tr>\n",
       "    <tr>\n",
       "      <th>63</th>\n",
       "      <td>Your primary focus will be in applying data mi...</td>\n",
       "      <td>22</td>\n",
       "    </tr>\n",
       "    <tr>\n",
       "      <th>79</th>\n",
       "      <td>As our representative in front of client, you ...</td>\n",
       "      <td>26</td>\n",
       "    </tr>\n",
       "    <tr>\n",
       "      <th>98</th>\n",
       "      <td>Deep knowledge of applied statistics and machi...</td>\n",
       "      <td>21</td>\n",
       "    </tr>\n",
       "    <tr>\n",
       "      <th>105</th>\n",
       "      <td>Overseeing all project activities related to d...</td>\n",
       "      <td>20</td>\n",
       "    </tr>\n",
       "  </tbody>\n",
       "</table>\n",
       "</div>"
      ],
      "text/plain": [
       "                                               summary  word_count\n",
       "24   Indify data scientists contribute to all aspec...          24\n",
       "63   Your primary focus will be in applying data mi...          22\n",
       "79   As our representative in front of client, you ...          26\n",
       "98   Deep knowledge of applied statistics and machi...          21\n",
       "105  Overseeing all project activities related to d...          20"
      ]
     },
     "execution_count": 211,
     "metadata": {},
     "output_type": "execute_result"
    }
   ],
   "source": [
    "## Count Number of words in each summary of job\n",
    "\n",
    "salaries['word_count'] = salaries['summary'].apply(lambda x: len(str(x).split(\" \")))\n",
    "salaries[['summary','word_count']].head()"
   ]
  },
  {
   "cell_type": "code",
   "execution_count": 212,
   "metadata": {},
   "outputs": [
    {
     "data": {
      "text/html": [
       "<div>\n",
       "<style scoped>\n",
       "    .dataframe tbody tr th:only-of-type {\n",
       "        vertical-align: middle;\n",
       "    }\n",
       "\n",
       "    .dataframe tbody tr th {\n",
       "        vertical-align: top;\n",
       "    }\n",
       "\n",
       "    .dataframe thead th {\n",
       "        text-align: right;\n",
       "    }\n",
       "</style>\n",
       "<table border=\"1\" class=\"dataframe\">\n",
       "  <thead>\n",
       "    <tr style=\"text-align: right;\">\n",
       "      <th></th>\n",
       "      <th>summary</th>\n",
       "      <th>char_count</th>\n",
       "    </tr>\n",
       "  </thead>\n",
       "  <tbody>\n",
       "    <tr>\n",
       "      <th>24</th>\n",
       "      <td>Indify data scientists contribute to all aspec...</td>\n",
       "      <td>143</td>\n",
       "    </tr>\n",
       "    <tr>\n",
       "      <th>63</th>\n",
       "      <td>Your primary focus will be in applying data mi...</td>\n",
       "      <td>158</td>\n",
       "    </tr>\n",
       "    <tr>\n",
       "      <th>79</th>\n",
       "      <td>As our representative in front of client, you ...</td>\n",
       "      <td>162</td>\n",
       "    </tr>\n",
       "    <tr>\n",
       "      <th>98</th>\n",
       "      <td>Deep knowledge of applied statistics and machi...</td>\n",
       "      <td>161</td>\n",
       "    </tr>\n",
       "    <tr>\n",
       "      <th>105</th>\n",
       "      <td>Overseeing all project activities related to d...</td>\n",
       "      <td>153</td>\n",
       "    </tr>\n",
       "  </tbody>\n",
       "</table>\n",
       "</div>"
      ],
      "text/plain": [
       "                                               summary  char_count\n",
       "24   Indify data scientists contribute to all aspec...         143\n",
       "63   Your primary focus will be in applying data mi...         158\n",
       "79   As our representative in front of client, you ...         162\n",
       "98   Deep knowledge of applied statistics and machi...         161\n",
       "105  Overseeing all project activities related to d...         153"
      ]
     },
     "execution_count": 212,
     "metadata": {},
     "output_type": "execute_result"
    }
   ],
   "source": [
    "## Count Number of characters in each summary of job\n",
    "\n",
    "salaries['char_count'] = salaries['summary'].str.len() ## this also includes spaces\n",
    "salaries[['summary','char_count']].head()"
   ]
  },
  {
   "cell_type": "code",
   "execution_count": 213,
   "metadata": {},
   "outputs": [
    {
     "data": {
      "text/html": [
       "<div>\n",
       "<style scoped>\n",
       "    .dataframe tbody tr th:only-of-type {\n",
       "        vertical-align: middle;\n",
       "    }\n",
       "\n",
       "    .dataframe tbody tr th {\n",
       "        vertical-align: top;\n",
       "    }\n",
       "\n",
       "    .dataframe thead th {\n",
       "        text-align: right;\n",
       "    }\n",
       "</style>\n",
       "<table border=\"1\" class=\"dataframe\">\n",
       "  <thead>\n",
       "    <tr style=\"text-align: right;\">\n",
       "      <th></th>\n",
       "      <th>summary</th>\n",
       "      <th>stopwords</th>\n",
       "    </tr>\n",
       "  </thead>\n",
       "  <tbody>\n",
       "    <tr>\n",
       "      <th>24</th>\n",
       "      <td>Indify data scientists contribute to all aspec...</td>\n",
       "      <td>12</td>\n",
       "    </tr>\n",
       "    <tr>\n",
       "      <th>63</th>\n",
       "      <td>Your primary focus will be in applying data mi...</td>\n",
       "      <td>6</td>\n",
       "    </tr>\n",
       "    <tr>\n",
       "      <th>79</th>\n",
       "      <td>As our representative in front of client, you ...</td>\n",
       "      <td>11</td>\n",
       "    </tr>\n",
       "    <tr>\n",
       "      <th>98</th>\n",
       "      <td>Deep knowledge of applied statistics and machi...</td>\n",
       "      <td>6</td>\n",
       "    </tr>\n",
       "    <tr>\n",
       "      <th>105</th>\n",
       "      <td>Overseeing all project activities related to d...</td>\n",
       "      <td>5</td>\n",
       "    </tr>\n",
       "  </tbody>\n",
       "</table>\n",
       "</div>"
      ],
      "text/plain": [
       "                                               summary  stopwords\n",
       "24   Indify data scientists contribute to all aspec...         12\n",
       "63   Your primary focus will be in applying data mi...          6\n",
       "79   As our representative in front of client, you ...         11\n",
       "98   Deep knowledge of applied statistics and machi...          6\n",
       "105  Overseeing all project activities related to d...          5"
      ]
     },
     "execution_count": 213,
     "metadata": {},
     "output_type": "execute_result"
    }
   ],
   "source": [
    "#check for stop words\n",
    "\n",
    "import nltk\n",
    "#nltk.download()\n",
    "from nltk.corpus import stopwords\n",
    "stop = stopwords.words('english')\n",
    "\n",
    "salaries['stopwords'] = salaries['summary'].apply(lambda x: len([x for x in x.split() if x in stop]))\n",
    "salaries[['summary','stopwords']].head()"
   ]
  },
  {
   "cell_type": "code",
   "execution_count": 214,
   "metadata": {},
   "outputs": [
    {
     "data": {
      "text/plain": [
       "24     indify data scientists contribute to all aspec...\n",
       "63     your primary focus will be in applying data mi...\n",
       "79     as our representative in front of client, you ...\n",
       "98     deep knowledge of applied statistics and machi...\n",
       "105    overseeing all project activities related to d...\n",
       "Name: summary, dtype: object"
      ]
     },
     "execution_count": 214,
     "metadata": {},
     "output_type": "execute_result"
    }
   ],
   "source": [
    "salaries['summary'] = salaries['summary'].apply(lambda x: x.lower())\n",
    "salaries['summary'].head()"
   ]
  },
  {
   "cell_type": "code",
   "execution_count": 215,
   "metadata": {},
   "outputs": [
    {
     "data": {
      "text/plain": [
       "24                                        data scientist\n",
       "63                                        data scientist\n",
       "79                                        data scientist\n",
       "98                                        data scientist\n",
       "105                              senior research analyst\n",
       "111                                 data analyst/modeler\n",
       "136                                       data scientist\n",
       "140                 data scientist (people analytics/hr)\n",
       "141    data scientist for data- driven healthtech com...\n",
       "159                            machine learning engineer\n",
       "Name: title, dtype: object"
      ]
     },
     "execution_count": 215,
     "metadata": {},
     "output_type": "execute_result"
    }
   ],
   "source": [
    "salaries['title'] = salaries['title'].apply(lambda x: x.lower())\n",
    "salaries['title'].head(10)"
   ]
  },
  {
   "cell_type": "code",
   "execution_count": 216,
   "metadata": {},
   "outputs": [
    {
     "data": {
      "text/plain": [
       "24     indify data scientists contribute to all aspec...\n",
       "63     your primary focus will be in applying data mi...\n",
       "79     as our representative in front of client you w...\n",
       "98     deep knowledge of applied statistics and machi...\n",
       "105    overseeing all project activities related to d...\n",
       "Name: summary, dtype: object"
      ]
     },
     "execution_count": 216,
     "metadata": {},
     "output_type": "execute_result"
    }
   ],
   "source": [
    "# Remove punctuations\n",
    "\n",
    "salaries['summary'] = salaries['summary'].str.replace('[^\\w\\s]','')\n",
    "salaries['summary'].head()"
   ]
  },
  {
   "cell_type": "code",
   "execution_count": 217,
   "metadata": {},
   "outputs": [],
   "source": [
    "import re\n",
    "states = ['IA', 'KS', 'UT', 'VA', 'NC', 'NE', 'SD', 'AL', 'ID', 'FM', 'DE', 'AK', 'CT', 'PR', 'NM', 'MS', 'PW', 'CO', 'NJ', 'FL', 'MN', 'VI', 'NV', 'AZ', 'WI', 'ND', 'PA', 'OK', 'KY', 'RI', 'NH', 'MO', 'ME', 'VT', 'GA', 'GU', 'AS', 'NY', 'CA', 'HI', 'IL', 'TN', 'MA', 'OH', 'MD', 'MI', 'WY', 'WA', 'OR', 'MH', 'SC', 'IN', 'LA', 'MP', 'DC', 'MT', 'AR', 'WV', 'TX']\n",
    "regex = re.compile(r'\\b(' + '|'.join(states) + r')\\b')\n",
    "salaries['location'] = salaries['location'].str.replace(',', '').str.extract(regex)"
   ]
  },
  {
   "cell_type": "code",
   "execution_count": 218,
   "metadata": {},
   "outputs": [
    {
     "data": {
      "text/plain": [
       "24     NY\n",
       "63     NY\n",
       "79     NY\n",
       "98     NY\n",
       "105    NY\n",
       "111    NY\n",
       "136    NY\n",
       "140    NY\n",
       "141    NY\n",
       "159    NY\n",
       "Name: location, dtype: object"
      ]
     },
     "execution_count": 218,
     "metadata": {},
     "output_type": "execute_result"
    }
   ],
   "source": [
    "salaries['location'].head(10)"
   ]
  },
  {
   "cell_type": "code",
   "execution_count": 219,
   "metadata": {},
   "outputs": [
    {
     "data": {
      "text/plain": [
       "gathers         1\n",
       "clustering      1\n",
       "higher          1\n",
       "tabulate        1\n",
       "objectives      1\n",
       "mathematical    1\n",
       "mrm             1\n",
       "grant           1\n",
       "drafting        1\n",
       "mysql           1\n",
       "dtype: int64"
      ]
     },
     "execution_count": 219,
     "metadata": {},
     "output_type": "execute_result"
    }
   ],
   "source": [
    "freq = pd.Series(' '.join(salaries['summary']).split()).value_counts()[-10:]\n",
    "freq"
   ]
  },
  {
   "cell_type": "code",
   "execution_count": 220,
   "metadata": {},
   "outputs": [
    {
     "data": {
      "text/plain": [
       "24     indify data scientists contribute aspects plat...\n",
       "63     primary focus applying data mining techniques ...\n",
       "79     representative front client opportunity constr...\n",
       "98     deep knowledge applied statistics machine lear...\n",
       "105    overseeing project activities related data col...\n",
       "Name: summary, dtype: object"
      ]
     },
     "execution_count": 220,
     "metadata": {},
     "output_type": "execute_result"
    }
   ],
   "source": [
    "stop = stopwords.words('english')\n",
    "salaries['summary']  = salaries['summary'] .apply(lambda x: \" \".join(x for x in x.split() if x not in stop))\n",
    "salaries['summary'].head()"
   ]
  },
  {
   "cell_type": "code",
   "execution_count": 221,
   "metadata": {},
   "outputs": [
    {
     "data": {
      "text/plain": [
       "24     indify data scientists contribute aspects plat...\n",
       "63     primary focus applying data mining techniques ...\n",
       "79     representative front client opportunity constr...\n",
       "98     deep knowledge applied statistics machine lear...\n",
       "105    overseeing project activities related data col...\n",
       "Name: summary, dtype: object"
      ]
     },
     "execution_count": 221,
     "metadata": {},
     "output_type": "execute_result"
    }
   ],
   "source": [
    "from nltk.stem import PorterStemmer\n",
    "st = PorterStemmer()\n",
    "salaries['summary'][:5].apply(lambda x: \" \".join([st.stem(word) for word in x.split()]))\n",
    "salaries['summary'].head()"
   ]
  },
  {
   "cell_type": "code",
   "execution_count": 222,
   "metadata": {},
   "outputs": [
    {
     "data": {
      "text/plain": [
       "24     indify data scientist contribute aspect platfo...\n",
       "63     primary focus applying data mining technique s...\n",
       "79     representative front client opportunity constr...\n",
       "98     deep knowledge applied statistic machine learn...\n",
       "105    overseeing project activity related data colle...\n",
       "Name: summary, dtype: object"
      ]
     },
     "execution_count": 222,
     "metadata": {},
     "output_type": "execute_result"
    }
   ],
   "source": [
    "## Lemmatization\n",
    "\n",
    "from textblob import Word\n",
    "salaries['summary'] = salaries['summary'].apply(lambda x: \" \".join([Word(word).lemmatize() for word in x.split()]))\n",
    "salaries['summary'].head()"
   ]
  },
  {
   "cell_type": "code",
   "execution_count": 223,
   "metadata": {},
   "outputs": [
    {
     "data": {
      "text/plain": [
       "24     indify data scientist contribute aspect platfo...\n",
       "63     primary focus applying data mining technique s...\n",
       "79     representative front client opportunity constr...\n",
       "98     deep knowledge applied statistic machine learn...\n",
       "105    overseeing project activity related data colle...\n",
       "Name: summary, dtype: object"
      ]
     },
     "execution_count": 223,
     "metadata": {},
     "output_type": "execute_result"
    }
   ],
   "source": [
    "###replace everything except the letters and numbers in the spaces.\n",
    "\n",
    "\n",
    "salaries['summary'] = salaries['summary'].replace('[^a-zA-Z0-9]', ' ', regex = True)\n",
    "salaries['summary'].head(5)"
   ]
  },
  {
   "cell_type": "code",
   "execution_count": 224,
   "metadata": {},
   "outputs": [
    {
     "data": {
      "text/plain": [
       "(494, 9)"
      ]
     },
     "execution_count": 224,
     "metadata": {},
     "output_type": "execute_result"
    }
   ],
   "source": [
    "salaries.shape"
   ]
  },
  {
   "cell_type": "code",
   "execution_count": 225,
   "metadata": {},
   "outputs": [
    {
     "data": {
      "text/plain": [
       "494"
      ]
     },
     "execution_count": 225,
     "metadata": {},
     "output_type": "execute_result"
    }
   ],
   "source": [
    "salaries.summary.count()"
   ]
  },
  {
   "cell_type": "code",
   "execution_count": 226,
   "metadata": {},
   "outputs": [],
   "source": [
    "#reset Index\n",
    "\n",
    "salaries.reset_index(drop= True, inplace=True)\n",
    "#salaries.head(40)"
   ]
  },
  {
   "cell_type": "code",
   "execution_count": 227,
   "metadata": {},
   "outputs": [
    {
     "data": {
      "text/plain": [
       "Index(['CA', 'NY', 'IL', 'MA', 'TX', 'PA', 'DC', 'MO', 'FL', 'WA', 'AZ', 'VA',\n",
       "       'OH', 'GA', 'CO', 'OR', 'MD', 'NC', 'IN', 'MN', 'TN', 'NJ', 'DE'],\n",
       "      dtype='object')"
      ]
     },
     "execution_count": 227,
     "metadata": {},
     "output_type": "execute_result"
    }
   ],
   "source": [
    "salaries.location.value_counts().index"
   ]
  },
  {
   "cell_type": "markdown",
   "metadata": {},
   "source": [
    "# Split,Train and Test Data"
   ]
  },
  {
   "cell_type": "code",
   "execution_count": 228,
   "metadata": {},
   "outputs": [
    {
     "name": "stdout",
     "output_type": "stream",
     "text": [
      "(330,)\n",
      "(164,)\n",
      "(330,)\n",
      "(164,)\n"
     ]
    },
    {
     "data": {
      "text/plain": [
       "81     associate data scientist exciting opportunity ...\n",
       "353    pattern recognition machine learning data mini...\n",
       "301    fast growing data analytics consulting shop lo...\n",
       "171    data scientist director retail statistical met...\n",
       "465    background python r machine learning hadoop sp...\n",
       "Name: summary, dtype: object"
      ]
     },
     "execution_count": 228,
     "metadata": {},
     "output_type": "execute_result"
    }
   ],
   "source": [
    "from sklearn.model_selection import train_test_split\n",
    "\n",
    "X_train, X_test, y_train, y_test = train_test_split(salaries['summary'], salaries['salary'],test_size = 0.33,random_state = 0)\n",
    "\n",
    "print(X_train.shape)\n",
    "print(X_test.shape)\n",
    "print(y_train.shape)\n",
    "print(y_test.shape)\n",
    "X_train.head()"
   ]
  },
  {
   "cell_type": "code",
   "execution_count": 229,
   "metadata": {},
   "outputs": [
    {
     "name": "stdout",
     "output_type": "stream",
     "text": [
      "X_train first entry: \n",
      "\n",
      " indify data scientist contribute aspect platform vital part envisioning creating future product\n",
      "\n",
      "\n",
      "X_train shape:  (330,)\n"
     ]
    }
   ],
   "source": [
    "print('X_train first entry: \\n\\n', X_train[0])\n",
    "print('\\n\\nX_train shape: ', X_train.shape)"
   ]
  },
  {
   "cell_type": "markdown",
   "metadata": {},
   "source": [
    "# Apply CountVectorizer & TfidfVectorizer"
   ]
  },
  {
   "cell_type": "code",
   "execution_count": 230,
   "metadata": {},
   "outputs": [],
   "source": [
    "\n",
    "# CountVectorizer# CountVe \n",
    "from sklearn.feature_extraction.text import CountVectorizer\n",
    "\n",
    "vect = CountVectorizer().fit(X_train)"
   ]
  },
  {
   "cell_type": "code",
   "execution_count": 231,
   "metadata": {},
   "outputs": [
    {
     "data": {
      "text/plain": [
       "['02', 'compliance', 'ground', 'opened', 'smith']"
      ]
     },
     "execution_count": 231,
     "metadata": {},
     "output_type": "execute_result"
    }
   ],
   "source": [
    "\n",
    "vect.get_feature_names()[::300]"
   ]
  },
  {
   "cell_type": "code",
   "execution_count": 232,
   "metadata": {},
   "outputs": [
    {
     "data": {
      "text/plain": [
       "1405"
      ]
     },
     "execution_count": 232,
     "metadata": {},
     "output_type": "execute_result"
    }
   ],
   "source": [
    "len(vect.get_feature_names())"
   ]
  },
  {
   "cell_type": "code",
   "execution_count": 233,
   "metadata": {},
   "outputs": [
    {
     "data": {
      "text/plain": [
       "<330x1405 sparse matrix of type '<class 'numpy.int64'>'\n",
       "\twith 4483 stored elements in Compressed Sparse Row format>"
      ]
     },
     "execution_count": 233,
     "metadata": {},
     "output_type": "execute_result"
    }
   ],
   "source": [
    "\n",
    "# transform the documents in the training data to a document-term matrix# transfo \n",
    "X_train_vectorized = vect.transform(X_train)\n",
    "X_train_vectorized"
   ]
  },
  {
   "cell_type": "code",
   "execution_count": 234,
   "metadata": {},
   "outputs": [
    {
     "data": {
      "text/plain": [
       "LinearRegression(copy_X=True, fit_intercept=True, n_jobs=1, normalize=False)"
      ]
     },
     "execution_count": 234,
     "metadata": {},
     "output_type": "execute_result"
    }
   ],
   "source": [
    "from sklearn.linear_model import LinearRegression\n",
    "\n",
    "model = LinearRegression()\n",
    "model.fit(X_train_vectorized, y_train)"
   ]
  },
  {
   "cell_type": "code",
   "execution_count": 235,
   "metadata": {},
   "outputs": [
    {
     "name": "stdout",
     "output_type": "stream",
     "text": [
      "R^2 score for Linear Regression:  0.16134814965729705\n"
     ]
    }
   ],
   "source": [
    "from sklearn.metrics import r2_score\n",
    "predictions = model.predict(vect.transform(X_test))\n",
    "print(\"R^2 score for Linear Regression: \",model.score(vect.transform(X_test), y_test))"
   ]
  },
  {
   "cell_type": "code",
   "execution_count": 236,
   "metadata": {},
   "outputs": [
    {
     "name": "stdout",
     "output_type": "stream",
     "text": [
      "Smallest Coefs: \n",
      "['02']\n",
      "\n",
      "Largest Coefs: \n",
      "['02']\n",
      "\n"
     ]
    }
   ],
   "source": [
    "# get the feature names as numpy array\n",
    "feature_names = np.array(vect.get_feature_names())\n",
    "\n",
    "# Sort the coefficients from the model\n",
    "sorted_coef_index = model.coef_[0].argsort()\n",
    "\n",
    "# Find the 10 smallest and 10 largest coefficients\n",
    "# The 10 largest coefficients are being indexed using [:-11:-1] \n",
    "# so the list returned is in order of largest to smallest\n",
    "print('Smallest Coefs: \\n{}\\n'.format(feature_names[sorted_coef_index[:10]]))\n",
    "print('Largest Coefs: \\n{}\\n'.format(feature_names[sorted_coef_index[:-11:-1]]))"
   ]
  },
  {
   "cell_type": "code",
   "execution_count": 237,
   "metadata": {},
   "outputs": [
    {
     "data": {
      "text/plain": [
       "208"
      ]
     },
     "execution_count": 237,
     "metadata": {},
     "output_type": "execute_result"
    }
   ],
   "source": [
    "#Tfidf\n",
    "from sklearn.feature_extraction.text import TfidfVectorizer\n",
    "\n",
    "# Fit the TfidfVectorizer to the training data specifiying a minimum document frequency of 5\n",
    "vect = TfidfVectorizer(min_df = 5).fit(X_train)\n",
    "len(vect.get_feature_names())"
   ]
  },
  {
   "cell_type": "code",
   "execution_count": 238,
   "metadata": {},
   "outputs": [
    {
     "name": "stdout",
     "output_type": "stream",
     "text": [
      "R^2 score for Linear Regression:  -0.6382541693048629\n"
     ]
    }
   ],
   "source": [
    "X_train_vectorized = vect.transform(X_train)\n",
    "\n",
    "model = LinearRegression()\n",
    "model.fit(X_train_vectorized, y_train)\n",
    "predictions = model.predict(vect.transform(X_test))\n",
    "print(\"R^2 score for Linear Regression: \",model.score(vect.transform(X_test), y_test))"
   ]
  },
  {
   "cell_type": "code",
   "execution_count": 239,
   "metadata": {},
   "outputs": [],
   "source": [
    "\n",
    "salaries_w_desc = salaries[salaries.summary.notnull()]\n",
    "\n",
    "X_title = salaries_w_desc.title\n",
    "y_title = salaries_w_desc.high_salary"
   ]
  },
  {
   "cell_type": "code",
   "execution_count": 240,
   "metadata": {},
   "outputs": [],
   "source": [
    "salaries_w_desc = salaries[salaries.summary.notnull()]\n",
    "\n",
    "X_title = salaries_w_desc.title\n",
    "y_title = salaries_w_desc.high_salary"
   ]
  },
  {
   "cell_type": "code",
   "execution_count": 241,
   "metadata": {},
   "outputs": [
    {
     "data": {
      "text/plain": [
       "CountVectorizer(analyzer='word', binary=False, decode_error='strict',\n",
       "        dtype=<class 'numpy.int64'>, encoding='utf-8', input='content',\n",
       "        lowercase=True, max_df=1.0, max_features=None, min_df=1,\n",
       "        ngram_range=(1, 1), preprocessor=None, stop_words='english',\n",
       "        strip_accents=None, token_pattern='(?u)\\\\b\\\\w\\\\w+\\\\b',\n",
       "        tokenizer=None, vocabulary=None)"
      ]
     },
     "execution_count": 241,
     "metadata": {},
     "output_type": "execute_result"
    }
   ],
   "source": [
    "\n",
    "cv  ==  CountVectorizer(stop_words=\"english\")\n",
    "cv.fit(X_title)"
   ]
  },
  {
   "cell_type": "code",
   "execution_count": 242,
   "metadata": {},
   "outputs": [],
   "source": [
    "X_title_trans = pd.DataFrame(cv.transform(X_title).todense(), columns=cv.get_feature_names())"
   ]
  },
  {
   "cell_type": "code",
   "execution_count": 243,
   "metadata": {},
   "outputs": [],
   "source": [
    "X_train, X_test, y_train, y_test = train_test_split(X_title_trans, y_title, test_size=0.3, random_state=59)"
   ]
  },
  {
   "cell_type": "code",
   "execution_count": 244,
   "metadata": {},
   "outputs": [
    {
     "name": "stdout",
     "output_type": "stream",
     "text": [
      "R^2 score for Linear Regression:  -1.2822647989512488e+24\n"
     ]
    },
    {
     "name": "stderr",
     "output_type": "stream",
     "text": [
      "/anaconda3/lib/python3.6/site-packages/ipykernel_launcher.py:4: FutureWarning: Method .as_matrix will be removed in a future version. Use .values instead.\n",
      "  after removing the cwd from sys.path.\n"
     ]
    }
   ],
   "source": [
    "model = LinearRegression()\n",
    "model.fit(X_train, y_train)\n",
    "predictions = model.predict(X_test)\n",
    "print(\"R^2 score for Linear Regression: \",model.score(X_title_trans.as_matrix(), y_title.as_matrix()))"
   ]
  },
  {
   "cell_type": "code",
   "execution_count": 245,
   "metadata": {},
   "outputs": [],
   "source": [
    "X_loc = salaries_w_desc.title"
   ]
  },
  {
   "cell_type": "code",
   "execution_count": 246,
   "metadata": {},
   "outputs": [],
   "source": [
    "salaries.location = pd.Categorical(salaries.location)\n",
    "salaries['loc_code'] = salaries.location.cat.codes\n",
    "columns = ['word_count','char_count','stopwords']\n",
    "salaries.drop(columns, inplace=True, axis=1)\n",
    "salaries.to_csv('indeed-results_final.csv', index=False, encoding='utf-8')"
   ]
  },
  {
   "cell_type": "code",
   "execution_count": 247,
   "metadata": {},
   "outputs": [
    {
     "data": {
      "text/html": [
       "<div>\n",
       "<style scoped>\n",
       "    .dataframe tbody tr th:only-of-type {\n",
       "        vertical-align: middle;\n",
       "    }\n",
       "\n",
       "    .dataframe tbody tr th {\n",
       "        vertical-align: top;\n",
       "    }\n",
       "\n",
       "    .dataframe thead th {\n",
       "        text-align: right;\n",
       "    }\n",
       "</style>\n",
       "<table border=\"1\" class=\"dataframe\">\n",
       "  <thead>\n",
       "    <tr style=\"text-align: right;\">\n",
       "      <th></th>\n",
       "      <th>location</th>\n",
       "      <th>title</th>\n",
       "      <th>company</th>\n",
       "      <th>salary</th>\n",
       "      <th>summary</th>\n",
       "      <th>high_salary</th>\n",
       "      <th>loc_code</th>\n",
       "    </tr>\n",
       "  </thead>\n",
       "  <tbody>\n",
       "    <tr>\n",
       "      <th>0</th>\n",
       "      <td>NY</td>\n",
       "      <td>data scientist</td>\n",
       "      <td>indify</td>\n",
       "      <td>130000.0</td>\n",
       "      <td>indify data scientist contribute aspect platfo...</td>\n",
       "      <td>1</td>\n",
       "      <td>15</td>\n",
       "    </tr>\n",
       "    <tr>\n",
       "      <th>1</th>\n",
       "      <td>NY</td>\n",
       "      <td>data scientist</td>\n",
       "      <td>WorldCover</td>\n",
       "      <td>90000.0</td>\n",
       "      <td>primary focus applying data mining technique s...</td>\n",
       "      <td>0</td>\n",
       "      <td>15</td>\n",
       "    </tr>\n",
       "    <tr>\n",
       "      <th>2</th>\n",
       "      <td>NY</td>\n",
       "      <td>data scientist</td>\n",
       "      <td>Scienaptic Systems Inc</td>\n",
       "      <td>100000.0</td>\n",
       "      <td>representative front client opportunity constr...</td>\n",
       "      <td>0</td>\n",
       "      <td>15</td>\n",
       "    </tr>\n",
       "    <tr>\n",
       "      <th>3</th>\n",
       "      <td>NY</td>\n",
       "      <td>data scientist</td>\n",
       "      <td>Enterprise Select</td>\n",
       "      <td>130000.0</td>\n",
       "      <td>deep knowledge applied statistic machine learn...</td>\n",
       "      <td>1</td>\n",
       "      <td>15</td>\n",
       "    </tr>\n",
       "    <tr>\n",
       "      <th>4</th>\n",
       "      <td>NY</td>\n",
       "      <td>senior research analyst</td>\n",
       "      <td>Research Foundation of The City Univer...</td>\n",
       "      <td>75000.0</td>\n",
       "      <td>overseeing project activity related data colle...</td>\n",
       "      <td>0</td>\n",
       "      <td>15</td>\n",
       "    </tr>\n",
       "  </tbody>\n",
       "</table>\n",
       "</div>"
      ],
      "text/plain": [
       "  location                    title  \\\n",
       "0       NY           data scientist   \n",
       "1       NY           data scientist   \n",
       "2       NY           data scientist   \n",
       "3       NY           data scientist   \n",
       "4       NY  senior research analyst   \n",
       "\n",
       "                                             company    salary  \\\n",
       "0                                             indify  130000.0   \n",
       "1                                         WorldCover   90000.0   \n",
       "2                             Scienaptic Systems Inc  100000.0   \n",
       "3                                  Enterprise Select  130000.0   \n",
       "4          Research Foundation of The City Univer...   75000.0   \n",
       "\n",
       "                                             summary  high_salary  loc_code  \n",
       "0  indify data scientist contribute aspect platfo...            1        15  \n",
       "1  primary focus applying data mining technique s...            0        15  \n",
       "2  representative front client opportunity constr...            0        15  \n",
       "3  deep knowledge applied statistic machine learn...            1        15  \n",
       "4  overseeing project activity related data colle...            0        15  "
      ]
     },
     "execution_count": 247,
     "metadata": {},
     "output_type": "execute_result"
    }
   ],
   "source": [
    "#remove white spaces in columns names:\n",
    "final = pd.read_csv('indeed-results_final.csv')\n",
    "final.head()\n",
    "salaries_reg = final\n",
    "salaries_reg.head()"
   ]
  },
  {
   "cell_type": "code",
   "execution_count": 248,
   "metadata": {},
   "outputs": [
    {
     "data": {
      "text/plain": [
       "Index(['location', 'title', 'company', 'salary', 'summary', 'high_salary',\n",
       "       'loc_code'],\n",
       "      dtype='object')"
      ]
     },
     "execution_count": 248,
     "metadata": {},
     "output_type": "execute_result"
    }
   ],
   "source": [
    "salaries_reg.columns"
   ]
  },
  {
   "cell_type": "code",
   "execution_count": 249,
   "metadata": {},
   "outputs": [
    {
     "data": {
      "text/html": [
       "<div>\n",
       "<style scoped>\n",
       "    .dataframe tbody tr th:only-of-type {\n",
       "        vertical-align: middle;\n",
       "    }\n",
       "\n",
       "    .dataframe tbody tr th {\n",
       "        vertical-align: top;\n",
       "    }\n",
       "\n",
       "    .dataframe thead th {\n",
       "        text-align: right;\n",
       "    }\n",
       "</style>\n",
       "<table border=\"1\" class=\"dataframe\">\n",
       "  <thead>\n",
       "    <tr style=\"text-align: right;\">\n",
       "      <th></th>\n",
       "      <th>loc_code</th>\n",
       "      <th>salary</th>\n",
       "      <th>high_salary</th>\n",
       "    </tr>\n",
       "  </thead>\n",
       "  <tbody>\n",
       "    <tr>\n",
       "      <th>0</th>\n",
       "      <td>15</td>\n",
       "      <td>130000.0</td>\n",
       "      <td>1</td>\n",
       "    </tr>\n",
       "    <tr>\n",
       "      <th>1</th>\n",
       "      <td>15</td>\n",
       "      <td>90000.0</td>\n",
       "      <td>0</td>\n",
       "    </tr>\n",
       "    <tr>\n",
       "      <th>2</th>\n",
       "      <td>15</td>\n",
       "      <td>100000.0</td>\n",
       "      <td>0</td>\n",
       "    </tr>\n",
       "    <tr>\n",
       "      <th>3</th>\n",
       "      <td>15</td>\n",
       "      <td>130000.0</td>\n",
       "      <td>1</td>\n",
       "    </tr>\n",
       "    <tr>\n",
       "      <th>4</th>\n",
       "      <td>15</td>\n",
       "      <td>75000.0</td>\n",
       "      <td>0</td>\n",
       "    </tr>\n",
       "  </tbody>\n",
       "</table>\n",
       "</div>"
      ],
      "text/plain": [
       "   loc_code    salary  high_salary\n",
       "0        15  130000.0            1\n",
       "1        15   90000.0            0\n",
       "2        15  100000.0            0\n",
       "3        15  130000.0            1\n",
       "4        15   75000.0            0"
      ]
     },
     "execution_count": 249,
     "metadata": {},
     "output_type": "execute_result"
    }
   ],
   "source": [
    "columns = ['location','title', 'company', 'summary']\n",
    "salaries_reg.drop(columns, inplace=True, axis=1)\n",
    "salaries_reg = salaries_reg[['loc_code','salary','high_salary']]\n",
    "salaries_reg.head()"
   ]
  },
  {
   "cell_type": "code",
   "execution_count": 250,
   "metadata": {},
   "outputs": [],
   "source": [
    "#dis_x = salaries_reg.drop('salary', axis = 1)\n",
    "#dis_y = salaries_reg['salary']"
   ]
  },
  {
   "cell_type": "code",
   "execution_count": 251,
   "metadata": {},
   "outputs": [],
   "source": [
    "#target = df.loc[:, ['salary']]"
   ]
  },
  {
   "cell_type": "code",
   "execution_count": 252,
   "metadata": {},
   "outputs": [],
   "source": [
    "                    X_train, X_test, y_train, y_test = train_test_split(salaries_reg,dis_y)"
   ]
  },
  {
   "cell_type": "code",
   "execution_count": 253,
   "metadata": {},
   "outputs": [
    {
     "data": {
      "text/plain": [
       "(370, 3)"
      ]
     },
     "execution_count": 253,
     "metadata": {},
     "output_type": "execute_result"
    }
   ],
   "source": [
    "X_train.shape"
   ]
  },
  {
   "cell_type": "code",
   "execution_count": 254,
   "metadata": {},
   "outputs": [
    {
     "data": {
      "text/plain": [
       "(124, 3)"
      ]
     },
     "execution_count": 254,
     "metadata": {},
     "output_type": "execute_result"
    }
   ],
   "source": [
    "\n",
    "X_test.shape"
   ]
  },
  {
   "cell_type": "code",
   "execution_count": 255,
   "metadata": {},
   "outputs": [
    {
     "data": {
      "text/plain": [
       "(370,)"
      ]
     },
     "execution_count": 255,
     "metadata": {},
     "output_type": "execute_result"
    }
   ],
   "source": [
    "y_train.shape"
   ]
  },
  {
   "cell_type": "code",
   "execution_count": 256,
   "metadata": {},
   "outputs": [
    {
     "data": {
      "text/plain": [
       "(124,)"
      ]
     },
     "execution_count": 256,
     "metadata": {},
     "output_type": "execute_result"
    }
   ],
   "source": [
    "y_test.shape"
   ]
  },
  {
   "cell_type": "code",
   "execution_count": 257,
   "metadata": {},
   "outputs": [],
   "source": [
    "salaries['high_salary'] = [1 if i > median_salary else 0 for i in salaries.salary]"
   ]
  },
  {
   "cell_type": "code",
   "execution_count": 258,
   "metadata": {},
   "outputs": [
    {
     "data": {
      "text/html": [
       "<div>\n",
       "<style scoped>\n",
       "    .dataframe tbody tr th:only-of-type {\n",
       "        vertical-align: middle;\n",
       "    }\n",
       "\n",
       "    .dataframe tbody tr th {\n",
       "        vertical-align: top;\n",
       "    }\n",
       "\n",
       "    .dataframe thead th {\n",
       "        text-align: right;\n",
       "    }\n",
       "</style>\n",
       "<table border=\"1\" class=\"dataframe\">\n",
       "  <thead>\n",
       "    <tr style=\"text-align: right;\">\n",
       "      <th></th>\n",
       "      <th>location</th>\n",
       "      <th>title</th>\n",
       "      <th>company</th>\n",
       "      <th>salary</th>\n",
       "      <th>summary</th>\n",
       "      <th>high_salary</th>\n",
       "      <th>loc_code</th>\n",
       "    </tr>\n",
       "  </thead>\n",
       "  <tbody>\n",
       "    <tr>\n",
       "      <th>0</th>\n",
       "      <td>NY</td>\n",
       "      <td>data scientist</td>\n",
       "      <td>indify</td>\n",
       "      <td>130000.0</td>\n",
       "      <td>indify data scientist contribute aspect platfo...</td>\n",
       "      <td>1</td>\n",
       "      <td>15</td>\n",
       "    </tr>\n",
       "    <tr>\n",
       "      <th>1</th>\n",
       "      <td>NY</td>\n",
       "      <td>data scientist</td>\n",
       "      <td>WorldCover</td>\n",
       "      <td>90000.0</td>\n",
       "      <td>primary focus applying data mining technique s...</td>\n",
       "      <td>0</td>\n",
       "      <td>15</td>\n",
       "    </tr>\n",
       "    <tr>\n",
       "      <th>2</th>\n",
       "      <td>NY</td>\n",
       "      <td>data scientist</td>\n",
       "      <td>Scienaptic Systems Inc</td>\n",
       "      <td>100000.0</td>\n",
       "      <td>representative front client opportunity constr...</td>\n",
       "      <td>0</td>\n",
       "      <td>15</td>\n",
       "    </tr>\n",
       "    <tr>\n",
       "      <th>3</th>\n",
       "      <td>NY</td>\n",
       "      <td>data scientist</td>\n",
       "      <td>Enterprise Select</td>\n",
       "      <td>130000.0</td>\n",
       "      <td>deep knowledge applied statistic machine learn...</td>\n",
       "      <td>1</td>\n",
       "      <td>15</td>\n",
       "    </tr>\n",
       "    <tr>\n",
       "      <th>4</th>\n",
       "      <td>NY</td>\n",
       "      <td>senior research analyst</td>\n",
       "      <td>Research Foundation of The City Univer...</td>\n",
       "      <td>75000.0</td>\n",
       "      <td>overseeing project activity related data colle...</td>\n",
       "      <td>0</td>\n",
       "      <td>15</td>\n",
       "    </tr>\n",
       "  </tbody>\n",
       "</table>\n",
       "</div>"
      ],
      "text/plain": [
       "  location                    title  \\\n",
       "0       NY           data scientist   \n",
       "1       NY           data scientist   \n",
       "2       NY           data scientist   \n",
       "3       NY           data scientist   \n",
       "4       NY  senior research analyst   \n",
       "\n",
       "                                             company    salary  \\\n",
       "0                                             indify  130000.0   \n",
       "1                                         WorldCover   90000.0   \n",
       "2                             Scienaptic Systems Inc  100000.0   \n",
       "3                                  Enterprise Select  130000.0   \n",
       "4          Research Foundation of The City Univer...   75000.0   \n",
       "\n",
       "                                             summary  high_salary  loc_code  \n",
       "0  indify data scientist contribute aspect platfo...            1        15  \n",
       "1  primary focus applying data mining technique s...            0        15  \n",
       "2  representative front client opportunity constr...            0        15  \n",
       "3  deep knowledge applied statistic machine learn...            1        15  \n",
       "4  overseeing project activity related data colle...            0        15  "
      ]
     },
     "execution_count": 258,
     "metadata": {},
     "output_type": "execute_result"
    }
   ],
   "source": [
    "salaries.head()"
   ]
  },
  {
   "cell_type": "markdown",
   "metadata": {},
   "source": [
    "# DECISION TREE USING PYTHON"
   ]
  },
  {
   "cell_type": "code",
   "execution_count": 259,
   "metadata": {},
   "outputs": [],
   "source": [
    "from sklearn.tree import DecisionTreeRegressor"
   ]
  },
  {
   "cell_type": "code",
   "execution_count": 260,
   "metadata": {},
   "outputs": [],
   "source": [
    "regr = DecisionTreeRegressor(max_depth = 3)"
   ]
  },
  {
   "cell_type": "code",
   "execution_count": 261,
   "metadata": {},
   "outputs": [
    {
     "data": {
      "text/plain": [
       "DecisionTreeRegressor(criterion='mse', max_depth=3, max_features=None,\n",
       "           max_leaf_nodes=None, min_impurity_decrease=0.0,\n",
       "           min_impurity_split=None, min_samples_leaf=1,\n",
       "           min_samples_split=2, min_weight_fraction_leaf=0.0,\n",
       "           presort=False, random_state=None, splitter='best')"
      ]
     },
     "execution_count": 261,
     "metadata": {},
     "output_type": "execute_result"
    }
   ],
   "source": [
    "regr.fit(X_train, y_train)"
   ]
  },
  {
   "cell_type": "code",
   "execution_count": 262,
   "metadata": {},
   "outputs": [
    {
     "data": {
      "text/plain": [
       "array([151088.40677966])"
      ]
     },
     "execution_count": 262,
     "metadata": {},
     "output_type": "execute_result"
    }
   ],
   "source": [
    "regr.predict(X_test.iloc[0].values.reshape(1, -1))"
   ]
  },
  {
   "cell_type": "code",
   "execution_count": 263,
   "metadata": {},
   "outputs": [
    {
     "data": {
      "text/plain": [
       "<matplotlib.axes._subplots.AxesSubplot at 0x1c330bf898>"
      ]
     },
     "execution_count": 263,
     "metadata": {},
     "output_type": "execute_result"
    },
    {
     "data": {
      "image/png": "[encoded data removed]",
      "text/plain": [
       "<Figure size 864x864 with 2 Axes>"
      ]
     },
     "metadata": {},
     "output_type": "display_data"
    }
   ],
   "source": [
    "colormap = plt.cm.viridis\n",
    "plt.figure(figsize=(12,12))\n",
    "plt.title('Correlation of Features', y=1.05, size=15)\n",
    "sns.heatmap(X_train.astype(float).corr(),linewidths=0.1,vmax=1.0, square=True, cmap=colormap, linecolor='white', annot=True)"
   ]
  },
  {
   "cell_type": "code",
   "execution_count": 264,
   "metadata": {},
   "outputs": [],
   "source": [
    "from sklearn import tree"
   ]
  },
  {
   "cell_type": "code",
   "execution_count": 265,
   "metadata": {},
   "outputs": [],
   "source": [
    "tree.export_graphviz(regr,\n",
    "                     out_file = 'salary_loc.dot',\n",
    "                     feature_names = salaries_reg.columns.values)"
   ]
  },
  {
   "cell_type": "code",
   "execution_count": 266,
   "metadata": {},
   "outputs": [],
   "source": [
    "!dot -Tpng salary_loc.dot -o salary_loc_tree.png"
   ]
  },
  {
   "cell_type": "code",
   "execution_count": 267,
   "metadata": {},
   "outputs": [
    {
     "data": {
      "image/png": "[encoded data removed]",
      "text/plain": [
       "<IPython.core.display.Image object>"
      ]
     },
     "execution_count": 267,
     "metadata": {},
     "output_type": "execute_result"
    }
   ],
   "source": [
    "from IPython.display import Image\n",
    "PATH = !pwd\n",
    "Image(filename = PATH[0] + \"/salary_loc_tree.png\")"
   ]
  },
  {
   "cell_type": "code",
   "execution_count": 268,
   "metadata": {},
   "outputs": [
    {
     "data": {
      "text/plain": [
       "97.5"
      ]
     },
     "execution_count": 268,
     "metadata": {},
     "output_type": "execute_result"
    }
   ],
   "source": [
    "acc_decision_tree = round(regr.score(X_train, y_train) * 100, 2)\n",
    "acc_decision_tree"
   ]
  },
  {
   "cell_type": "code",
   "execution_count": null,
   "metadata": {},
   "outputs": [],
   "source": []
  }
 ],
 "metadata": {
  "kernelspec": {
   "display_name": "Python 3",
   "language": "python",
   "name": "python3"
  },
  "language_info": {
   "codemirror_mode": {
    "name": "ipython",
    "version": 3
   },
   "file_extension": ".py",
   "mimetype": "text/x-python",
   "name": "python",
   "nbconvert_exporter": "python",
   "pygments_lexer": "ipython3",
   "version": "3.6.5"
  }
 },
 "nbformat": 4,
 "nbformat_minor": 2
}
